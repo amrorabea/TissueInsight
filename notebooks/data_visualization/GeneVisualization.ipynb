{
 "cells": [
  {
   "cell_type": "code",
   "execution_count": 2,
   "metadata": {},
   "outputs": [],
   "source": [
    "import pandas as pd\n",
    "import numpy as np\n",
    "import matplotlib.pyplot as plt\n",
    "import seaborn as sns\n",
    "import plotly.express as px\n",
    "import os\n",
    "\n"
   ]
  },
  {
   "cell_type": "code",
   "execution_count": 3,
   "metadata": {},
   "outputs": [],
   "source": [
    "# print(\"\")\n",
    "meta = pd.read_csv(\"../../data/meta_all_gene.csv\")"
   ]
  },
  {
   "cell_type": "markdown",
   "metadata": {},
   "source": [
    "####  Create a separate CSV file to extract the slide name and involve_cancer data from the metadata file."
   ]
  },
  {
   "cell_type": "code",
   "execution_count": 4,
   "metadata": {},
   "outputs": [
    {
     "name": "stdout",
     "output_type": "stream",
     "text": [
      "$ Slide file created: ../../data/slide_info/skin_slide_info.csv\n",
      "$ Slide file created: ../../data/slide_info/breast_slide_info.csv\n",
      "$ Slide file created: ../../data/slide_info/heart_slide_info.csv\n",
      "$ Slide file created: ../../data/slide_info/brain_slide_info.csv\n",
      "$ Slide file created: ../../data/slide_info/colon_slide_info.csv\n",
      "$ Slide file created: ../../data/slide_info/kidney_slide_info.csv\n",
      "$ Slide file created: ../../data/slide_info/ovary_slide_info.csv\n",
      "$ Slide file created: ../../data/slide_info/liver_slide_info.csv\n",
      "$ Slide file created: ../../data/slide_info/glioma_slide_info.csv\n",
      "$ Slide file created: ../../data/slide_info/pancreas_slide_info.csv\n",
      "$ Slide file created: ../../data/slide_info/spleen_slide_info.csv\n",
      "$ Slide file created: ../../data/slide_info/mouth_slide_info.csv\n",
      "$ Slide file created: ../../data/slide_info/root_slide_info.csv\n",
      "$ Slide file created: ../../data/slide_info/prostate_slide_info.csv\n"
     ]
    }
   ],
   "source": [
    "# import pandas as pd\n",
    "\n",
    "def save_slides(meta):\n",
    "    # Define file path\n",
    "    \n",
    "    slide_dir = os.path.join(\"../../data/slide_info\")  \n",
    "    os.makedirs(slide_dir, exist_ok=True)\n",
    "    tissue_counts = meta['tissue'].value_counts()\n",
    "    valid_tissues = tissue_counts[tissue_counts > 15].index\n",
    "    filtered_meta = meta[meta['tissue'].isin(valid_tissues)]\n",
    "\n",
    "    # Get unique tissues\n",
    "    tissues = filtered_meta['tissue'].unique()\n",
    "\n",
    "    # Loop through each tissue and save its slide info\n",
    "    for tissue in tissues:\n",
    "        # Filter metadata for the current tissue\n",
    "        filtered_meta = meta[meta['tissue'] == tissue][['slide', 'involve_cancer']]\n",
    "\n",
    "        # Save to CSV\n",
    "        file_path = f\"{slide_dir}/{tissue}_slide_info.csv\"\n",
    "        filtered_meta.to_csv(file_path, index=False)\n",
    "\n",
    "        print(f\"$ Slide file created: {file_path}\")\n",
    "\n",
    "# Example usage\n",
    "save_slides(meta)  # Assuming `meta` is your metadata DataFrame\n"
   ]
  },
  {
   "cell_type": "markdown",
   "metadata": {},
   "source": [
    "### Gene Pre Processing"
   ]
  },
  {
   "cell_type": "code",
   "execution_count": 5,
   "metadata": {},
   "outputs": [],
   "source": [
    "output_dir = \"../../data/gene_analyses/brain\"\n",
    "os.makedirs(output_dir, exist_ok=True)\n",
    "# Path to gene expression files\n",
    "gene_exp_dir = \"../../data/Visium/gene_exp\"\n"
   ]
  },
  {
   "cell_type": "markdown",
   "metadata": {},
   "source": [
    "##### Separate cancerous and healthy slides"
   ]
  },
  {
   "cell_type": "code",
   "execution_count": 6,
   "metadata": {},
   "outputs": [],
   "source": [
    "# Load brain slides info\n",
    "brain_slides = pd.read_csv(\"../../data/slide_info/brain_slide_info.csv\")\n",
    "\n",
    "# Separate cancerous and healthy slides\n",
    "cancer_slides = brain_slides[brain_slides[\"involve_cancer\"] == True][\"slide\"]\n",
    "healthy_slides = brain_slides[brain_slides[\"involve_cancer\"] == False][\"slide\"]\n"
   ]
  },
  {
   "cell_type": "markdown",
   "metadata": {},
   "source": [
    "#### Determine the number of cancerous and healthy slides downloaded."
   ]
  },
  {
   "cell_type": "code",
   "execution_count": 7,
   "metadata": {},
   "outputs": [
    {
     "name": "stderr",
     "output_type": "stream",
     "text": [
      "C:\\Users\\asus\\AppData\\Local\\Temp\\ipykernel_22876\\2988079446.py:20: FutureWarning: \n",
      "\n",
      "Passing `palette` without assigning `hue` is deprecated and will be removed in v0.14.0. Assign the `x` variable to `hue` and set `legend=False` for the same effect.\n",
      "\n",
      "  sns.barplot(x=\"Category\", y=\"Count\", data=slide_counts, palette=[\"red\", \"green\"])\n"
     ]
    },
    {
     "data": {
      "image/png": "[encoded data removed]",
      "text/plain": [
       "<Figure size 600x400 with 1 Axes>"
      ]
     },
     "metadata": {},
     "output_type": "display_data"
    },
    {
     "name": "stdout",
     "output_type": "stream",
     "text": [
      "✅ Cancerous slides: 7, Healthy slides: 6\n"
     ]
    }
   ],
   "source": [
    "# Extract downloaded slide names (remove file extensions)\n",
    "downloaded_slides = {f.split(\"_count.csv\")[0] for f in os.listdir(gene_exp_dir) if f.endswith(\"_count.csv\")}\n",
    "\n",
    "# Filter metadata to include only slides that were actually downloaded\n",
    "filtered_slides = brain_slides[brain_slides[\"slide\"].isin(downloaded_slides)]\n",
    "\n",
    "# Ensure 'involve_cancer' column exists\n",
    "if \"involve_cancer\" not in filtered_slides.columns:\n",
    "    raise ValueError(\"Error: The metadata file does not contain 'involve_cancer' column!\")\n",
    "\n",
    "# Count cancerous and healthy slides\n",
    "num_cancerous = filtered_slides[\"involve_cancer\"].sum()\n",
    "num_healthy = len(filtered_slides) - num_cancerous\n",
    "\n",
    "# Create a DataFrame for visualization\n",
    "slide_counts = pd.DataFrame({\"Category\": [\"Cancerous\", \"Healthy\"], \"Count\": [num_cancerous, num_healthy]})\n",
    "\n",
    "# Plot bar chart\n",
    "plt.figure(figsize=(6, 4))\n",
    "sns.barplot(x=\"Category\", y=\"Count\", data=slide_counts, palette=[\"red\", \"green\"])\n",
    "plt.title(\"Number of Downloaded Slides for Cancerous and Healthy Tissues\")\n",
    "plt.ylabel(\"Number of Slides\")\n",
    "plt.show()\n",
    "\n",
    "print(f\"✅ Cancerous slides: {num_cancerous}, Healthy slides: {num_healthy}\")"
   ]
  },
  {
   "cell_type": "markdown",
   "metadata": {},
   "source": [
    "### Step1: Compute Average Gene Expression for Each Group\n",
    "In this step, we calculate the average expression levels of each gene separately for cancerous and healthy tissue samples. This helps us summarize the expression data. The resul\n",
    "ts are two files one for cancerous and one for health tissues that contain the gene and the mean of the activity of this gene in all available slides of this part."
   ]
  },
  {
   "cell_type": "markdown",
   "metadata": {},
   "source": [
    "* #### Function to compute average gene expression for a given slide"
   ]
  },
  {
   "cell_type": "code",
   "execution_count": 8,
   "metadata": {},
   "outputs": [],
   "source": [
    "\n",
    "def compute_avg_expression(slide_name):\n",
    "    file_path = os.path.join(gene_exp_dir, f\"{slide_name}_count.csv\")\n",
    "    \n",
    "    if not os.path.exists(file_path):\n",
    "        return None  \n",
    "\n",
    "    df = pd.read_csv(file_path, index_col=0)  \n",
    "    avg_expression = df.mean(axis=0)\n",
    "\n",
    "    return avg_expression"
   ]
  },
  {
   "cell_type": "markdown",
   "metadata": {},
   "source": [
    "* #### Calculate the average gene expression per slide."
   ]
  },
  {
   "cell_type": "code",
   "execution_count": 9,
   "metadata": {},
   "outputs": [],
   "source": [
    "# Define input directories\n",
    "output_dir = \"../../data/gene_analyses/brain/gen_exp_avg\"\n",
    "os.makedirs(output_dir, exist_ok=True)"
   ]
  },
  {
   "cell_type": "code",
   "execution_count": 13,
   "metadata": {},
   "outputs": [
    {
     "name": "stdout",
     "output_type": "stream",
     "text": [
      "✅ Per-slide gene expression saved for cancerous and healthy samples.\n"
     ]
    }
   ],
   "source": [
    "\n",
    "\n",
    "# Dictionaries to store per-slide gene expression\n",
    "cancerous_dict = {}\n",
    "healthy_dict = {}\n",
    "\n",
    "# Loop through each slide and compute average expression\n",
    "for _, row in brain_slides.iterrows():\n",
    "    slide_name = row[\"slide\"]\n",
    "    is_cancerous = row[\"involve_cancer\"]  # True = cancerous, False = healthy\n",
    "    \n",
    "    # Compute average gene expression for the slide\n",
    "    avg_expression = compute_avg_expression(slide_name)\n",
    "    \n",
    "    if avg_expression is not None:\n",
    "        if is_cancerous:\n",
    "            cancerous_dict[slide_name] = avg_expression  # Store per-slide result\n",
    "        else:\n",
    "            healthy_dict[slide_name] = avg_expression  # Store per-slide result\n",
    "\n",
    "# Convert per-slide data to DataFrames\n",
    "cancerous_df = pd.DataFrame(cancerous_dict)\n",
    "healthy_df = pd.DataFrame(healthy_dict)\n",
    "\n",
    "# Save per-slide gene expression files\n",
    "cancerous_df.to_csv(os.path.join(output_dir, \"cancerous_per_slide_gene_expression.csv\"))\n",
    "healthy_df.to_csv(os.path.join(output_dir, \"healthy_per_slide_gene_expression.csv\"))\n",
    "\n",
    "print(\"✅ Per-slide gene expression saved for cancerous and healthy samples.\")\n"
   ]
  },
  {
   "cell_type": "code",
   "execution_count": 14,
   "metadata": {},
   "outputs": [],
   "source": [
    "# Load per-slide gene expression data\n",
    "cancerous_per_slide = pd.read_csv(\"../../data/gene_analyses/brain/gen_exp_avg/cancerous_per_slide_gene_expression.csv\", index_col=0)\n",
    "healthy_per_slide = pd.read_csv(\"../../data/gene_analyses/brain/gen_exp_avg/healthy_per_slide_gene_expression.csv\", index_col=0)"
   ]
  },
  {
   "cell_type": "code",
   "execution_count": 15,
   "metadata": {},
   "outputs": [
    {
     "data": {
      "image/png": "[encoded data removed]",
      "text/plain": [
       "<Figure size 800x500 with 1 Axes>"
      ]
     },
     "metadata": {},
     "output_type": "display_data"
    }
   ],
   "source": [
    "# Flatten expression values and remove outliers (exp > 10)\n",
    "filtered_cancerous = cancerous_per_slide.values.flatten()\n",
    "filtered_healthy = healthy_per_slide.values.flatten()\n",
    "\n",
    "filtered_cancerous = filtered_cancerous[filtered_cancerous <= 1000]\n",
    "filtered_healthy = filtered_healthy[filtered_healthy <= 1000]\n",
    "\n",
    "plt.figure(figsize=(8, 5))\n",
    "sns.histplot(filtered_cancerous, bins=50, kde=True, color=\"red\", label=\"Cancerous\")\n",
    "sns.histplot(filtered_healthy, bins=50, kde=True, color=\"blue\", label=\"Healthy\")\n",
    "plt.axvline(x=0.01, color=\"black\", linestyle=\"dashed\", label=\"Threshold (0.01)\")\n",
    "plt.xlabel(\"Gene Expression Level (Filtered)\")\n",
    "plt.ylabel(\"Frequency\")\n",
    "plt.legend()\n",
    "plt.title(\"Gene Expression Distribution (Outliers Removed)\")\n",
    "plt.show()"
   ]
  },
  {
   "cell_type": "code",
   "execution_count": 16,
   "metadata": {},
   "outputs": [
    {
     "name": "stdout",
     "output_type": "stream",
     "text": [
      "Suggested threshold: 0.00043\n"
     ]
    }
   ],
   "source": [
    "min_nonzero_expression = np.percentile(np.concatenate((filtered_cancerous[filtered_cancerous > 0], \n",
    "                                                       filtered_healthy[filtered_healthy > 0])), 5)\n",
    "print(f\"Suggested threshold: {min_nonzero_expression:.5f}\")\n"
   ]
  },
  {
   "cell_type": "markdown",
   "metadata": {},
   "source": [
    "* #### Filtering Low-Presence Genes Based on Expression Threshold.\n",
    " I dropped the genes that has a value less than 0.01 and didn't appear in 90% of the of the total slides i have "
   ]
  },
  {
   "cell_type": "code",
   "execution_count": 18,
   "metadata": {},
   "outputs": [
    {
     "name": "stdout",
     "output_type": "stream",
     "text": [
      "Total low-presence cancerous genes found: 19408\n",
      "Total low-presence healthy genes found: 20991\n"
     ]
    }
   ],
   "source": [
    "# Define minimum threshold for presence (adjustable)\n",
    "MIN_EXPRESSION_THRESHOLD = 0.01  # Values below this are considered absent\n",
    "\n",
    "# Apply threshold for presence detection\n",
    "cancerous_presence = (cancerous_per_slide >= MIN_EXPRESSION_THRESHOLD).astype(int)\n",
    "healthy_presence = (healthy_per_slide >= MIN_EXPRESSION_THRESHOLD).astype(int)\n",
    "\n",
    "# Count how many slides each gene appears in\n",
    "cancerous_presence_count = cancerous_presence.sum(axis=1)\n",
    "healthy_presence_count = healthy_presence.sum(axis=1)\n",
    "\n",
    "# Calculate presence percentage across slides\n",
    "cancerous_percentage = cancerous_presence_count / cancerous_per_slide.shape[1]\n",
    "healthy_percentage = healthy_presence_count / healthy_per_slide.shape[1]\n",
    "\n",
    "# Define a presence threshold (genes appearing in ≤5% of slides are considered absent)\n",
    "PRESENCE_THRESHOLD = 0.1 \n",
    "\n",
    "# Select genes appearing in very few slides\n",
    "selected_cancerous_genes = cancerous_percentage[cancerous_percentage <= PRESENCE_THRESHOLD].index\n",
    "selected_healthy_genes = healthy_percentage[healthy_percentage <= PRESENCE_THRESHOLD].index\n",
    "\n",
    "# Store in DataFrames\n",
    "selected_cancerous_genes_df = pd.DataFrame(selected_cancerous_genes, columns=[\"Gene\"])\n",
    "selected_healthy_genes_df = pd.DataFrame(selected_healthy_genes, columns=[\"Gene\"])\n",
    "\n",
    "# Save to CSV (optional)\n",
    "# selected_cancerous_genes_df.to_csv(f\"{output_dir}/selected_cancer_genes.csv\", index=False)\n",
    "\n",
    "# Display results\n",
    "print(f\"Total low-presence cancerous genes found: {len(selected_cancerous_genes_df)}\")\n",
    "print(f\"Total low-presence healthy genes found: {len(selected_healthy_genes_df)}\")\n"
   ]
  },
  {
   "cell_type": "code",
   "execution_count": 19,
   "metadata": {},
   "outputs": [
    {
     "data": {
      "text/html": [
       "<div>\n",
       "<style scoped>\n",
       "    .dataframe tbody tr th:only-of-type {\n",
       "        vertical-align: middle;\n",
       "    }\n",
       "\n",
       "    .dataframe tbody tr th {\n",
       "        vertical-align: top;\n",
       "    }\n",
       "\n",
       "    .dataframe thead th {\n",
       "        text-align: right;\n",
       "    }\n",
       "</style>\n",
       "<table border=\"1\" class=\"dataframe\">\n",
       "  <thead>\n",
       "    <tr style=\"text-align: right;\">\n",
       "      <th></th>\n",
       "      <th>Gene</th>\n",
       "    </tr>\n",
       "  </thead>\n",
       "  <tbody>\n",
       "    <tr>\n",
       "      <th>0</th>\n",
       "      <td>A1CF</td>\n",
       "    </tr>\n",
       "    <tr>\n",
       "      <th>1</th>\n",
       "      <td>A2ML1-AS1</td>\n",
       "    </tr>\n",
       "    <tr>\n",
       "      <th>2</th>\n",
       "      <td>A2ML1-AS2</td>\n",
       "    </tr>\n",
       "    <tr>\n",
       "      <th>3</th>\n",
       "      <td>A3GALT2</td>\n",
       "    </tr>\n",
       "    <tr>\n",
       "      <th>4</th>\n",
       "      <td>A4GNT</td>\n",
       "    </tr>\n",
       "  </tbody>\n",
       "</table>\n",
       "</div>"
      ],
      "text/plain": [
       "        Gene\n",
       "0       A1CF\n",
       "1  A2ML1-AS1\n",
       "2  A2ML1-AS2\n",
       "3    A3GALT2\n",
       "4      A4GNT"
      ]
     },
     "execution_count": 19,
     "metadata": {},
     "output_type": "execute_result"
    }
   ],
   "source": [
    "selected_cancerous_genes_df.head()\n"
   ]
  },
  {
   "cell_type": "markdown",
   "metadata": {},
   "source": [
    "* #### Identifying Genes Absent in Both Cancerous and Healthy Samples"
   ]
  },
  {
   "cell_type": "code",
   "execution_count": 20,
   "metadata": {},
   "outputs": [
    {
     "name": "stdout",
     "output_type": "stream",
     "text": [
      "Total genes absent in both cancerous and healthy slides: 17333\n"
     ]
    }
   ],
   "source": [
    "\n",
    "# Select genes that are completely absent (0%) in both cancerous and healthy slides\n",
    "genes_absent_in_both = cancerous_percentage[(cancerous_percentage <= PRESENCE_THRESHOLD) & (healthy_percentage <= PRESENCE_THRESHOLD)].index\n",
    "\n",
    "# Store in a DataFrame\n",
    "genes_absent_in_both_df = pd.DataFrame(genes_absent_in_both, columns=[\"Gene\"])\n",
    "# Display results\n",
    "print(f\"Total genes absent in both cancerous and healthy slides: {len(genes_absent_in_both_df)}\")\n",
    "# genes_absent_in_both_df.head()"
   ]
  },
  {
   "cell_type": "markdown",
   "metadata": {},
   "source": [
    "* #### Removing Genes Absent in Both Conditions."
   ]
  },
  {
   "cell_type": "code",
   "execution_count": 21,
   "metadata": {},
   "outputs": [
    {
     "name": "stdout",
     "output_type": "stream",
     "text": [
      "Total cancerous genes after removal: 2075\n",
      "Total healthy genes after removal: 3658\n"
     ]
    }
   ],
   "source": [
    "\n",
    "selected_cancerous_genes_df = selected_cancerous_genes_df.loc[\n",
    "    ~selected_cancerous_genes_df[\"Gene\"].isin(genes_absent_in_both_df[\"Gene\"])\n",
    "]\n",
    "selected_healthy_genes_df = selected_healthy_genes_df.loc[\n",
    "    ~selected_healthy_genes_df[\"Gene\"].isin(genes_absent_in_both_df[\"Gene\"])\n",
    "]\n",
    "# Drop genes that are absent in both from cancerous and healthy gene DataFrames\n",
    "\n",
    "# Display results\n",
    "print(f\"Total cancerous genes after removal: {len(selected_cancerous_genes_df)}\")\n",
    "print(f\"Total healthy genes after removal: {len(selected_healthy_genes_df)}\")\n",
    "\n"
   ]
  },
  {
   "cell_type": "markdown",
   "metadata": {},
   "source": [
    "The output of the above cell is genes that is Zero average activity gene in cancerous and healthy "
   ]
  },
  {
   "cell_type": "code",
   "execution_count": 22,
   "metadata": {},
   "outputs": [
    {
     "name": "stdout",
     "output_type": "stream",
     "text": [
      "Total cancerous genes after removal: 20891\n",
      "Total healthy genes after removal: 19268\n"
     ]
    }
   ],
   "source": [
    "# Paths to the files\n",
    "cancerous_file = \"../../data/gene_analyses/brain/gen_exp_avg/cancerous_per_slide_gene_expression.csv\"\n",
    "healthy_file = \"../../data/gene_analyses/brain/gen_exp_avg/healthy_per_slide_gene_expression.csv\"\n",
    "\n",
    "# Load the cancerous and healthy gene expression DataFrames\n",
    "average_cancerous_genes_df = pd.read_csv(cancerous_file)\n",
    "average_healthy_genes_df = pd.read_csv(healthy_file)\n",
    "\n",
    "# Check the first few rows to understand the structure\n",
    "# print(average_cancerous_genes_df.head())\n",
    "\n",
    "# Assuming genes_absent_in_both_df is already defined and contains the genes to be removed\n",
    "# Drop genes that are absent in both from cancerous and healthy gene DataFrames\n",
    "average_cancerous_genes_df = average_cancerous_genes_df.loc[\n",
    "    ~average_cancerous_genes_df[\"Unnamed: 0\"].isin(genes_absent_in_both_df[\"Gene\"])\n",
    "]\n",
    "\n",
    "average_healthy_genes_df = average_healthy_genes_df.loc[\n",
    "    ~average_healthy_genes_df[\"Unnamed: 0\"].isin(genes_absent_in_both_df[\"Gene\"])\n",
    "]\n",
    "\n",
    "# Save the updated DataFrames back to CSV\n",
    "average_cancerous_genes_df.to_csv(cancerous_file, index=False)\n",
    "average_healthy_genes_df.to_csv(healthy_file, index=False)\n",
    "\n",
    "# Display results\n",
    "print(f\"Total cancerous genes after removal: {len(average_cancerous_genes_df)}\")\n",
    "print(f\"Total healthy genes after removal: {len(average_healthy_genes_df)}\")\n"
   ]
  },
  {
   "cell_type": "markdown",
   "metadata": {},
   "source": [
    "in the above cell we remove the genes that is absent in both cancerous and healthy and save to the file "
   ]
  },
  {
   "cell_type": "code",
   "execution_count": null,
   "metadata": {},
   "outputs": [
    {
     "data": {
      "text/plain": [
       "3658"
      ]
     },
     "execution_count": 23,
     "metadata": {},
     "output_type": "execute_result"
    }
   ],
   "source": [
    "#this is the number of the helathy genes that is zero but have a value in the cancerous cells \n",
    "len(selected_healthy_genes_df)"
   ]
  },
  {
   "cell_type": "markdown",
   "metadata": {},
   "source": [
    "* #### Compute and Save Overall Average Gene ExpressionCompute and Save Overall Average Gene Expression\n"
   ]
  },
  {
   "cell_type": "code",
   "execution_count": 24,
   "metadata": {},
   "outputs": [
    {
     "name": "stdout",
     "output_type": "stream",
     "text": [
      "✅ Overall average gene expression saved successfully!\n"
     ]
    }
   ],
   "source": [
    "# Compute overall average gene expression for cancerous slides\n",
    "\n",
    "cancerous_avg = cancerous_df.mean(axis=1)\n",
    "\n",
    "# Compute overall average gene expression for healthy slides\n",
    "healthy_avg = healthy_df.mean(axis=1)\n",
    "\n",
    "# Convert to DataFrames\n",
    "cancerous_avg_df = pd.DataFrame(cancerous_avg, columns=[\"Cancerous_Expression\"])\n",
    "healthy_avg_df = pd.DataFrame(healthy_avg, columns=[\"Healthy_Expression\"])\n",
    "\n",
    "# Save overall average gene expression\n",
    "cancerous_avg_df.to_csv(os.path.join(output_dir, \"cancerous_avg_gene_expression.csv\"))\n",
    "healthy_avg_df.to_csv(os.path.join(output_dir, \"healthy_avg_gene_expression.csv\"))\n",
    "\n",
    "print(\"✅ Overall average gene expression saved successfully!\")\n"
   ]
  },
  {
   "cell_type": "markdown",
   "metadata": {},
   "source": [
    "* #### Categorize gene activity into high, moderate, and low levels."
   ]
  },
  {
   "cell_type": "code",
   "execution_count": 25,
   "metadata": {},
   "outputs": [
    {
     "name": "stdout",
     "output_type": "stream",
     "text": [
      "✅ Gene categorization complete. Results saved in ../../data/gene_analyses/brain/gene_activity/categorized_genes.\n"
     ]
    }
   ],
   "source": [
    "# Define input and output paths\n",
    "output_dir = \"../../data/gene_analyses/brain/gene_activity/categorized_genes\"\n",
    "os.makedirs(output_dir, exist_ok=True)\n",
    "\n",
    "cancerous_file = \"../../data/gene_analyses/brain/gen_exp_avg/cancerous_avg_gene_expression.csv\"\n",
    "healthy_file = \"../../data/gene_analyses/brain/gen_exp_avg/healthy_avg_gene_expression.csv\"\n",
    "\n",
    "# Load average gene expression data\n",
    "cancerous_slides = pd.read_csv(cancerous_file, index_col=0)\n",
    "healthy_slides = pd.read_csv(healthy_file, index_col=0)\n",
    "\n",
    "# Ensure both datasets have the same genes (take common genes)\n",
    "common_genes = cancerous_slides.index.intersection(healthy_slides.index)\n",
    "cancerous_avg = cancerous_slides.loc[common_genes]\n",
    "healthy_avg = healthy_slides.loc[common_genes]\n",
    "\n",
    "# Compute fold-change (avoid division by zero)\n",
    "fold_change = (cancerous_avg.iloc[:, 0] + 1e-6) / (healthy_avg.iloc[:, 0] + 1e-6)\n",
    "\n",
    "# Categorize genes based on fold-change\n",
    "highly_active = fold_change[(fold_change >= 2) & (cancerous_avg.iloc[:, 0] >= 1.0)]\n",
    "moderately_changed = fold_change[(fold_change > 1) & (fold_change < 2)]\n",
    "low_change = fold_change[fold_change <= 1]\n",
    "\n",
    "# Function to save categorized genes\n",
    "def save_gene_category(category, filename):\n",
    "    category_df = pd.DataFrame({\n",
    "        \"Gene\": category.index,\n",
    "        \"Cancerous_Expression\": cancerous_avg.loc[category.index].iloc[:, 0],\n",
    "        \"Healthy_Expression\": healthy_avg.loc[category.index].iloc[:, 0],\n",
    "        \"Fold_Change\": category\n",
    "    })\n",
    "    category_df.to_csv(f\"{output_dir}/{filename}\", index=False)\n",
    "\n",
    "# Save categorized genes\n",
    "save_gene_category(highly_active, \"highly_active_genes.csv\")\n",
    "save_gene_category(moderately_changed, \"moderately_changed_genes.csv\")\n",
    "save_gene_category(low_change, \"low_change_genes.csv\")\n",
    "\n",
    "print(f\"✅ Gene categorization complete. Results saved in {output_dir}.\")\n"
   ]
  },
  {
   "cell_type": "markdown",
   "metadata": {},
   "source": [
    "### Step 3: Apply Absolute Expression Threshold  \n",
    "\n",
    "In this step, we refine our gene classification by applying an **absolute expression threshold**. While fold-change helps identify differences between cancerous and healthy tissues, it can sometimes highlight genes with very low expression levels, which might be biologically insignificant or due to noise.  \n",
    "\n",
    "To address this, we set a **minimum expression threshold** and filter out genes that do not meet this criterion in cancerous tissues. This ensures that only **high-confidence, highly active genes** are considered.  \n",
    "\n",
    "#### Process:\n",
    "- Remove genes where the absolute difference between cancerous and healthy tissues is below **0.01** to avoid small fluctuations being misclassified as significant.\n",
    "- Keep only genes that meet both the **2× fold-change** criterion and the **minimum expression requirement** (at least **1.0** in cancerous tissues).\n",
    "\n",
    "By applying this filter, we focus on genes that are not just differentially expressed but also **meaningfully active in cancerous tissues**, leading to more reliable insights. The final list of **highly active genes** is updated and saved for further analysis.\n"
   ]
  },
  {
   "cell_type": "code",
   "execution_count": 26,
   "metadata": {},
   "outputs": [
    {
     "name": "stdout",
     "output_type": "stream",
     "text": [
      "✅ Final filtered list of highly active genes saved in ../../data/gene_analyses/brain/gene_activity/categorized_genes/highly_active_genes.csv\n"
     ]
    }
   ],
   "source": [
    "# Load previously categorized highly active genes\n",
    "highly_active_genes = pd.read_csv(f\"{output_dir}/highly_active_genes.csv\")\n",
    "\n",
    "# Load cancerous and healthy tissue expression data\n",
    "cancerous_slides = pd.read_csv(cancerous_file, index_col=0)\n",
    "healthy_slides = pd.read_csv(healthy_file, index_col=0)\n",
    "\n",
    "# Ensure that the gene names are correctly aligned\n",
    "valid_genes = highly_active_genes[\"Gene\"].dropna()\n",
    "valid_genes = valid_genes[valid_genes.isin(cancerous_slides.index) & valid_genes.isin(healthy_slides.index)]\n",
    "\n",
    "# Retrieve cancerous and healthy expression values\n",
    "cancerous_expression = cancerous_slides.loc[valid_genes].mean(axis=1)\n",
    "healthy_expression = healthy_slides.loc[valid_genes].mean(axis=1)\n",
    "\n",
    "# Compute absolute difference\n",
    "expression_difference = abs(cancerous_expression - healthy_expression)\n",
    "\n",
    "# Apply the absolute difference threshold (≥0.01)\n",
    "filtered_genes = expression_difference[expression_difference >= 0.01].index\n",
    "\n",
    "# Save final highly active genes with expression values\n",
    "filtered_genes_df = pd.DataFrame({\n",
    "    \"Gene\": filtered_genes,\n",
    "    \"Cancerous_Expression\": cancerous_expression.loc[filtered_genes],\n",
    "    \"Healthy_Expression\": healthy_expression.loc[filtered_genes],\n",
    "    \"Expression_Difference\": expression_difference.loc[filtered_genes]\n",
    "})\n",
    "\n",
    "filtered_genes_df.to_csv(f\"{output_dir}/highly_active_genes.csv\", index=False)\n",
    "\n",
    "print(f\"✅ Final filtered list of highly active genes saved in {output_dir}/highly_active_genes.csv\")\n"
   ]
  },
  {
   "cell_type": "markdown",
   "metadata": {},
   "source": [
    "* #### Visualizing Gene Activity Distribution Using an Interactive Pie Chart."
   ]
  },
  {
   "cell_type": "code",
   "execution_count": 27,
   "metadata": {},
   "outputs": [
    {
     "data": {
      "application/vnd.plotly.v1+json": {
       "config": {
        "plotlyServerURL": "https://plot.ly"
       },
       "data": [
        {
         "customdata": [
          [
           "Highly Active (≥2×)"
          ],
          [
           "Moderately Changed (1× - 2×)"
          ],
          [
           "Low Activity (<1×)"
          ]
         ],
         "domain": {
          "x": [
           0,
           1
          ],
          "y": [
           0,
           1
          ]
         },
         "hovertemplate": "Category=%{customdata[0]}<br>Count=%{value}<extra></extra>",
         "labels": [
          "Highly Active (≥2×)",
          "Moderately Changed (1× - 2×)",
          "Low Activity (<1×)"
         ],
         "legendgroup": "",
         "marker": {
          "colors": [
           "red",
           "yellow",
           "green"
          ]
         },
         "name": "",
         "showlegend": true,
         "type": "pie",
         "values": {
          "bdata": "pQJGF6sp",
          "dtype": "i2"
         }
        }
       ],
       "layout": {
        "legend": {
         "tracegroupgap": 0
        },
        "template": {
         "data": {
          "bar": [
           {
            "error_x": {
             "color": "#2a3f5f"
            },
            "error_y": {
             "color": "#2a3f5f"
            },
            "marker": {
             "line": {
              "color": "#E5ECF6",
              "width": 0.5
             },
             "pattern": {
              "fillmode": "overlay",
              "size": 10,
              "solidity": 0.2
             }
            },
            "type": "bar"
           }
          ],
          "barpolar": [
           {
            "marker": {
             "line": {
              "color": "#E5ECF6",
              "width": 0.5
             },
             "pattern": {
              "fillmode": "overlay",
              "size": 10,
              "solidity": 0.2
             }
            },
            "type": "barpolar"
           }
          ],
          "carpet": [
           {
            "aaxis": {
             "endlinecolor": "#2a3f5f",
             "gridcolor": "white",
             "linecolor": "white",
             "minorgridcolor": "white",
             "startlinecolor": "#2a3f5f"
            },
            "baxis": {
             "endlinecolor": "#2a3f5f",
             "gridcolor": "white",
             "linecolor": "white",
             "minorgridcolor": "white",
             "startlinecolor": "#2a3f5f"
            },
            "type": "carpet"
           }
          ],
          "choropleth": [
           {
            "colorbar": {
             "outlinewidth": 0,
             "ticks": ""
            },
            "type": "choropleth"
           }
          ],
          "contour": [
           {
            "colorbar": {
             "outlinewidth": 0,
             "ticks": ""
            },
            "colorscale": [
             [
              0,
              "#0d0887"
             ],
             [
              0.1111111111111111,
              "#46039f"
             ],
             [
              0.2222222222222222,
              "#7201a8"
             ],
             [
              0.3333333333333333,
              "#9c179e"
             ],
             [
              0.4444444444444444,
              "#bd3786"
             ],
             [
              0.5555555555555556,
              "#d8576b"
             ],
             [
              0.6666666666666666,
              "#ed7953"
             ],
             [
              0.7777777777777778,
              "#fb9f3a"
             ],
             [
              0.8888888888888888,
              "#fdca26"
             ],
             [
              1,
              "#f0f921"
             ]
            ],
            "type": "contour"
           }
          ],
          "contourcarpet": [
           {
            "colorbar": {
             "outlinewidth": 0,
             "ticks": ""
            },
            "type": "contourcarpet"
           }
          ],
          "heatmap": [
           {
            "colorbar": {
             "outlinewidth": 0,
             "ticks": ""
            },
            "colorscale": [
             [
              0,
              "#0d0887"
             ],
             [
              0.1111111111111111,
              "#46039f"
             ],
             [
              0.2222222222222222,
              "#7201a8"
             ],
             [
              0.3333333333333333,
              "#9c179e"
             ],
             [
              0.4444444444444444,
              "#bd3786"
             ],
             [
              0.5555555555555556,
              "#d8576b"
             ],
             [
              0.6666666666666666,
              "#ed7953"
             ],
             [
              0.7777777777777778,
              "#fb9f3a"
             ],
             [
              0.8888888888888888,
              "#fdca26"
             ],
             [
              1,
              "#f0f921"
             ]
            ],
            "type": "heatmap"
           }
          ],
          "histogram": [
           {
            "marker": {
             "pattern": {
              "fillmode": "overlay",
              "size": 10,
              "solidity": 0.2
             }
            },
            "type": "histogram"
           }
          ],
          "histogram2d": [
           {
            "colorbar": {
             "outlinewidth": 0,
             "ticks": ""
            },
            "colorscale": [
             [
              0,
              "#0d0887"
             ],
             [
              0.1111111111111111,
              "#46039f"
             ],
             [
              0.2222222222222222,
              "#7201a8"
             ],
             [
              0.3333333333333333,
              "#9c179e"
             ],
             [
              0.4444444444444444,
              "#bd3786"
             ],
             [
              0.5555555555555556,
              "#d8576b"
             ],
             [
              0.6666666666666666,
              "#ed7953"
             ],
             [
              0.7777777777777778,
              "#fb9f3a"
             ],
             [
              0.8888888888888888,
              "#fdca26"
             ],
             [
              1,
              "#f0f921"
             ]
            ],
            "type": "histogram2d"
           }
          ],
          "histogram2dcontour": [
           {
            "colorbar": {
             "outlinewidth": 0,
             "ticks": ""
            },
            "colorscale": [
             [
              0,
              "#0d0887"
             ],
             [
              0.1111111111111111,
              "#46039f"
             ],
             [
              0.2222222222222222,
              "#7201a8"
             ],
             [
              0.3333333333333333,
              "#9c179e"
             ],
             [
              0.4444444444444444,
              "#bd3786"
             ],
             [
              0.5555555555555556,
              "#d8576b"
             ],
             [
              0.6666666666666666,
              "#ed7953"
             ],
             [
              0.7777777777777778,
              "#fb9f3a"
             ],
             [
              0.8888888888888888,
              "#fdca26"
             ],
             [
              1,
              "#f0f921"
             ]
            ],
            "type": "histogram2dcontour"
           }
          ],
          "mesh3d": [
           {
            "colorbar": {
             "outlinewidth": 0,
             "ticks": ""
            },
            "type": "mesh3d"
           }
          ],
          "parcoords": [
           {
            "line": {
             "colorbar": {
              "outlinewidth": 0,
              "ticks": ""
             }
            },
            "type": "parcoords"
           }
          ],
          "pie": [
           {
            "automargin": true,
            "type": "pie"
           }
          ],
          "scatter": [
           {
            "fillpattern": {
             "fillmode": "overlay",
             "size": 10,
             "solidity": 0.2
            },
            "type": "scatter"
           }
          ],
          "scatter3d": [
           {
            "line": {
             "colorbar": {
              "outlinewidth": 0,
              "ticks": ""
             }
            },
            "marker": {
             "colorbar": {
              "outlinewidth": 0,
              "ticks": ""
             }
            },
            "type": "scatter3d"
           }
          ],
          "scattercarpet": [
           {
            "marker": {
             "colorbar": {
              "outlinewidth": 0,
              "ticks": ""
             }
            },
            "type": "scattercarpet"
           }
          ],
          "scattergeo": [
           {
            "marker": {
             "colorbar": {
              "outlinewidth": 0,
              "ticks": ""
             }
            },
            "type": "scattergeo"
           }
          ],
          "scattergl": [
           {
            "marker": {
             "colorbar": {
              "outlinewidth": 0,
              "ticks": ""
             }
            },
            "type": "scattergl"
           }
          ],
          "scattermap": [
           {
            "marker": {
             "colorbar": {
              "outlinewidth": 0,
              "ticks": ""
             }
            },
            "type": "scattermap"
           }
          ],
          "scattermapbox": [
           {
            "marker": {
             "colorbar": {
              "outlinewidth": 0,
              "ticks": ""
             }
            },
            "type": "scattermapbox"
           }
          ],
          "scatterpolar": [
           {
            "marker": {
             "colorbar": {
              "outlinewidth": 0,
              "ticks": ""
             }
            },
            "type": "scatterpolar"
           }
          ],
          "scatterpolargl": [
           {
            "marker": {
             "colorbar": {
              "outlinewidth": 0,
              "ticks": ""
             }
            },
            "type": "scatterpolargl"
           }
          ],
          "scatterternary": [
           {
            "marker": {
             "colorbar": {
              "outlinewidth": 0,
              "ticks": ""
             }
            },
            "type": "scatterternary"
           }
          ],
          "surface": [
           {
            "colorbar": {
             "outlinewidth": 0,
             "ticks": ""
            },
            "colorscale": [
             [
              0,
              "#0d0887"
             ],
             [
              0.1111111111111111,
              "#46039f"
             ],
             [
              0.2222222222222222,
              "#7201a8"
             ],
             [
              0.3333333333333333,
              "#9c179e"
             ],
             [
              0.4444444444444444,
              "#bd3786"
             ],
             [
              0.5555555555555556,
              "#d8576b"
             ],
             [
              0.6666666666666666,
              "#ed7953"
             ],
             [
              0.7777777777777778,
              "#fb9f3a"
             ],
             [
              0.8888888888888888,
              "#fdca26"
             ],
             [
              1,
              "#f0f921"
             ]
            ],
            "type": "surface"
           }
          ],
          "table": [
           {
            "cells": {
             "fill": {
              "color": "#EBF0F8"
             },
             "line": {
              "color": "white"
             }
            },
            "header": {
             "fill": {
              "color": "#C8D4E3"
             },
             "line": {
              "color": "white"
             }
            },
            "type": "table"
           }
          ]
         },
         "layout": {
          "annotationdefaults": {
           "arrowcolor": "#2a3f5f",
           "arrowhead": 0,
           "arrowwidth": 1
          },
          "autotypenumbers": "strict",
          "coloraxis": {
           "colorbar": {
            "outlinewidth": 0,
            "ticks": ""
           }
          },
          "colorscale": {
           "diverging": [
            [
             0,
             "#8e0152"
            ],
            [
             0.1,
             "#c51b7d"
            ],
            [
             0.2,
             "#de77ae"
            ],
            [
             0.3,
             "#f1b6da"
            ],
            [
             0.4,
             "#fde0ef"
            ],
            [
             0.5,
             "#f7f7f7"
            ],
            [
             0.6,
             "#e6f5d0"
            ],
            [
             0.7,
             "#b8e186"
            ],
            [
             0.8,
             "#7fbc41"
            ],
            [
             0.9,
             "#4d9221"
            ],
            [
             1,
             "#276419"
            ]
           ],
           "sequential": [
            [
             0,
             "#0d0887"
            ],
            [
             0.1111111111111111,
             "#46039f"
            ],
            [
             0.2222222222222222,
             "#7201a8"
            ],
            [
             0.3333333333333333,
             "#9c179e"
            ],
            [
             0.4444444444444444,
             "#bd3786"
            ],
            [
             0.5555555555555556,
             "#d8576b"
            ],
            [
             0.6666666666666666,
             "#ed7953"
            ],
            [
             0.7777777777777778,
             "#fb9f3a"
            ],
            [
             0.8888888888888888,
             "#fdca26"
            ],
            [
             1,
             "#f0f921"
            ]
           ],
           "sequentialminus": [
            [
             0,
             "#0d0887"
            ],
            [
             0.1111111111111111,
             "#46039f"
            ],
            [
             0.2222222222222222,
             "#7201a8"
            ],
            [
             0.3333333333333333,
             "#9c179e"
            ],
            [
             0.4444444444444444,
             "#bd3786"
            ],
            [
             0.5555555555555556,
             "#d8576b"
            ],
            [
             0.6666666666666666,
             "#ed7953"
            ],
            [
             0.7777777777777778,
             "#fb9f3a"
            ],
            [
             0.8888888888888888,
             "#fdca26"
            ],
            [
             1,
             "#f0f921"
            ]
           ]
          },
          "colorway": [
           "#636efa",
           "#EF553B",
           "#00cc96",
           "#ab63fa",
           "#FFA15A",
           "#19d3f3",
           "#FF6692",
           "#B6E880",
           "#FF97FF",
           "#FECB52"
          ],
          "font": {
           "color": "#2a3f5f"
          },
          "geo": {
           "bgcolor": "white",
           "lakecolor": "white",
           "landcolor": "#E5ECF6",
           "showlakes": true,
           "showland": true,
           "subunitcolor": "white"
          },
          "hoverlabel": {
           "align": "left"
          },
          "hovermode": "closest",
          "mapbox": {
           "style": "light"
          },
          "paper_bgcolor": "white",
          "plot_bgcolor": "#E5ECF6",
          "polar": {
           "angularaxis": {
            "gridcolor": "white",
            "linecolor": "white",
            "ticks": ""
           },
           "bgcolor": "#E5ECF6",
           "radialaxis": {
            "gridcolor": "white",
            "linecolor": "white",
            "ticks": ""
           }
          },
          "scene": {
           "xaxis": {
            "backgroundcolor": "#E5ECF6",
            "gridcolor": "white",
            "gridwidth": 2,
            "linecolor": "white",
            "showbackground": true,
            "ticks": "",
            "zerolinecolor": "white"
           },
           "yaxis": {
            "backgroundcolor": "#E5ECF6",
            "gridcolor": "white",
            "gridwidth": 2,
            "linecolor": "white",
            "showbackground": true,
            "ticks": "",
            "zerolinecolor": "white"
           },
           "zaxis": {
            "backgroundcolor": "#E5ECF6",
            "gridcolor": "white",
            "gridwidth": 2,
            "linecolor": "white",
            "showbackground": true,
            "ticks": "",
            "zerolinecolor": "white"
           }
          },
          "shapedefaults": {
           "line": {
            "color": "#2a3f5f"
           }
          },
          "ternary": {
           "aaxis": {
            "gridcolor": "white",
            "linecolor": "white",
            "ticks": ""
           },
           "baxis": {
            "gridcolor": "white",
            "linecolor": "white",
            "ticks": ""
           },
           "bgcolor": "#E5ECF6",
           "caxis": {
            "gridcolor": "white",
            "linecolor": "white",
            "ticks": ""
           }
          },
          "title": {
           "x": 0.05
          },
          "xaxis": {
           "automargin": true,
           "gridcolor": "white",
           "linecolor": "white",
           "ticks": "",
           "title": {
            "standoff": 15
           },
           "zerolinecolor": "white",
           "zerolinewidth": 2
          },
          "yaxis": {
           "automargin": true,
           "gridcolor": "white",
           "linecolor": "white",
           "ticks": "",
           "title": {
            "standoff": 15
           },
           "zerolinecolor": "white",
           "zerolinewidth": 2
          }
         }
        },
        "title": {
         "text": "Proportion of Gene Activity Categories"
        }
       }
      }
     },
     "metadata": {},
     "output_type": "display_data"
    }
   ],
   "source": [
    "# Load final categorized genes from Step 3\n",
    "final_highly_active_genes = pd.read_csv(f\"{output_dir}/highly_active_genes.csv\")[\"Gene\"]\n",
    "\n",
    "# Compute category sizes\n",
    "num_highly_active = len(final_highly_active_genes)\n",
    "num_moderately_changed = len(moderately_changed)  # Already defined in Step 2\n",
    "num_low_activity = len(fold_change[fold_change < 1])  # Already defined in Step 2\n",
    "\n",
    "# Create a DataFrame for visualization\n",
    "data = pd.DataFrame({\n",
    "    \"Category\": [\"Highly Active (≥2×)\", \"Moderately Changed (1× - 2×)\", \"Low Activity (<1×)\"],\n",
    "    \"Count\": [num_highly_active, num_moderately_changed, num_low_activity]\n",
    "})\n",
    "\n",
    "# Create an interactive pie chart\n",
    "fig = px.pie(data, values=\"Count\", names=\"Category\", \n",
    "             title=\"Proportion of Gene Activity Categories\",\n",
    "             color=\"Category\",\n",
    "             color_discrete_map={\"Highly Active (≥2×)\": \"red\", \n",
    "                                 \"Moderately Changed (1× - 2×)\": \"yellow\", \n",
    "                                 \"Low Activity (<1×)\": \"green\"})\n",
    "\n",
    "fig.show()\n"
   ]
  },
  {
   "cell_type": "markdown",
   "metadata": {},
   "source": [
    "* #### Load and Sort Highly Active Genes by Expression Difference."
   ]
  },
  {
   "cell_type": "code",
   "execution_count": 82,
   "metadata": {},
   "outputs": [
    {
     "name": "stdout",
     "output_type": "stream",
     "text": [
      "      Unnamed: 0  Expression_Range\n",
      "19248     MT-CO2         44.758466\n",
      "19247     MT-CO1         33.462943\n",
      "19251     MT-CO3         32.680648\n",
      "19245     MT-ND1         32.213611\n",
      "19250    MT-ATP6         31.226902\n",
      "...          ...               ...\n",
      "12170      RPL21          4.079553\n",
      "13475        PKM          4.062758\n",
      "4278      EIF4A2          4.026314\n",
      "13115     SNHG14          4.007074\n",
      "5379        ENC1          4.002759\n",
      "\n",
      "[100 rows x 2 columns]\n"
     ]
    }
   ],
   "source": [
    "\n",
    "# Load the healthy gene expression file\n",
    "healthy_file = \"../../data/gene_analyses/brain/gen_exp_avg/healthy_per_slide_gene_expression.csv\"\n",
    "healthy_df = pd.read_csv(healthy_file)\n",
    "\n",
    "# Identify the gene name column (usually the first column)\n",
    "gene_name_column = healthy_df.columns[0]\n",
    "\n",
    "# Extract expression values only (exclude gene name column)\n",
    "expression_only = healthy_df.drop(columns=[gene_name_column])\n",
    "\n",
    "# Calculate the expression range for each gene\n",
    "healthy_df[\"Expression_Range\"] = expression_only.max(axis=1) - expression_only.min(axis=1)\n",
    "\n",
    "# Sort by Expression_Range descending\n",
    "sorted_df = healthy_df.sort_values(by=\"Expression_Range\", ascending=False)\n",
    "\n",
    "# Display the top 10 (or however many you want)\n",
    "print(sorted_df[[gene_name_column, \"Expression_Range\"]].head(100))"
   ]
  },
  {
   "cell_type": "code",
   "execution_count": null,
   "metadata": {},
   "outputs": [],
   "source": [
    "    "
   ]
  },
  {
   "cell_type": "code",
   "execution_count": 94,
   "metadata": {},
   "outputs": [
    {
     "name": "stdout",
     "output_type": "stream",
     "text": [
      "Gene counts per Expression_Range group:\n",
      "Range_Group\n",
      "0–5    19207\n",
      "+5        61\n",
      "Name: count, dtype: int64\n"
     ]
    }
   ],
   "source": [
    "# Count the number of genes in each range group\n",
    "range_counts = healthy_df[\"Range_Group\"].value_counts().sort_index()\n",
    "\n",
    "# Print the counts\n",
    "print(\"Gene counts per Expression_Range group:\")\n",
    "print(range_counts)\n"
   ]
  },
  {
   "cell_type": "code",
   "execution_count": 120,
   "metadata": {},
   "outputs": [
    {
     "data": {
      "image/png": "[encoded data removed]",
      "text/plain": [
       "<Figure size 700x700 with 1 Axes>"
      ]
     },
     "metadata": {},
     "output_type": "display_data"
    }
   ],
   "source": [
    "# Plot pie chart for gene distribution across bins\n",
    "plt.figure(figsize=(7, 7))\n",
    "plt.pie(range_counts, labels=range_counts.index, autopct='%1.1f%%', startangle=140, colors=['lightcoral', 'lightgreen'])\n",
    "plt.title(\"Gene Distribution by Expression Range\")\n",
    "plt.axis('equal')\n",
    "plt.show()\n"
   ]
  },
  {
   "cell_type": "markdown",
   "metadata": {},
   "source": [
    "this genes has a huge difference betweeen the min and max value in the healthy tissues "
   ]
  },
  {
   "cell_type": "code",
   "execution_count": 96,
   "metadata": {},
   "outputs": [
    {
     "name": "stdout",
     "output_type": "stream",
     "text": [
      "Number of genes with Expression_Range > 5: 61\n"
     ]
    }
   ],
   "source": [
    "# Get the count of genes in the '+5' category\n",
    "n = range_counts.get('+5', 0)  # Default to 0 if '+5' is not found\n",
    "\n",
    "# Print the value of n\n",
    "print(\"Number of genes with Expression_Range > 5:\", n)\n"
   ]
  },
  {
   "cell_type": "code",
   "execution_count": 97,
   "metadata": {},
   "outputs": [],
   "source": [
    "healthy_unusual_genes=sorted_df[[gene_name_column, \"Expression_Range\"]].head(n)"
   ]
  },
  {
   "cell_type": "code",
   "execution_count": 122,
   "metadata": {},
   "outputs": [
    {
     "data": {
      "text/html": [
       "<div>\n",
       "<style scoped>\n",
       "    .dataframe tbody tr th:only-of-type {\n",
       "        vertical-align: middle;\n",
       "    }\n",
       "\n",
       "    .dataframe tbody tr th {\n",
       "        vertical-align: top;\n",
       "    }\n",
       "\n",
       "    .dataframe thead th {\n",
       "        text-align: right;\n",
       "    }\n",
       "</style>\n",
       "<table border=\"1\" class=\"dataframe\">\n",
       "  <thead>\n",
       "    <tr style=\"text-align: right;\">\n",
       "      <th></th>\n",
       "      <th>Gene</th>\n",
       "      <th>Cancerous_Expression</th>\n",
       "      <th>Healthy_Expression</th>\n",
       "      <th>Expression_Difference</th>\n",
       "    </tr>\n",
       "  </thead>\n",
       "  <tbody>\n",
       "    <tr>\n",
       "      <th>258</th>\n",
       "      <td>IGKC</td>\n",
       "      <td>120.051583</td>\n",
       "      <td>0.005174</td>\n",
       "      <td>120.046409</td>\n",
       "    </tr>\n",
       "    <tr>\n",
       "      <th>320</th>\n",
       "      <td>MT-CO2</td>\n",
       "      <td>113.154734</td>\n",
       "      <td>40.544156</td>\n",
       "      <td>72.610578</td>\n",
       "    </tr>\n",
       "    <tr>\n",
       "      <th>326</th>\n",
       "      <td>MT2A</td>\n",
       "      <td>69.135796</td>\n",
       "      <td>1.957594</td>\n",
       "      <td>67.178201</td>\n",
       "    </tr>\n",
       "    <tr>\n",
       "      <th>321</th>\n",
       "      <td>MT-CO3</td>\n",
       "      <td>98.601141</td>\n",
       "      <td>37.846820</td>\n",
       "      <td>60.754321</td>\n",
       "    </tr>\n",
       "    <tr>\n",
       "      <th>255</th>\n",
       "      <td>IGHG4</td>\n",
       "      <td>48.980617</td>\n",
       "      <td>0.000387</td>\n",
       "      <td>48.980230</td>\n",
       "    </tr>\n",
       "    <tr>\n",
       "      <th>524</th>\n",
       "      <td>S100A6</td>\n",
       "      <td>45.684560</td>\n",
       "      <td>0.695077</td>\n",
       "      <td>44.989483</td>\n",
       "    </tr>\n",
       "    <tr>\n",
       "      <th>254</th>\n",
       "      <td>IGHG3</td>\n",
       "      <td>44.299743</td>\n",
       "      <td>0.000145</td>\n",
       "      <td>44.299599</td>\n",
       "    </tr>\n",
       "    <tr>\n",
       "      <th>323</th>\n",
       "      <td>MT-ND4</td>\n",
       "      <td>68.138247</td>\n",
       "      <td>27.972665</td>\n",
       "      <td>40.165582</td>\n",
       "    </tr>\n",
       "    <tr>\n",
       "      <th>621</th>\n",
       "      <td>TMSB10</td>\n",
       "      <td>44.012013</td>\n",
       "      <td>8.189061</td>\n",
       "      <td>35.822952</td>\n",
       "    </tr>\n",
       "    <tr>\n",
       "      <th>182</th>\n",
       "      <td>FTL</td>\n",
       "      <td>35.470944</td>\n",
       "      <td>4.028604</td>\n",
       "      <td>31.442341</td>\n",
       "    </tr>\n",
       "  </tbody>\n",
       "</table>\n",
       "</div>"
      ],
      "text/plain": [
       "       Gene  Cancerous_Expression  Healthy_Expression  Expression_Difference\n",
       "258    IGKC            120.051583            0.005174             120.046409\n",
       "320  MT-CO2            113.154734           40.544156              72.610578\n",
       "326    MT2A             69.135796            1.957594              67.178201\n",
       "321  MT-CO3             98.601141           37.846820              60.754321\n",
       "255   IGHG4             48.980617            0.000387              48.980230\n",
       "524  S100A6             45.684560            0.695077              44.989483\n",
       "254   IGHG3             44.299743            0.000145              44.299599\n",
       "323  MT-ND4             68.138247           27.972665              40.165582\n",
       "621  TMSB10             44.012013            8.189061              35.822952\n",
       "182     FTL             35.470944            4.028604              31.442341"
      ]
     },
     "metadata": {},
     "output_type": "display_data"
    },
    {
     "name": "stdout",
     "output_type": "stream",
     "text": [
      "Remaining genes after filtering: 141\n"
     ]
    }
   ],
   "source": [
    "output_dir = \"../../data/gene_analyses/brain/gene_activity/categorized_genes\"\n",
    "\n",
    "# Load the final highly active genes file\n",
    "final_highly_active_genes = pd.read_csv(f\"{output_dir}/highly_active_genes.csv\")\n",
    "\n",
    "# Filter out genes with Expression_Difference less than 5\n",
    "final_highly_active_genes = final_highly_active_genes[final_highly_active_genes[\"Expression_Difference\"] > 5]\n",
    "\n",
    "# Sort by Expression_Difference (descending order)\n",
    "final_highly_active_genes = final_highly_active_genes.sort_values(by=\"Expression_Difference\", ascending=False)\n",
    "\n",
    "# Display the top 50 rows only\n",
    "display(final_highly_active_genes.head(10))\n",
    "\n",
    "# Show the total number of genes after filtering\n",
    "print(f\"Remaining genes after filtering: {len(final_highly_active_genes)}\")"
   ]
  },
  {
   "cell_type": "code",
   "execution_count": 103,
   "metadata": {},
   "outputs": [
    {
     "data": {
      "application/vnd.plotly.v1+json": {
       "config": {
        "plotlyServerURL": "https://plot.ly"
       },
       "data": [
        {
         "hovertemplate": "Gene=%{x}<br>Expression Difference=%{marker.color}<extra></extra>",
         "legendgroup": "",
         "marker": {
          "color": {
           "bdata": "YgtbXvgCXkDedLK2EydSQP+7G6Zny1BANL2nlI1gTkCFcnMteH1IQGomNl+nfkZAqJXHPlkmRkDsosbHMRVEQOFSUYFW6UFAQlPHOj1xP0DoKfsxhPM+QLitXlsjcj5A827d89BuPUBjqludMgk9QI7CMnVDHztACF1XOMbUNkBExf1nyFM2QF2gLN3zMjVAXzkuig8GNEBut7N14KAzQA==",
           "dtype": "f8"
          },
          "coloraxis": "coloraxis",
          "pattern": {
           "shape": ""
          }
         },
         "name": "",
         "orientation": "v",
         "showlegend": false,
         "textposition": "auto",
         "type": "bar",
         "x": [
          "IGKC",
          "MT-CO2",
          "MT2A",
          "MT-CO3",
          "IGHG4",
          "S100A6",
          "IGHG3",
          "MT-ND4",
          "TMSB10",
          "FTL",
          "RPLP1",
          "RPL41",
          "RPS27",
          "FTH1",
          "IGHG1",
          "B2M",
          "RPL37",
          "MT-CYB",
          "MUCL1",
          "RPL37A"
         ],
         "xaxis": "x",
         "y": {
          "bdata": "YgtbXvgCXkDedLK2EydSQP+7G6Zny1BANL2nlI1gTkCFcnMteH1IQGomNl+nfkZAqJXHPlkmRkDsosbHMRVEQOFSUYFW6UFAQlPHOj1xP0DoKfsxhPM+QLitXlsjcj5A827d89BuPUBjqludMgk9QI7CMnVDHztACF1XOMbUNkBExf1nyFM2QF2gLN3zMjVAXzkuig8GNEBut7N14KAzQA==",
          "dtype": "f8"
         },
         "yaxis": "y"
        }
       ],
       "layout": {
        "barmode": "relative",
        "coloraxis": {
         "colorbar": {
          "title": {
           "text": "Expression Difference"
          }
         },
         "colorscale": [
          [
           0,
           "rgb(255,245,240)"
          ],
          [
           0.125,
           "rgb(254,224,210)"
          ],
          [
           0.25,
           "rgb(252,187,161)"
          ],
          [
           0.375,
           "rgb(252,146,114)"
          ],
          [
           0.5,
           "rgb(251,106,74)"
          ],
          [
           0.625,
           "rgb(239,59,44)"
          ],
          [
           0.75,
           "rgb(203,24,29)"
          ],
          [
           0.875,
           "rgb(165,15,21)"
          ],
          [
           1,
           "rgb(103,0,13)"
          ]
         ]
        },
        "legend": {
         "tracegroupgap": 0
        },
        "template": {
         "data": {
          "bar": [
           {
            "error_x": {
             "color": "#2a3f5f"
            },
            "error_y": {
             "color": "#2a3f5f"
            },
            "marker": {
             "line": {
              "color": "#E5ECF6",
              "width": 0.5
             },
             "pattern": {
              "fillmode": "overlay",
              "size": 10,
              "solidity": 0.2
             }
            },
            "type": "bar"
           }
          ],
          "barpolar": [
           {
            "marker": {
             "line": {
              "color": "#E5ECF6",
              "width": 0.5
             },
             "pattern": {
              "fillmode": "overlay",
              "size": 10,
              "solidity": 0.2
             }
            },
            "type": "barpolar"
           }
          ],
          "carpet": [
           {
            "aaxis": {
             "endlinecolor": "#2a3f5f",
             "gridcolor": "white",
             "linecolor": "white",
             "minorgridcolor": "white",
             "startlinecolor": "#2a3f5f"
            },
            "baxis": {
             "endlinecolor": "#2a3f5f",
             "gridcolor": "white",
             "linecolor": "white",
             "minorgridcolor": "white",
             "startlinecolor": "#2a3f5f"
            },
            "type": "carpet"
           }
          ],
          "choropleth": [
           {
            "colorbar": {
             "outlinewidth": 0,
             "ticks": ""
            },
            "type": "choropleth"
           }
          ],
          "contour": [
           {
            "colorbar": {
             "outlinewidth": 0,
             "ticks": ""
            },
            "colorscale": [
             [
              0,
              "#0d0887"
             ],
             [
              0.1111111111111111,
              "#46039f"
             ],
             [
              0.2222222222222222,
              "#7201a8"
             ],
             [
              0.3333333333333333,
              "#9c179e"
             ],
             [
              0.4444444444444444,
              "#bd3786"
             ],
             [
              0.5555555555555556,
              "#d8576b"
             ],
             [
              0.6666666666666666,
              "#ed7953"
             ],
             [
              0.7777777777777778,
              "#fb9f3a"
             ],
             [
              0.8888888888888888,
              "#fdca26"
             ],
             [
              1,
              "#f0f921"
             ]
            ],
            "type": "contour"
           }
          ],
          "contourcarpet": [
           {
            "colorbar": {
             "outlinewidth": 0,
             "ticks": ""
            },
            "type": "contourcarpet"
           }
          ],
          "heatmap": [
           {
            "colorbar": {
             "outlinewidth": 0,
             "ticks": ""
            },
            "colorscale": [
             [
              0,
              "#0d0887"
             ],
             [
              0.1111111111111111,
              "#46039f"
             ],
             [
              0.2222222222222222,
              "#7201a8"
             ],
             [
              0.3333333333333333,
              "#9c179e"
             ],
             [
              0.4444444444444444,
              "#bd3786"
             ],
             [
              0.5555555555555556,
              "#d8576b"
             ],
             [
              0.6666666666666666,
              "#ed7953"
             ],
             [
              0.7777777777777778,
              "#fb9f3a"
             ],
             [
              0.8888888888888888,
              "#fdca26"
             ],
             [
              1,
              "#f0f921"
             ]
            ],
            "type": "heatmap"
           }
          ],
          "histogram": [
           {
            "marker": {
             "pattern": {
              "fillmode": "overlay",
              "size": 10,
              "solidity": 0.2
             }
            },
            "type": "histogram"
           }
          ],
          "histogram2d": [
           {
            "colorbar": {
             "outlinewidth": 0,
             "ticks": ""
            },
            "colorscale": [
             [
              0,
              "#0d0887"
             ],
             [
              0.1111111111111111,
              "#46039f"
             ],
             [
              0.2222222222222222,
              "#7201a8"
             ],
             [
              0.3333333333333333,
              "#9c179e"
             ],
             [
              0.4444444444444444,
              "#bd3786"
             ],
             [
              0.5555555555555556,
              "#d8576b"
             ],
             [
              0.6666666666666666,
              "#ed7953"
             ],
             [
              0.7777777777777778,
              "#fb9f3a"
             ],
             [
              0.8888888888888888,
              "#fdca26"
             ],
             [
              1,
              "#f0f921"
             ]
            ],
            "type": "histogram2d"
           }
          ],
          "histogram2dcontour": [
           {
            "colorbar": {
             "outlinewidth": 0,
             "ticks": ""
            },
            "colorscale": [
             [
              0,
              "#0d0887"
             ],
             [
              0.1111111111111111,
              "#46039f"
             ],
             [
              0.2222222222222222,
              "#7201a8"
             ],
             [
              0.3333333333333333,
              "#9c179e"
             ],
             [
              0.4444444444444444,
              "#bd3786"
             ],
             [
              0.5555555555555556,
              "#d8576b"
             ],
             [
              0.6666666666666666,
              "#ed7953"
             ],
             [
              0.7777777777777778,
              "#fb9f3a"
             ],
             [
              0.8888888888888888,
              "#fdca26"
             ],
             [
              1,
              "#f0f921"
             ]
            ],
            "type": "histogram2dcontour"
           }
          ],
          "mesh3d": [
           {
            "colorbar": {
             "outlinewidth": 0,
             "ticks": ""
            },
            "type": "mesh3d"
           }
          ],
          "parcoords": [
           {
            "line": {
             "colorbar": {
              "outlinewidth": 0,
              "ticks": ""
             }
            },
            "type": "parcoords"
           }
          ],
          "pie": [
           {
            "automargin": true,
            "type": "pie"
           }
          ],
          "scatter": [
           {
            "fillpattern": {
             "fillmode": "overlay",
             "size": 10,
             "solidity": 0.2
            },
            "type": "scatter"
           }
          ],
          "scatter3d": [
           {
            "line": {
             "colorbar": {
              "outlinewidth": 0,
              "ticks": ""
             }
            },
            "marker": {
             "colorbar": {
              "outlinewidth": 0,
              "ticks": ""
             }
            },
            "type": "scatter3d"
           }
          ],
          "scattercarpet": [
           {
            "marker": {
             "colorbar": {
              "outlinewidth": 0,
              "ticks": ""
             }
            },
            "type": "scattercarpet"
           }
          ],
          "scattergeo": [
           {
            "marker": {
             "colorbar": {
              "outlinewidth": 0,
              "ticks": ""
             }
            },
            "type": "scattergeo"
           }
          ],
          "scattergl": [
           {
            "marker": {
             "colorbar": {
              "outlinewidth": 0,
              "ticks": ""
             }
            },
            "type": "scattergl"
           }
          ],
          "scattermap": [
           {
            "marker": {
             "colorbar": {
              "outlinewidth": 0,
              "ticks": ""
             }
            },
            "type": "scattermap"
           }
          ],
          "scattermapbox": [
           {
            "marker": {
             "colorbar": {
              "outlinewidth": 0,
              "ticks": ""
             }
            },
            "type": "scattermapbox"
           }
          ],
          "scatterpolar": [
           {
            "marker": {
             "colorbar": {
              "outlinewidth": 0,
              "ticks": ""
             }
            },
            "type": "scatterpolar"
           }
          ],
          "scatterpolargl": [
           {
            "marker": {
             "colorbar": {
              "outlinewidth": 0,
              "ticks": ""
             }
            },
            "type": "scatterpolargl"
           }
          ],
          "scatterternary": [
           {
            "marker": {
             "colorbar": {
              "outlinewidth": 0,
              "ticks": ""
             }
            },
            "type": "scatterternary"
           }
          ],
          "surface": [
           {
            "colorbar": {
             "outlinewidth": 0,
             "ticks": ""
            },
            "colorscale": [
             [
              0,
              "#0d0887"
             ],
             [
              0.1111111111111111,
              "#46039f"
             ],
             [
              0.2222222222222222,
              "#7201a8"
             ],
             [
              0.3333333333333333,
              "#9c179e"
             ],
             [
              0.4444444444444444,
              "#bd3786"
             ],
             [
              0.5555555555555556,
              "#d8576b"
             ],
             [
              0.6666666666666666,
              "#ed7953"
             ],
             [
              0.7777777777777778,
              "#fb9f3a"
             ],
             [
              0.8888888888888888,
              "#fdca26"
             ],
             [
              1,
              "#f0f921"
             ]
            ],
            "type": "surface"
           }
          ],
          "table": [
           {
            "cells": {
             "fill": {
              "color": "#EBF0F8"
             },
             "line": {
              "color": "white"
             }
            },
            "header": {
             "fill": {
              "color": "#C8D4E3"
             },
             "line": {
              "color": "white"
             }
            },
            "type": "table"
           }
          ]
         },
         "layout": {
          "annotationdefaults": {
           "arrowcolor": "#2a3f5f",
           "arrowhead": 0,
           "arrowwidth": 1
          },
          "autotypenumbers": "strict",
          "coloraxis": {
           "colorbar": {
            "outlinewidth": 0,
            "ticks": ""
           }
          },
          "colorscale": {
           "diverging": [
            [
             0,
             "#8e0152"
            ],
            [
             0.1,
             "#c51b7d"
            ],
            [
             0.2,
             "#de77ae"
            ],
            [
             0.3,
             "#f1b6da"
            ],
            [
             0.4,
             "#fde0ef"
            ],
            [
             0.5,
             "#f7f7f7"
            ],
            [
             0.6,
             "#e6f5d0"
            ],
            [
             0.7,
             "#b8e186"
            ],
            [
             0.8,
             "#7fbc41"
            ],
            [
             0.9,
             "#4d9221"
            ],
            [
             1,
             "#276419"
            ]
           ],
           "sequential": [
            [
             0,
             "#0d0887"
            ],
            [
             0.1111111111111111,
             "#46039f"
            ],
            [
             0.2222222222222222,
             "#7201a8"
            ],
            [
             0.3333333333333333,
             "#9c179e"
            ],
            [
             0.4444444444444444,
             "#bd3786"
            ],
            [
             0.5555555555555556,
             "#d8576b"
            ],
            [
             0.6666666666666666,
             "#ed7953"
            ],
            [
             0.7777777777777778,
             "#fb9f3a"
            ],
            [
             0.8888888888888888,
             "#fdca26"
            ],
            [
             1,
             "#f0f921"
            ]
           ],
           "sequentialminus": [
            [
             0,
             "#0d0887"
            ],
            [
             0.1111111111111111,
             "#46039f"
            ],
            [
             0.2222222222222222,
             "#7201a8"
            ],
            [
             0.3333333333333333,
             "#9c179e"
            ],
            [
             0.4444444444444444,
             "#bd3786"
            ],
            [
             0.5555555555555556,
             "#d8576b"
            ],
            [
             0.6666666666666666,
             "#ed7953"
            ],
            [
             0.7777777777777778,
             "#fb9f3a"
            ],
            [
             0.8888888888888888,
             "#fdca26"
            ],
            [
             1,
             "#f0f921"
            ]
           ]
          },
          "colorway": [
           "#636efa",
           "#EF553B",
           "#00cc96",
           "#ab63fa",
           "#FFA15A",
           "#19d3f3",
           "#FF6692",
           "#B6E880",
           "#FF97FF",
           "#FECB52"
          ],
          "font": {
           "color": "#2a3f5f"
          },
          "geo": {
           "bgcolor": "white",
           "lakecolor": "white",
           "landcolor": "#E5ECF6",
           "showlakes": true,
           "showland": true,
           "subunitcolor": "white"
          },
          "hoverlabel": {
           "align": "left"
          },
          "hovermode": "closest",
          "mapbox": {
           "style": "light"
          },
          "paper_bgcolor": "white",
          "plot_bgcolor": "#E5ECF6",
          "polar": {
           "angularaxis": {
            "gridcolor": "white",
            "linecolor": "white",
            "ticks": ""
           },
           "bgcolor": "#E5ECF6",
           "radialaxis": {
            "gridcolor": "white",
            "linecolor": "white",
            "ticks": ""
           }
          },
          "scene": {
           "xaxis": {
            "backgroundcolor": "#E5ECF6",
            "gridcolor": "white",
            "gridwidth": 2,
            "linecolor": "white",
            "showbackground": true,
            "ticks": "",
            "zerolinecolor": "white"
           },
           "yaxis": {
            "backgroundcolor": "#E5ECF6",
            "gridcolor": "white",
            "gridwidth": 2,
            "linecolor": "white",
            "showbackground": true,
            "ticks": "",
            "zerolinecolor": "white"
           },
           "zaxis": {
            "backgroundcolor": "#E5ECF6",
            "gridcolor": "white",
            "gridwidth": 2,
            "linecolor": "white",
            "showbackground": true,
            "ticks": "",
            "zerolinecolor": "white"
           }
          },
          "shapedefaults": {
           "line": {
            "color": "#2a3f5f"
           }
          },
          "ternary": {
           "aaxis": {
            "gridcolor": "white",
            "linecolor": "white",
            "ticks": ""
           },
           "baxis": {
            "gridcolor": "white",
            "linecolor": "white",
            "ticks": ""
           },
           "bgcolor": "#E5ECF6",
           "caxis": {
            "gridcolor": "white",
            "linecolor": "white",
            "ticks": ""
           }
          },
          "title": {
           "x": 0.05
          },
          "xaxis": {
           "automargin": true,
           "gridcolor": "white",
           "linecolor": "white",
           "ticks": "",
           "title": {
            "standoff": 15
           },
           "zerolinecolor": "white",
           "zerolinewidth": 2
          },
          "yaxis": {
           "automargin": true,
           "gridcolor": "white",
           "linecolor": "white",
           "ticks": "",
           "title": {
            "standoff": 15
           },
           "zerolinecolor": "white",
           "zerolinewidth": 2
          }
         }
        },
        "title": {
         "text": "Top 20 Highly Active Genes"
        },
        "xaxis": {
         "anchor": "y",
         "domain": [
          0,
          1
         ],
         "title": {
          "text": "Gene"
         }
        },
        "yaxis": {
         "anchor": "x",
         "domain": [
          0,
          1
         ],
         "title": {
          "text": "Expression Difference"
         }
        }
       }
      }
     },
     "metadata": {},
     "output_type": "display_data"
    }
   ],
   "source": [
    "# Select top 20 highly active genes for better readability\n",
    "top_n = 20\n",
    "top_genes = final_highly_active_genes.head(top_n)\n",
    "\n",
    "# Create a bar chart\n",
    "fig = px.bar(top_genes, x=\"Gene\", y=\"Expression_Difference\", \n",
    "             title=f\"Top {top_n} Highly Active Genes\",\n",
    "             labels={\"Expression_Difference\": \"Expression Difference\"},\n",
    "             color=\"Expression_Difference\",\n",
    "             color_continuous_scale=\"Reds\")\n",
    "\n",
    "fig.show()"
   ]
  },
  {
   "cell_type": "code",
   "execution_count": null,
   "metadata": {},
   "outputs": [
    {
     "data": {
      "text/html": [
       "<div>\n",
       "<style scoped>\n",
       "    .dataframe tbody tr th:only-of-type {\n",
       "        vertical-align: middle;\n",
       "    }\n",
       "\n",
       "    .dataframe tbody tr th {\n",
       "        vertical-align: top;\n",
       "    }\n",
       "\n",
       "    .dataframe thead th {\n",
       "        text-align: right;\n",
       "    }\n",
       "</style>\n",
       "<table border=\"1\" class=\"dataframe\">\n",
       "  <thead>\n",
       "    <tr style=\"text-align: right;\">\n",
       "      <th></th>\n",
       "      <th>Gene</th>\n",
       "      <th>Cancerous_Expression</th>\n",
       "      <th>Healthy_Expression</th>\n",
       "      <th>Fold_Change</th>\n",
       "      <th>Expression_Difference</th>\n",
       "    </tr>\n",
       "  </thead>\n",
       "  <tbody>\n",
       "    <tr>\n",
       "      <th>15939</th>\n",
       "      <td>SNAP25</td>\n",
       "      <td>0.476029</td>\n",
       "      <td>11.508679</td>\n",
       "      <td>0.041363</td>\n",
       "      <td>-11.032650</td>\n",
       "    </tr>\n",
       "    <tr>\n",
       "      <th>13916</th>\n",
       "      <td>NRGN</td>\n",
       "      <td>0.377407</td>\n",
       "      <td>10.929496</td>\n",
       "      <td>0.034531</td>\n",
       "      <td>-10.552089</td>\n",
       "    </tr>\n",
       "    <tr>\n",
       "      <th>8734</th>\n",
       "      <td>CALM1</td>\n",
       "      <td>2.297945</td>\n",
       "      <td>9.041385</td>\n",
       "      <td>0.254159</td>\n",
       "      <td>-6.743441</td>\n",
       "    </tr>\n",
       "    <tr>\n",
       "      <th>17263</th>\n",
       "      <td>VSNL1</td>\n",
       "      <td>0.214466</td>\n",
       "      <td>6.803100</td>\n",
       "      <td>0.031525</td>\n",
       "      <td>-6.588634</td>\n",
       "    </tr>\n",
       "    <tr>\n",
       "      <th>17116</th>\n",
       "      <td>UCHL1</td>\n",
       "      <td>0.797541</td>\n",
       "      <td>6.918970</td>\n",
       "      <td>0.115269</td>\n",
       "      <td>-6.121429</td>\n",
       "    </tr>\n",
       "    <tr>\n",
       "      <th>13567</th>\n",
       "      <td>MTRNR2L12</td>\n",
       "      <td>7.732021</td>\n",
       "      <td>13.790272</td>\n",
       "      <td>0.560687</td>\n",
       "      <td>-6.058251</td>\n",
       "    </tr>\n",
       "    <tr>\n",
       "      <th>8736</th>\n",
       "      <td>CALM3</td>\n",
       "      <td>1.463860</td>\n",
       "      <td>7.424351</td>\n",
       "      <td>0.197170</td>\n",
       "      <td>-5.960491</td>\n",
       "    </tr>\n",
       "    <tr>\n",
       "      <th>16254</th>\n",
       "      <td>SYT1</td>\n",
       "      <td>0.185528</td>\n",
       "      <td>6.011366</td>\n",
       "      <td>0.030863</td>\n",
       "      <td>-5.825838</td>\n",
       "    </tr>\n",
       "    <tr>\n",
       "      <th>15440</th>\n",
       "      <td>RTN1</td>\n",
       "      <td>0.274007</td>\n",
       "      <td>6.063993</td>\n",
       "      <td>0.045186</td>\n",
       "      <td>-5.789986</td>\n",
       "    </tr>\n",
       "    <tr>\n",
       "      <th>9100</th>\n",
       "      <td>CKB</td>\n",
       "      <td>2.179389</td>\n",
       "      <td>7.726192</td>\n",
       "      <td>0.282078</td>\n",
       "      <td>-5.546803</td>\n",
       "    </tr>\n",
       "  </tbody>\n",
       "</table>\n",
       "</div>"
      ],
      "text/plain": [
       "            Gene  Cancerous_Expression  Healthy_Expression  Fold_Change  \\\n",
       "15939     SNAP25              0.476029           11.508679     0.041363   \n",
       "13916       NRGN              0.377407           10.929496     0.034531   \n",
       "8734       CALM1              2.297945            9.041385     0.254159   \n",
       "17263      VSNL1              0.214466            6.803100     0.031525   \n",
       "17116      UCHL1              0.797541            6.918970     0.115269   \n",
       "13567  MTRNR2L12              7.732021           13.790272     0.560687   \n",
       "8736       CALM3              1.463860            7.424351     0.197170   \n",
       "16254       SYT1              0.185528            6.011366     0.030863   \n",
       "15440       RTN1              0.274007            6.063993     0.045186   \n",
       "9100         CKB              2.179389            7.726192     0.282078   \n",
       "\n",
       "       Expression_Difference  \n",
       "15939             -11.032650  \n",
       "13916             -10.552089  \n",
       "8734               -6.743441  \n",
       "17263              -6.588634  \n",
       "17116              -6.121429  \n",
       "13567              -6.058251  \n",
       "8736               -5.960491  \n",
       "16254              -5.825838  \n",
       "15440              -5.789986  \n",
       "9100               -5.546803  "
      ]
     },
     "metadata": {},
     "output_type": "display_data"
    },
    {
     "name": "stdout",
     "output_type": "stream",
     "text": [
      "Remaining low active genes after filtering: 17732\n"
     ]
    },
    {
     "data": {
      "application/vnd.plotly.v1+json": {
       "config": {
        "plotlyServerURL": "https://plot.ly"
       },
       "data": [
        {
         "hovertemplate": "Gene=%{x}<br>Expression Difference=%{marker.color}<extra></extra>",
         "legendgroup": "",
         "marker": {
          "color": {
           "bdata": "a7Bec7cQJsBT2zlsqxolwClNv49I+RrANd8Z+cJaGsDWy1bZV3wYwPp4fiumOxjAZ5hR6YrXF8DDgIpyqE0XwMwrKTHyKBfAEvgcJO0vFsBOJcJCvXMTwI2y2NoIuxLAw7NIyOwMEsDw5wAcG/0RwLjK6h3XvRHAEYxBSLhVEMCTL5malcsPwABhQHYLRw/AKASULYYOD8BuSpWJRWEOwA==",
           "dtype": "f8"
          },
          "coloraxis": "coloraxis",
          "pattern": {
           "shape": ""
          }
         },
         "name": "",
         "orientation": "v",
         "showlegend": false,
         "textposition": "auto",
         "type": "bar",
         "x": [
          "SNAP25",
          "NRGN",
          "CALM1",
          "VSNL1",
          "UCHL1",
          "MTRNR2L12",
          "CALM3",
          "SYT1",
          "RTN1",
          "CKB",
          "CHN1",
          "MBP",
          "YWHAH",
          "IDS",
          "AL627171.2",
          "CCK",
          "NEFL",
          "OLFM1",
          "PLP1",
          "YWHAG"
         ],
         "xaxis": "x",
         "y": {
          "bdata": "a7Bec7cQJsBT2zlsqxolwClNv49I+RrANd8Z+cJaGsDWy1bZV3wYwPp4fiumOxjAZ5hR6YrXF8DDgIpyqE0XwMwrKTHyKBfAEvgcJO0vFsBOJcJCvXMTwI2y2NoIuxLAw7NIyOwMEsDw5wAcG/0RwLjK6h3XvRHAEYxBSLhVEMCTL5malcsPwABhQHYLRw/AKASULYYOD8BuSpWJRWEOwA==",
          "dtype": "f8"
         },
         "yaxis": "y"
        }
       ],
       "layout": {
        "barmode": "relative",
        "coloraxis": {
         "colorbar": {
          "title": {
           "text": "Expression Difference"
          }
         },
         "colorscale": [
          [
           0,
           "rgb(247,251,255)"
          ],
          [
           0.125,
           "rgb(222,235,247)"
          ],
          [
           0.25,
           "rgb(198,219,239)"
          ],
          [
           0.375,
           "rgb(158,202,225)"
          ],
          [
           0.5,
           "rgb(107,174,214)"
          ],
          [
           0.625,
           "rgb(66,146,198)"
          ],
          [
           0.75,
           "rgb(33,113,181)"
          ],
          [
           0.875,
           "rgb(8,81,156)"
          ],
          [
           1,
           "rgb(8,48,107)"
          ]
         ]
        },
        "legend": {
         "tracegroupgap": 0
        },
        "template": {
         "data": {
          "bar": [
           {
            "error_x": {
             "color": "#2a3f5f"
            },
            "error_y": {
             "color": "#2a3f5f"
            },
            "marker": {
             "line": {
              "color": "#E5ECF6",
              "width": 0.5
             },
             "pattern": {
              "fillmode": "overlay",
              "size": 10,
              "solidity": 0.2
             }
            },
            "type": "bar"
           }
          ],
          "barpolar": [
           {
            "marker": {
             "line": {
              "color": "#E5ECF6",
              "width": 0.5
             },
             "pattern": {
              "fillmode": "overlay",
              "size": 10,
              "solidity": 0.2
             }
            },
            "type": "barpolar"
           }
          ],
          "carpet": [
           {
            "aaxis": {
             "endlinecolor": "#2a3f5f",
             "gridcolor": "white",
             "linecolor": "white",
             "minorgridcolor": "white",
             "startlinecolor": "#2a3f5f"
            },
            "baxis": {
             "endlinecolor": "#2a3f5f",
             "gridcolor": "white",
             "linecolor": "white",
             "minorgridcolor": "white",
             "startlinecolor": "#2a3f5f"
            },
            "type": "carpet"
           }
          ],
          "choropleth": [
           {
            "colorbar": {
             "outlinewidth": 0,
             "ticks": ""
            },
            "type": "choropleth"
           }
          ],
          "contour": [
           {
            "colorbar": {
             "outlinewidth": 0,
             "ticks": ""
            },
            "colorscale": [
             [
              0,
              "#0d0887"
             ],
             [
              0.1111111111111111,
              "#46039f"
             ],
             [
              0.2222222222222222,
              "#7201a8"
             ],
             [
              0.3333333333333333,
              "#9c179e"
             ],
             [
              0.4444444444444444,
              "#bd3786"
             ],
             [
              0.5555555555555556,
              "#d8576b"
             ],
             [
              0.6666666666666666,
              "#ed7953"
             ],
             [
              0.7777777777777778,
              "#fb9f3a"
             ],
             [
              0.8888888888888888,
              "#fdca26"
             ],
             [
              1,
              "#f0f921"
             ]
            ],
            "type": "contour"
           }
          ],
          "contourcarpet": [
           {
            "colorbar": {
             "outlinewidth": 0,
             "ticks": ""
            },
            "type": "contourcarpet"
           }
          ],
          "heatmap": [
           {
            "colorbar": {
             "outlinewidth": 0,
             "ticks": ""
            },
            "colorscale": [
             [
              0,
              "#0d0887"
             ],
             [
              0.1111111111111111,
              "#46039f"
             ],
             [
              0.2222222222222222,
              "#7201a8"
             ],
             [
              0.3333333333333333,
              "#9c179e"
             ],
             [
              0.4444444444444444,
              "#bd3786"
             ],
             [
              0.5555555555555556,
              "#d8576b"
             ],
             [
              0.6666666666666666,
              "#ed7953"
             ],
             [
              0.7777777777777778,
              "#fb9f3a"
             ],
             [
              0.8888888888888888,
              "#fdca26"
             ],
             [
              1,
              "#f0f921"
             ]
            ],
            "type": "heatmap"
           }
          ],
          "histogram": [
           {
            "marker": {
             "pattern": {
              "fillmode": "overlay",
              "size": 10,
              "solidity": 0.2
             }
            },
            "type": "histogram"
           }
          ],
          "histogram2d": [
           {
            "colorbar": {
             "outlinewidth": 0,
             "ticks": ""
            },
            "colorscale": [
             [
              0,
              "#0d0887"
             ],
             [
              0.1111111111111111,
              "#46039f"
             ],
             [
              0.2222222222222222,
              "#7201a8"
             ],
             [
              0.3333333333333333,
              "#9c179e"
             ],
             [
              0.4444444444444444,
              "#bd3786"
             ],
             [
              0.5555555555555556,
              "#d8576b"
             ],
             [
              0.6666666666666666,
              "#ed7953"
             ],
             [
              0.7777777777777778,
              "#fb9f3a"
             ],
             [
              0.8888888888888888,
              "#fdca26"
             ],
             [
              1,
              "#f0f921"
             ]
            ],
            "type": "histogram2d"
           }
          ],
          "histogram2dcontour": [
           {
            "colorbar": {
             "outlinewidth": 0,
             "ticks": ""
            },
            "colorscale": [
             [
              0,
              "#0d0887"
             ],
             [
              0.1111111111111111,
              "#46039f"
             ],
             [
              0.2222222222222222,
              "#7201a8"
             ],
             [
              0.3333333333333333,
              "#9c179e"
             ],
             [
              0.4444444444444444,
              "#bd3786"
             ],
             [
              0.5555555555555556,
              "#d8576b"
             ],
             [
              0.6666666666666666,
              "#ed7953"
             ],
             [
              0.7777777777777778,
              "#fb9f3a"
             ],
             [
              0.8888888888888888,
              "#fdca26"
             ],
             [
              1,
              "#f0f921"
             ]
            ],
            "type": "histogram2dcontour"
           }
          ],
          "mesh3d": [
           {
            "colorbar": {
             "outlinewidth": 0,
             "ticks": ""
            },
            "type": "mesh3d"
           }
          ],
          "parcoords": [
           {
            "line": {
             "colorbar": {
              "outlinewidth": 0,
              "ticks": ""
             }
            },
            "type": "parcoords"
           }
          ],
          "pie": [
           {
            "automargin": true,
            "type": "pie"
           }
          ],
          "scatter": [
           {
            "fillpattern": {
             "fillmode": "overlay",
             "size": 10,
             "solidity": 0.2
            },
            "type": "scatter"
           }
          ],
          "scatter3d": [
           {
            "line": {
             "colorbar": {
              "outlinewidth": 0,
              "ticks": ""
             }
            },
            "marker": {
             "colorbar": {
              "outlinewidth": 0,
              "ticks": ""
             }
            },
            "type": "scatter3d"
           }
          ],
          "scattercarpet": [
           {
            "marker": {
             "colorbar": {
              "outlinewidth": 0,
              "ticks": ""
             }
            },
            "type": "scattercarpet"
           }
          ],
          "scattergeo": [
           {
            "marker": {
             "colorbar": {
              "outlinewidth": 0,
              "ticks": ""
             }
            },
            "type": "scattergeo"
           }
          ],
          "scattergl": [
           {
            "marker": {
             "colorbar": {
              "outlinewidth": 0,
              "ticks": ""
             }
            },
            "type": "scattergl"
           }
          ],
          "scattermap": [
           {
            "marker": {
             "colorbar": {
              "outlinewidth": 0,
              "ticks": ""
             }
            },
            "type": "scattermap"
           }
          ],
          "scattermapbox": [
           {
            "marker": {
             "colorbar": {
              "outlinewidth": 0,
              "ticks": ""
             }
            },
            "type": "scattermapbox"
           }
          ],
          "scatterpolar": [
           {
            "marker": {
             "colorbar": {
              "outlinewidth": 0,
              "ticks": ""
             }
            },
            "type": "scatterpolar"
           }
          ],
          "scatterpolargl": [
           {
            "marker": {
             "colorbar": {
              "outlinewidth": 0,
              "ticks": ""
             }
            },
            "type": "scatterpolargl"
           }
          ],
          "scatterternary": [
           {
            "marker": {
             "colorbar": {
              "outlinewidth": 0,
              "ticks": ""
             }
            },
            "type": "scatterternary"
           }
          ],
          "surface": [
           {
            "colorbar": {
             "outlinewidth": 0,
             "ticks": ""
            },
            "colorscale": [
             [
              0,
              "#0d0887"
             ],
             [
              0.1111111111111111,
              "#46039f"
             ],
             [
              0.2222222222222222,
              "#7201a8"
             ],
             [
              0.3333333333333333,
              "#9c179e"
             ],
             [
              0.4444444444444444,
              "#bd3786"
             ],
             [
              0.5555555555555556,
              "#d8576b"
             ],
             [
              0.6666666666666666,
              "#ed7953"
             ],
             [
              0.7777777777777778,
              "#fb9f3a"
             ],
             [
              0.8888888888888888,
              "#fdca26"
             ],
             [
              1,
              "#f0f921"
             ]
            ],
            "type": "surface"
           }
          ],
          "table": [
           {
            "cells": {
             "fill": {
              "color": "#EBF0F8"
             },
             "line": {
              "color": "white"
             }
            },
            "header": {
             "fill": {
              "color": "#C8D4E3"
             },
             "line": {
              "color": "white"
             }
            },
            "type": "table"
           }
          ]
         },
         "layout": {
          "annotationdefaults": {
           "arrowcolor": "#2a3f5f",
           "arrowhead": 0,
           "arrowwidth": 1
          },
          "autotypenumbers": "strict",
          "coloraxis": {
           "colorbar": {
            "outlinewidth": 0,
            "ticks": ""
           }
          },
          "colorscale": {
           "diverging": [
            [
             0,
             "#8e0152"
            ],
            [
             0.1,
             "#c51b7d"
            ],
            [
             0.2,
             "#de77ae"
            ],
            [
             0.3,
             "#f1b6da"
            ],
            [
             0.4,
             "#fde0ef"
            ],
            [
             0.5,
             "#f7f7f7"
            ],
            [
             0.6,
             "#e6f5d0"
            ],
            [
             0.7,
             "#b8e186"
            ],
            [
             0.8,
             "#7fbc41"
            ],
            [
             0.9,
             "#4d9221"
            ],
            [
             1,
             "#276419"
            ]
           ],
           "sequential": [
            [
             0,
             "#0d0887"
            ],
            [
             0.1111111111111111,
             "#46039f"
            ],
            [
             0.2222222222222222,
             "#7201a8"
            ],
            [
             0.3333333333333333,
             "#9c179e"
            ],
            [
             0.4444444444444444,
             "#bd3786"
            ],
            [
             0.5555555555555556,
             "#d8576b"
            ],
            [
             0.6666666666666666,
             "#ed7953"
            ],
            [
             0.7777777777777778,
             "#fb9f3a"
            ],
            [
             0.8888888888888888,
             "#fdca26"
            ],
            [
             1,
             "#f0f921"
            ]
           ],
           "sequentialminus": [
            [
             0,
             "#0d0887"
            ],
            [
             0.1111111111111111,
             "#46039f"
            ],
            [
             0.2222222222222222,
             "#7201a8"
            ],
            [
             0.3333333333333333,
             "#9c179e"
            ],
            [
             0.4444444444444444,
             "#bd3786"
            ],
            [
             0.5555555555555556,
             "#d8576b"
            ],
            [
             0.6666666666666666,
             "#ed7953"
            ],
            [
             0.7777777777777778,
             "#fb9f3a"
            ],
            [
             0.8888888888888888,
             "#fdca26"
            ],
            [
             1,
             "#f0f921"
            ]
           ]
          },
          "colorway": [
           "#636efa",
           "#EF553B",
           "#00cc96",
           "#ab63fa",
           "#FFA15A",
           "#19d3f3",
           "#FF6692",
           "#B6E880",
           "#FF97FF",
           "#FECB52"
          ],
          "font": {
           "color": "#2a3f5f"
          },
          "geo": {
           "bgcolor": "white",
           "lakecolor": "white",
           "landcolor": "#E5ECF6",
           "showlakes": true,
           "showland": true,
           "subunitcolor": "white"
          },
          "hoverlabel": {
           "align": "left"
          },
          "hovermode": "closest",
          "mapbox": {
           "style": "light"
          },
          "paper_bgcolor": "white",
          "plot_bgcolor": "#E5ECF6",
          "polar": {
           "angularaxis": {
            "gridcolor": "white",
            "linecolor": "white",
            "ticks": ""
           },
           "bgcolor": "#E5ECF6",
           "radialaxis": {
            "gridcolor": "white",
            "linecolor": "white",
            "ticks": ""
           }
          },
          "scene": {
           "xaxis": {
            "backgroundcolor": "#E5ECF6",
            "gridcolor": "white",
            "gridwidth": 2,
            "linecolor": "white",
            "showbackground": true,
            "ticks": "",
            "zerolinecolor": "white"
           },
           "yaxis": {
            "backgroundcolor": "#E5ECF6",
            "gridcolor": "white",
            "gridwidth": 2,
            "linecolor": "white",
            "showbackground": true,
            "ticks": "",
            "zerolinecolor": "white"
           },
           "zaxis": {
            "backgroundcolor": "#E5ECF6",
            "gridcolor": "white",
            "gridwidth": 2,
            "linecolor": "white",
            "showbackground": true,
            "ticks": "",
            "zerolinecolor": "white"
           }
          },
          "shapedefaults": {
           "line": {
            "color": "#2a3f5f"
           }
          },
          "ternary": {
           "aaxis": {
            "gridcolor": "white",
            "linecolor": "white",
            "ticks": ""
           },
           "baxis": {
            "gridcolor": "white",
            "linecolor": "white",
            "ticks": ""
           },
           "bgcolor": "#E5ECF6",
           "caxis": {
            "gridcolor": "white",
            "linecolor": "white",
            "ticks": ""
           }
          },
          "title": {
           "x": 0.05
          },
          "xaxis": {
           "automargin": true,
           "gridcolor": "white",
           "linecolor": "white",
           "ticks": "",
           "title": {
            "standoff": 15
           },
           "zerolinecolor": "white",
           "zerolinewidth": 2
          },
          "yaxis": {
           "automargin": true,
           "gridcolor": "white",
           "linecolor": "white",
           "ticks": "",
           "title": {
            "standoff": 15
           },
           "zerolinecolor": "white",
           "zerolinewidth": 2
          }
         }
        },
        "title": {
         "text": "Top 20 Low Active Genes"
        },
        "xaxis": {
         "anchor": "y",
         "domain": [
          0,
          1
         ],
         "title": {
          "text": "Gene"
         }
        },
        "yaxis": {
         "anchor": "x",
         "domain": [
          0,
          1
         ],
         "title": {
          "text": "Expression Difference"
         }
        }
       }
      }
     },
     "metadata": {},
     "output_type": "display_data"
    }
   ],
   "source": [
    "# Load the data (final_low_active_genes file)\n",
    "final_low_active_genes = pd.read_csv(f\"{output_dir}/low_change_genes.csv\")\n",
    "\n",
    "# Calculate Expression Difference (Cancerous - Healthy)\n",
    "final_low_active_genes['Expression_Difference'] = final_low_active_genes['Cancerous_Expression'] - final_low_active_genes['Healthy_Expression']\n",
    "\n",
    "# Filter out genes with Expression_Difference <= 5 (low active genes)\n",
    "final_low_active_genes = final_low_active_genes[final_low_active_genes['Expression_Difference'] <= 5]\n",
    "\n",
    "# Sort by Expression_Difference (ascending order)\n",
    "final_low_active_genes = final_low_active_genes.sort_values(by=\"Expression_Difference\", ascending=True)\n",
    "\n",
    "# Display the top 10 rows\n",
    "display(final_low_active_genes.head(10))\n",
    "\n",
    "# Show the total number of genes after filtering\n",
    "print(f\"Remaining low active genes after filtering: {len(final_low_active_genes)}\")\n",
    "\n",
    "# Select top 20 low active genes for better readability\n",
    "top_n = 20\n",
    "top_low_active_genes = final_low_active_genes.head(top_n)\n",
    "\n",
    "# Create a bar chart for low active genes\n",
    "fig = px.bar(top_low_active_genes, x=\"Gene\", y=\"Expression_Difference\", \n",
    "             title=f\"Top {top_n} Low Active Genes\",\n",
    "             labels={\"Expression_Difference\": \"Expression Difference\"},\n",
    "             color=\"Expression_Difference\",\n",
    "             color_continuous_scale=\"Blues\")\n",
    "\n",
    "fig.show()\n"
   ]
  },
  {
   "cell_type": "code",
   "execution_count": 106,
   "metadata": {},
   "outputs": [
    {
     "data": {
      "text/plain": [
       "17"
      ]
     },
     "metadata": {},
     "output_type": "display_data"
    },
    {
     "data": {
      "text/html": [
       "<div>\n",
       "<style scoped>\n",
       "    .dataframe tbody tr th:only-of-type {\n",
       "        vertical-align: middle;\n",
       "    }\n",
       "\n",
       "    .dataframe tbody tr th {\n",
       "        vertical-align: top;\n",
       "    }\n",
       "\n",
       "    .dataframe thead th {\n",
       "        text-align: right;\n",
       "    }\n",
       "</style>\n",
       "<table border=\"1\" class=\"dataframe\">\n",
       "  <thead>\n",
       "    <tr style=\"text-align: right;\">\n",
       "      <th></th>\n",
       "      <th>Unnamed: 0</th>\n",
       "      <th>Expression_Range</th>\n",
       "      <th>Gene</th>\n",
       "      <th>Cancerous_Expression</th>\n",
       "      <th>Healthy_Expression</th>\n",
       "      <th>Expression_Difference</th>\n",
       "    </tr>\n",
       "  </thead>\n",
       "  <tbody>\n",
       "    <tr>\n",
       "      <th>0</th>\n",
       "      <td>MT-CO2</td>\n",
       "      <td>44.758466</td>\n",
       "      <td>MT-CO2</td>\n",
       "      <td>113.154734</td>\n",
       "      <td>40.544156</td>\n",
       "      <td>72.610578</td>\n",
       "    </tr>\n",
       "    <tr>\n",
       "      <th>1</th>\n",
       "      <td>MT-CO3</td>\n",
       "      <td>32.680648</td>\n",
       "      <td>MT-CO3</td>\n",
       "      <td>98.601141</td>\n",
       "      <td>37.846820</td>\n",
       "      <td>60.754321</td>\n",
       "    </tr>\n",
       "    <tr>\n",
       "      <th>2</th>\n",
       "      <td>MT-ND4</td>\n",
       "      <td>23.015902</td>\n",
       "      <td>MT-ND4</td>\n",
       "      <td>68.138247</td>\n",
       "      <td>27.972665</td>\n",
       "      <td>40.165582</td>\n",
       "    </tr>\n",
       "    <tr>\n",
       "      <th>3</th>\n",
       "      <td>MT-CYB</td>\n",
       "      <td>17.515566</td>\n",
       "      <td>MT-CYB</td>\n",
       "      <td>41.232353</td>\n",
       "      <td>20.033319</td>\n",
       "      <td>21.199034</td>\n",
       "    </tr>\n",
       "    <tr>\n",
       "      <th>4</th>\n",
       "      <td>CST3</td>\n",
       "      <td>10.907864</td>\n",
       "      <td>CST3</td>\n",
       "      <td>15.158645</td>\n",
       "      <td>6.566566</td>\n",
       "      <td>8.592080</td>\n",
       "    </tr>\n",
       "    <tr>\n",
       "      <th>5</th>\n",
       "      <td>FTH1</td>\n",
       "      <td>8.956057</td>\n",
       "      <td>FTH1</td>\n",
       "      <td>38.386870</td>\n",
       "      <td>9.350942</td>\n",
       "      <td>29.035929</td>\n",
       "    </tr>\n",
       "    <tr>\n",
       "      <th>6</th>\n",
       "      <td>GAPDH</td>\n",
       "      <td>7.916805</td>\n",
       "      <td>GAPDH</td>\n",
       "      <td>26.188128</td>\n",
       "      <td>8.047681</td>\n",
       "      <td>18.140447</td>\n",
       "    </tr>\n",
       "    <tr>\n",
       "      <th>7</th>\n",
       "      <td>RPL37A</td>\n",
       "      <td>7.373952</td>\n",
       "      <td>RPL37A</td>\n",
       "      <td>24.756617</td>\n",
       "      <td>5.128192</td>\n",
       "      <td>19.628425</td>\n",
       "    </tr>\n",
       "    <tr>\n",
       "      <th>8</th>\n",
       "      <td>TMSB10</td>\n",
       "      <td>6.600614</td>\n",
       "      <td>TMSB10</td>\n",
       "      <td>44.012013</td>\n",
       "      <td>8.189061</td>\n",
       "      <td>35.822952</td>\n",
       "    </tr>\n",
       "    <tr>\n",
       "      <th>9</th>\n",
       "      <td>RPL41</td>\n",
       "      <td>6.577451</td>\n",
       "      <td>RPL41</td>\n",
       "      <td>35.740344</td>\n",
       "      <td>5.294492</td>\n",
       "      <td>30.445852</td>\n",
       "    </tr>\n",
       "    <tr>\n",
       "      <th>10</th>\n",
       "      <td>ACTB</td>\n",
       "      <td>5.905717</td>\n",
       "      <td>ACTB</td>\n",
       "      <td>24.641521</td>\n",
       "      <td>7.014800</td>\n",
       "      <td>17.626722</td>\n",
       "    </tr>\n",
       "    <tr>\n",
       "      <th>11</th>\n",
       "      <td>RPL34</td>\n",
       "      <td>5.674240</td>\n",
       "      <td>RPL34</td>\n",
       "      <td>12.360752</td>\n",
       "      <td>3.629815</td>\n",
       "      <td>8.730937</td>\n",
       "    </tr>\n",
       "    <tr>\n",
       "      <th>12</th>\n",
       "      <td>TMSB4X</td>\n",
       "      <td>5.495915</td>\n",
       "      <td>TMSB4X</td>\n",
       "      <td>17.726534</td>\n",
       "      <td>4.968005</td>\n",
       "      <td>12.758530</td>\n",
       "    </tr>\n",
       "    <tr>\n",
       "      <th>13</th>\n",
       "      <td>RPL17</td>\n",
       "      <td>5.331244</td>\n",
       "      <td>RPL17</td>\n",
       "      <td>8.768968</td>\n",
       "      <td>2.737982</td>\n",
       "      <td>6.030986</td>\n",
       "    </tr>\n",
       "    <tr>\n",
       "      <th>14</th>\n",
       "      <td>GFAP</td>\n",
       "      <td>5.309452</td>\n",
       "      <td>GFAP</td>\n",
       "      <td>23.161153</td>\n",
       "      <td>4.881751</td>\n",
       "      <td>18.279402</td>\n",
       "    </tr>\n",
       "    <tr>\n",
       "      <th>15</th>\n",
       "      <td>RPL32</td>\n",
       "      <td>5.118016</td>\n",
       "      <td>RPL32</td>\n",
       "      <td>16.749891</td>\n",
       "      <td>3.401828</td>\n",
       "      <td>13.348063</td>\n",
       "    </tr>\n",
       "    <tr>\n",
       "      <th>16</th>\n",
       "      <td>RPS21</td>\n",
       "      <td>5.028898</td>\n",
       "      <td>RPS21</td>\n",
       "      <td>17.339911</td>\n",
       "      <td>3.342250</td>\n",
       "      <td>13.997661</td>\n",
       "    </tr>\n",
       "  </tbody>\n",
       "</table>\n",
       "</div>"
      ],
      "text/plain": [
       "   Unnamed: 0  Expression_Range    Gene  Cancerous_Expression  \\\n",
       "0      MT-CO2         44.758466  MT-CO2            113.154734   \n",
       "1      MT-CO3         32.680648  MT-CO3             98.601141   \n",
       "2      MT-ND4         23.015902  MT-ND4             68.138247   \n",
       "3      MT-CYB         17.515566  MT-CYB             41.232353   \n",
       "4        CST3         10.907864    CST3             15.158645   \n",
       "5        FTH1          8.956057    FTH1             38.386870   \n",
       "6       GAPDH          7.916805   GAPDH             26.188128   \n",
       "7      RPL37A          7.373952  RPL37A             24.756617   \n",
       "8      TMSB10          6.600614  TMSB10             44.012013   \n",
       "9       RPL41          6.577451   RPL41             35.740344   \n",
       "10       ACTB          5.905717    ACTB             24.641521   \n",
       "11      RPL34          5.674240   RPL34             12.360752   \n",
       "12     TMSB4X          5.495915  TMSB4X             17.726534   \n",
       "13      RPL17          5.331244   RPL17              8.768968   \n",
       "14       GFAP          5.309452    GFAP             23.161153   \n",
       "15      RPL32          5.118016   RPL32             16.749891   \n",
       "16      RPS21          5.028898   RPS21             17.339911   \n",
       "\n",
       "    Healthy_Expression  Expression_Difference  \n",
       "0            40.544156              72.610578  \n",
       "1            37.846820              60.754321  \n",
       "2            27.972665              40.165582  \n",
       "3            20.033319              21.199034  \n",
       "4             6.566566               8.592080  \n",
       "5             9.350942              29.035929  \n",
       "6             8.047681              18.140447  \n",
       "7             5.128192              19.628425  \n",
       "8             8.189061              35.822952  \n",
       "9             5.294492              30.445852  \n",
       "10            7.014800              17.626722  \n",
       "11            3.629815               8.730937  \n",
       "12            4.968005              12.758530  \n",
       "13            2.737982               6.030986  \n",
       "14            4.881751              18.279402  \n",
       "15            3.401828              13.348063  \n",
       "16            3.342250              13.997661  "
      ]
     },
     "metadata": {},
     "output_type": "display_data"
    }
   ],
   "source": [
    "# Get the top n unusual genes from the healthy data based on Expression_Range > 5\n",
    "healthy_unusual_genes = sorted_df[[gene_name_column, \"Expression_Range\"]].head(n)\n",
    "\n",
    "# Assuming final_highly_active_genes contains a column with gene names (e.g., \"Gene\")\n",
    "# Merge healthy_unusual_genes with final_highly_active_genes on the gene name column\n",
    "merged_genes = pd.merge(healthy_unusual_genes, final_highly_active_genes, left_on=gene_name_column, right_on=\"Gene\")\n",
    "\n",
    "# Display the result\n",
    "display(len(merged_genes))\n",
    "display(merged_genes)\n",
    "\n"
   ]
  },
  {
   "cell_type": "code",
   "execution_count": 112,
   "metadata": {},
   "outputs": [
    {
     "data": {
      "text/html": [
       "<div>\n",
       "<style scoped>\n",
       "    .dataframe tbody tr th:only-of-type {\n",
       "        vertical-align: middle;\n",
       "    }\n",
       "\n",
       "    .dataframe tbody tr th {\n",
       "        vertical-align: top;\n",
       "    }\n",
       "\n",
       "    .dataframe thead th {\n",
       "        text-align: right;\n",
       "    }\n",
       "</style>\n",
       "<table border=\"1\" class=\"dataframe\">\n",
       "  <thead>\n",
       "    <tr style=\"text-align: right;\">\n",
       "      <th></th>\n",
       "      <th>Unnamed: 0</th>\n",
       "      <th>GSE184510_GSM5591750</th>\n",
       "      <th>GSE184510_GSM5591752</th>\n",
       "      <th>Human_Brain_Kwon_10162023_Visium_V10A27004_D1_Br3880</th>\n",
       "      <th>Human_Brain_Louise_02152023_Visium_Br3942_post</th>\n",
       "      <th>Human_Brain_Louise_02152023_Visium_Br6432_post</th>\n",
       "      <th>Human_Brain_Louise_02152023_Visium_Br8325_mid</th>\n",
       "      <th>Expression_Range</th>\n",
       "      <th>Range_Group</th>\n",
       "    </tr>\n",
       "  </thead>\n",
       "  <tbody>\n",
       "    <tr>\n",
       "      <th>2432</th>\n",
       "      <td>TMSB10</td>\n",
       "      <td>6.962428</td>\n",
       "      <td>7.867203</td>\n",
       "      <td>9.659436</td>\n",
       "      <td>9.662955</td>\n",
       "      <td>10.791479</td>\n",
       "      <td>4.190865</td>\n",
       "      <td>6.600614</td>\n",
       "      <td>+5</td>\n",
       "    </tr>\n",
       "    <tr>\n",
       "      <th>3093</th>\n",
       "      <td>RPL37A</td>\n",
       "      <td>3.524566</td>\n",
       "      <td>5.097787</td>\n",
       "      <td>9.476356</td>\n",
       "      <td>3.771364</td>\n",
       "      <td>6.796675</td>\n",
       "      <td>2.102404</td>\n",
       "      <td>7.373952</td>\n",
       "      <td>+5</td>\n",
       "    </tr>\n",
       "    <tr>\n",
       "      <th>3360</th>\n",
       "      <td>RPL32</td>\n",
       "      <td>2.412211</td>\n",
       "      <td>3.096982</td>\n",
       "      <td>6.413449</td>\n",
       "      <td>2.793864</td>\n",
       "      <td>4.399030</td>\n",
       "      <td>1.295433</td>\n",
       "      <td>5.118016</td>\n",
       "      <td>+5</td>\n",
       "    </tr>\n",
       "    <tr>\n",
       "      <th>4836</th>\n",
       "      <td>RPL34</td>\n",
       "      <td>2.727962</td>\n",
       "      <td>3.679276</td>\n",
       "      <td>7.158134</td>\n",
       "      <td>2.026818</td>\n",
       "      <td>4.702806</td>\n",
       "      <td>1.483894</td>\n",
       "      <td>5.674240</td>\n",
       "      <td>+5</td>\n",
       "    </tr>\n",
       "    <tr>\n",
       "      <th>7015</th>\n",
       "      <td>ACTB</td>\n",
       "      <td>8.130780</td>\n",
       "      <td>7.634205</td>\n",
       "      <td>3.918221</td>\n",
       "      <td>9.750909</td>\n",
       "      <td>8.809491</td>\n",
       "      <td>3.845192</td>\n",
       "      <td>5.905717</td>\n",
       "      <td>+5</td>\n",
       "    </tr>\n",
       "    <tr>\n",
       "      <th>10465</th>\n",
       "      <td>FTH1</td>\n",
       "      <td>6.786488</td>\n",
       "      <td>8.521932</td>\n",
       "      <td>13.190672</td>\n",
       "      <td>10.716591</td>\n",
       "      <td>12.655352</td>\n",
       "      <td>4.234615</td>\n",
       "      <td>8.956057</td>\n",
       "      <td>+5</td>\n",
       "    </tr>\n",
       "    <tr>\n",
       "      <th>11182</th>\n",
       "      <td>GAPDH</td>\n",
       "      <td>6.372471</td>\n",
       "      <td>6.836620</td>\n",
       "      <td>6.567028</td>\n",
       "      <td>12.779545</td>\n",
       "      <td>10.867683</td>\n",
       "      <td>4.862740</td>\n",
       "      <td>7.916805</td>\n",
       "      <td>+5</td>\n",
       "    </tr>\n",
       "    <tr>\n",
       "      <th>11600</th>\n",
       "      <td>RPL41</td>\n",
       "      <td>2.888728</td>\n",
       "      <td>4.307847</td>\n",
       "      <td>7.620607</td>\n",
       "      <td>5.588182</td>\n",
       "      <td>8.969519</td>\n",
       "      <td>2.392067</td>\n",
       "      <td>6.577451</td>\n",
       "      <td>+5</td>\n",
       "    </tr>\n",
       "    <tr>\n",
       "      <th>15242</th>\n",
       "      <td>GFAP</td>\n",
       "      <td>5.051301</td>\n",
       "      <td>5.686519</td>\n",
       "      <td>6.492625</td>\n",
       "      <td>5.735909</td>\n",
       "      <td>5.140977</td>\n",
       "      <td>1.183173</td>\n",
       "      <td>5.309452</td>\n",
       "      <td>+5</td>\n",
       "    </tr>\n",
       "    <tr>\n",
       "      <th>15927</th>\n",
       "      <td>RPL17</td>\n",
       "      <td>1.725072</td>\n",
       "      <td>2.247485</td>\n",
       "      <td>6.406725</td>\n",
       "      <td>1.602500</td>\n",
       "      <td>3.370627</td>\n",
       "      <td>1.075481</td>\n",
       "      <td>5.331244</td>\n",
       "      <td>+5</td>\n",
       "    </tr>\n",
       "    <tr>\n",
       "      <th>17500</th>\n",
       "      <td>CST3</td>\n",
       "      <td>3.572616</td>\n",
       "      <td>3.451509</td>\n",
       "      <td>5.408026</td>\n",
       "      <td>11.379091</td>\n",
       "      <td>13.248008</td>\n",
       "      <td>2.340144</td>\n",
       "      <td>10.907864</td>\n",
       "      <td>+5</td>\n",
       "    </tr>\n",
       "    <tr>\n",
       "      <th>17827</th>\n",
       "      <td>RPS21</td>\n",
       "      <td>2.469653</td>\n",
       "      <td>3.447887</td>\n",
       "      <td>6.410629</td>\n",
       "      <td>1.871136</td>\n",
       "      <td>4.472463</td>\n",
       "      <td>1.381731</td>\n",
       "      <td>5.028898</td>\n",
       "      <td>+5</td>\n",
       "    </tr>\n",
       "    <tr>\n",
       "      <th>18647</th>\n",
       "      <td>TMSB4X</td>\n",
       "      <td>3.895592</td>\n",
       "      <td>4.422133</td>\n",
       "      <td>8.082213</td>\n",
       "      <td>4.600455</td>\n",
       "      <td>6.221337</td>\n",
       "      <td>2.586298</td>\n",
       "      <td>5.495915</td>\n",
       "      <td>+5</td>\n",
       "    </tr>\n",
       "    <tr>\n",
       "      <th>19248</th>\n",
       "      <td>MT-CO2</td>\n",
       "      <td>21.447977</td>\n",
       "      <td>32.392354</td>\n",
       "      <td>42.719957</td>\n",
       "      <td>47.218636</td>\n",
       "      <td>66.206443</td>\n",
       "      <td>33.279567</td>\n",
       "      <td>44.758466</td>\n",
       "      <td>+5</td>\n",
       "    </tr>\n",
       "    <tr>\n",
       "      <th>19251</th>\n",
       "      <td>MT-CO3</td>\n",
       "      <td>22.151012</td>\n",
       "      <td>31.383501</td>\n",
       "      <td>51.208243</td>\n",
       "      <td>37.441364</td>\n",
       "      <td>54.831659</td>\n",
       "      <td>30.065144</td>\n",
       "      <td>32.680648</td>\n",
       "      <td>+5</td>\n",
       "    </tr>\n",
       "    <tr>\n",
       "      <th>19254</th>\n",
       "      <td>MT-ND4</td>\n",
       "      <td>25.691113</td>\n",
       "      <td>29.127565</td>\n",
       "      <td>26.305206</td>\n",
       "      <td>27.911591</td>\n",
       "      <td>40.908209</td>\n",
       "      <td>17.892308</td>\n",
       "      <td>23.015902</td>\n",
       "      <td>+5</td>\n",
       "    </tr>\n",
       "    <tr>\n",
       "      <th>19257</th>\n",
       "      <td>MT-CYB</td>\n",
       "      <td>17.221098</td>\n",
       "      <td>21.892153</td>\n",
       "      <td>18.440347</td>\n",
       "      <td>15.783636</td>\n",
       "      <td>32.189124</td>\n",
       "      <td>14.673558</td>\n",
       "      <td>17.515566</td>\n",
       "      <td>+5</td>\n",
       "    </tr>\n",
       "  </tbody>\n",
       "</table>\n",
       "</div>"
      ],
      "text/plain": [
       "      Unnamed: 0  GSE184510_GSM5591750  GSE184510_GSM5591752  \\\n",
       "2432      TMSB10              6.962428              7.867203   \n",
       "3093      RPL37A              3.524566              5.097787   \n",
       "3360       RPL32              2.412211              3.096982   \n",
       "4836       RPL34              2.727962              3.679276   \n",
       "7015        ACTB              8.130780              7.634205   \n",
       "10465       FTH1              6.786488              8.521932   \n",
       "11182      GAPDH              6.372471              6.836620   \n",
       "11600      RPL41              2.888728              4.307847   \n",
       "15242       GFAP              5.051301              5.686519   \n",
       "15927      RPL17              1.725072              2.247485   \n",
       "17500       CST3              3.572616              3.451509   \n",
       "17827      RPS21              2.469653              3.447887   \n",
       "18647     TMSB4X              3.895592              4.422133   \n",
       "19248     MT-CO2             21.447977             32.392354   \n",
       "19251     MT-CO3             22.151012             31.383501   \n",
       "19254     MT-ND4             25.691113             29.127565   \n",
       "19257     MT-CYB             17.221098             21.892153   \n",
       "\n",
       "       Human_Brain_Kwon_10162023_Visium_V10A27004_D1_Br3880  \\\n",
       "2432                                            9.659436      \n",
       "3093                                            9.476356      \n",
       "3360                                            6.413449      \n",
       "4836                                            7.158134      \n",
       "7015                                            3.918221      \n",
       "10465                                          13.190672      \n",
       "11182                                           6.567028      \n",
       "11600                                           7.620607      \n",
       "15242                                           6.492625      \n",
       "15927                                           6.406725      \n",
       "17500                                           5.408026      \n",
       "17827                                           6.410629      \n",
       "18647                                           8.082213      \n",
       "19248                                          42.719957      \n",
       "19251                                          51.208243      \n",
       "19254                                          26.305206      \n",
       "19257                                          18.440347      \n",
       "\n",
       "       Human_Brain_Louise_02152023_Visium_Br3942_post  \\\n",
       "2432                                         9.662955   \n",
       "3093                                         3.771364   \n",
       "3360                                         2.793864   \n",
       "4836                                         2.026818   \n",
       "7015                                         9.750909   \n",
       "10465                                       10.716591   \n",
       "11182                                       12.779545   \n",
       "11600                                        5.588182   \n",
       "15242                                        5.735909   \n",
       "15927                                        1.602500   \n",
       "17500                                       11.379091   \n",
       "17827                                        1.871136   \n",
       "18647                                        4.600455   \n",
       "19248                                       47.218636   \n",
       "19251                                       37.441364   \n",
       "19254                                       27.911591   \n",
       "19257                                       15.783636   \n",
       "\n",
       "       Human_Brain_Louise_02152023_Visium_Br6432_post  \\\n",
       "2432                                        10.791479   \n",
       "3093                                         6.796675   \n",
       "3360                                         4.399030   \n",
       "4836                                         4.702806   \n",
       "7015                                         8.809491   \n",
       "10465                                       12.655352   \n",
       "11182                                       10.867683   \n",
       "11600                                        8.969519   \n",
       "15242                                        5.140977   \n",
       "15927                                        3.370627   \n",
       "17500                                       13.248008   \n",
       "17827                                        4.472463   \n",
       "18647                                        6.221337   \n",
       "19248                                       66.206443   \n",
       "19251                                       54.831659   \n",
       "19254                                       40.908209   \n",
       "19257                                       32.189124   \n",
       "\n",
       "       Human_Brain_Louise_02152023_Visium_Br8325_mid  Expression_Range  \\\n",
       "2432                                        4.190865          6.600614   \n",
       "3093                                        2.102404          7.373952   \n",
       "3360                                        1.295433          5.118016   \n",
       "4836                                        1.483894          5.674240   \n",
       "7015                                        3.845192          5.905717   \n",
       "10465                                       4.234615          8.956057   \n",
       "11182                                       4.862740          7.916805   \n",
       "11600                                       2.392067          6.577451   \n",
       "15242                                       1.183173          5.309452   \n",
       "15927                                       1.075481          5.331244   \n",
       "17500                                       2.340144         10.907864   \n",
       "17827                                       1.381731          5.028898   \n",
       "18647                                       2.586298          5.495915   \n",
       "19248                                      33.279567         44.758466   \n",
       "19251                                      30.065144         32.680648   \n",
       "19254                                      17.892308         23.015902   \n",
       "19257                                      14.673558         17.515566   \n",
       "\n",
       "      Range_Group  \n",
       "2432           +5  \n",
       "3093           +5  \n",
       "3360           +5  \n",
       "4836           +5  \n",
       "7015           +5  \n",
       "10465          +5  \n",
       "11182          +5  \n",
       "11600          +5  \n",
       "15242          +5  \n",
       "15927          +5  \n",
       "17500          +5  \n",
       "17827          +5  \n",
       "18647          +5  \n",
       "19248          +5  \n",
       "19251          +5  \n",
       "19254          +5  \n",
       "19257          +5  "
      ]
     },
     "metadata": {},
     "output_type": "display_data"
    }
   ],
   "source": [
    "# Get the list of gene names from the merged_genes DataFrame\n",
    "merged_genes_list = merged_genes[gene_name_column].tolist()\n",
    "\n",
    "# Extract rows from healthy_df where the gene name is in the merged_genes_list\n",
    "healthy_merged_genes_df = healthy_df[healthy_df[gene_name_column].isin(merged_genes_list)]\n",
    "\n",
    "# Sort by Expression_Range (or any other column, adjust as necessary)\n",
    "healthy_merged_genes_df_sorted = healthy_merged_genes_df.sort_values(by=\"Expression_Range\", ascending=False)\n",
    "\n",
    "# Display the result\n",
    "display(healthy_merged_genes_df)\n"
   ]
  },
  {
   "cell_type": "markdown",
   "metadata": {},
   "source": [
    "#### this Cell is for test only "
   ]
  },
  {
   "cell_type": "code",
   "execution_count": null,
   "metadata": {},
   "outputs": [],
   "source": []
  },
  {
   "cell_type": "code",
   "execution_count": 30,
   "metadata": {},
   "outputs": [],
   "source": [
    "# import os\n",
    "# import pandas as pd\n",
    "\n",
    "# # Output directory\n",
    "# output_dir = \"../../data/gene_analyses/brain\"\n",
    "# os.makedirs(output_dir, exist_ok=True)\n",
    "\n",
    "# # Load brain slides info\n",
    "# brain_slides = pd.read_csv(\"../../data/slide_info/brain_slide_info.csv\")\n",
    "\n",
    "# # Dictionary to store results\n",
    "# cancer_results = {}\n",
    "# healthy_results = {}\n",
    "\n",
    "# # Initialize selected slides\n",
    "# selected_slides = {\"healthy\": None, \"cancerous\": None}\n",
    "\n",
    "# for _, row in brain_slides.iterrows():\n",
    "#     slide = row[\"slide\"]\n",
    "#     cancer_status = row[\"involve_cancer\"]  # Check if it's cancerous\n",
    "#     file_path = os.path.join(gene_exp_dir, f\"{slide}_count.csv\")\n",
    "\n",
    "#     if os.path.exists(file_path):  # Ensure the file exists\n",
    "#         if cancer_status and selected_slides[\"cancerous\"] is None:\n",
    "#             selected_slides[\"cancerous\"] = slide\n",
    "#         elif not cancer_status and selected_slides[\"healthy\"] is None:\n",
    "#             selected_slides[\"healthy\"] = slide\n",
    "        \n",
    "#         # Stop when both a cancerous and a healthy slide are selected\n",
    "#         if all(selected_slides.values()):\n",
    "#             break\n",
    "\n",
    "# # Run for the selected slides\n",
    "# for category, slide in selected_slides.items():\n",
    "#     avg_exp = compute_avg_expression(slide)\n",
    "#     if avg_exp is not None:\n",
    "#         if category == \"cancerous\":  \n",
    "#             cancer_results = avg_exp  # Store in cancerous group\n",
    "#         else:\n",
    "#             healthy_results = avg_exp  # Store in healthy group\n",
    "\n",
    "# # Convert to DataFrames with gene names as the index\n",
    "# cancer_results_df = pd.DataFrame(cancer_results, columns=[\"Expression\"]).rename_axis(\"Gene\")\n",
    "# healthy_results_df = pd.DataFrame(healthy_results, columns=[\"Expression\"]).rename_axis(\"Gene\")\n",
    "\n",
    "# # Define separate file paths\n",
    "# cancer_output_file = os.path.join(output_dir, \"cancerous_avg_gene_expression.csv\")\n",
    "# healthy_output_file = os.path.join(output_dir, \"healthy_avg_gene_expression.csv\")\n",
    "\n",
    "# # Save results in separate files\n",
    "# cancer_results_df.to_csv(cancer_output_file)\n",
    "# healthy_results_df.to_csv(healthy_output_file)\n",
    "\n",
    "# print(f\"✅ Cancerous gene expression saved at: {cancer_output_file}\")\n",
    "# print(f\"✅ Healthy gene expression saved at: {healthy_output_file}\")\n"
   ]
  },
  {
   "cell_type": "markdown",
   "metadata": {},
   "source": [
    "* ### Outlier Detection & Visualization"
   ]
  },
  {
   "cell_type": "code",
   "execution_count": 31,
   "metadata": {},
   "outputs": [
    {
     "data": {
      "image/png": "[encoded data removed]",
      "text/plain": [
       "<Figure size 1200x600 with 1 Axes>"
      ]
     },
     "metadata": {},
     "output_type": "display_data"
    },
    {
     "data": {
      "image/png": "[encoded data removed]",
      "text/plain": [
       "<Figure size 1200x600 with 1 Axes>"
      ]
     },
     "metadata": {},
     "output_type": "display_data"
    },
    {
     "name": "stdout",
     "output_type": "stream",
     "text": [
      "✅ Outliers successfully detected and visualized!\n"
     ]
    }
   ],
   "source": [
    "\n",
    "\n",
    "\n",
    "# Function to detect outliers row-by-row\n",
    "def detect_outliers(df):\n",
    "    \"\"\"\n",
    "    Identifies outliers using the IQR method.\n",
    "    \n",
    "    Instead of processing the entire DataFrame at once, it processes each row separately\n",
    "    to avoid excessive memory usage.\n",
    "    \"\"\"\n",
    "    outliers = pd.DataFrame(False, index=df.index, columns=df.columns)  # Initialize empty DataFrame\n",
    "\n",
    "    for idx in df.index:  # Iterate row-wise\n",
    "        row = df.loc[idx]\n",
    "        Q1 = np.percentile(row, 25)\n",
    "        Q3 = np.percentile(row, 75)\n",
    "        IQR = Q3 - Q1\n",
    "\n",
    "        lower_bound = Q1 - 1.5 * IQR\n",
    "        upper_bound = Q3 + 1.5 * IQR\n",
    "\n",
    "        outliers.loc[idx] = (row < lower_bound) | (row > upper_bound)  # Row-wise operation\n",
    "\n",
    "    return outliers\n",
    "\n",
    "# Detect outliers in cancerous and healthy data\n",
    "cancerous_outliers = detect_outliers(cancerous_per_slide)\n",
    "healthy_outliers = detect_outliers(healthy_per_slide)\n",
    "\n",
    "# Count the number of outlier values per gene\n",
    "cancerous_outlier_counts = cancerous_outliers.sum(axis=1)\n",
    "healthy_outlier_counts = healthy_outliers.sum(axis=1)\n",
    "\n",
    "# Visualize outlier detection using box plots\n",
    "plt.figure(figsize=(12, 6))\n",
    "sns.boxplot(data=cancerous_per_slide.T, color=\"red\")\n",
    "plt.title(\"Cancerous Gene Expression Distribution (Outlier Detection)\")\n",
    "plt.xlabel(\"Genes\")\n",
    "plt.ylabel(\"Expression Level\")\n",
    "plt.xticks([])\n",
    "plt.show()\n",
    "\n",
    "plt.figure(figsize=(12, 6))\n",
    "sns.boxplot(data=healthy_per_slide.T, color=\"green\")\n",
    "plt.title(\"Healthy Gene Expression Distribution (Outlier Detection)\")\n",
    "plt.xlabel(\"Genes\")\n",
    "plt.ylabel(\"Expression Level\")\n",
    "plt.xticks([])\n",
    "plt.show()\n",
    "\n",
    "print(\"✅ Outliers successfully detected and visualized!\")"
   ]
  },
  {
   "cell_type": "markdown",
   "metadata": {},
   "source": [
    "# Downregulated Genes in Tumor"
   ]
  },
  {
   "cell_type": "code",
   "execution_count": 32,
   "metadata": {},
   "outputs": [],
   "source": [
    "cancerous_file = \"../../data/gene_analyses/brain/gen_exp_avg/cancerous_avg_gene_expression.csv\"\n",
    "healthy_file = \"../../data/gene_analyses/brain/gen_exp_avg/healthy_avg_gene_expression.csv\"\n",
    "\n",
    "# Load the cancerous and healthy gene expression DataFrames\n",
    "average_cancerous_genes_df = pd.read_csv(cancerous_file)\n",
    "average_healthy_genes_df = pd.read_csv(healthy_file)"
   ]
  },
  {
   "cell_type": "markdown",
   "metadata": {},
   "source": [
    "### 1. Which genes are Zeros in cancerous tissues but Active in healthy ones?\n"
   ]
  },
  {
   "cell_type": "markdown",
   "metadata": {},
   "source": [
    "# 2. Which genes activite decreaces after the tummor ? "
   ]
  },
  {
   "cell_type": "markdown",
   "metadata": {},
   "source": [
    "* #### Filtering and Saving Cancer-Absent Gene Expressions"
   ]
  },
  {
   "cell_type": "markdown",
   "metadata": {},
   "source": [
    "I know that this genes is zero in the Cancerious Slices so i need to know what is its activity in the healty ones.\n"
   ]
  },
  {
   "cell_type": "code",
   "execution_count": 33,
   "metadata": {},
   "outputs": [
    {
     "name": "stdout",
     "output_type": "stream",
     "text": [
      "🧬 The minimum non-zero gene expression value in healthy samples is: 0.0002169197396963\n"
     ]
    }
   ],
   "source": [
    "min_healthy_value = healthy_per_slide[healthy_per_slide > 0].min().min()\n",
    "print(f\"🧬 The minimum non-zero gene expression value in healthy samples is: {min_healthy_value}\")\n"
   ]
  },
  {
   "cell_type": "code",
   "execution_count": 34,
   "metadata": {},
   "outputs": [
    {
     "data": {
      "text/plain": [
       "2075"
      ]
     },
     "execution_count": 34,
     "metadata": {},
     "output_type": "execute_result"
    }
   ],
   "source": [
    "len(selected_cancerous_genes_df)"
   ]
  },
  {
   "cell_type": "code",
   "execution_count": 35,
   "metadata": {},
   "outputs": [
    {
     "name": "stdout",
     "output_type": "stream",
     "text": [
      "✅ Filtered gene expression data saved!\n",
      "🔹 Noise threshold applied: 0.01\n",
      "🔹 Total genes retained after filtering: 2075\n",
      "\n"
     ]
    }
   ],
   "source": [
    "output_dir = \"../../data/gene_analyses/brain/gene_activity\"\n",
    "\n",
    "# Ensure \"Gene\" column is clean\n",
    "selected_cancerous_genes_df[\"Gene\"] = (\n",
    "    selected_cancerous_genes_df[\"Gene\"].replace(\"\", np.nan).dropna()\n",
    ")\n",
    "\n",
    "# Fetch values, keeping NaNs for missing genes\n",
    "cancer_absent_gene_expressions = healthy_per_slide.reindex(\n",
    "    selected_cancerous_genes_df[\"Gene\"], fill_value=np.nan\n",
    ")\n",
    "\n",
    "# Convert values to numeric (ignore errors)\n",
    "cancer_absent_gene_expressions = cancer_absent_gene_expressions.apply(\n",
    "    pd.to_numeric, errors=\"coerce\"\n",
    ")\n",
    "\n",
    "# Determine noise threshold\n",
    "noise_threshold = 0.01\n",
    "\n",
    "# Apply noise filtering (keep values >= noise_threshold)\n",
    "filtered_cancerous_gene_expressions = cancer_absent_gene_expressions[\n",
    "    cancer_absent_gene_expressions >= noise_threshold\n",
    "]\n",
    "# Reset index to keep \"Gene\" as a separate column\n",
    "filtered_cancerous_gene_expressions = filtered_cancerous_gene_expressions.reset_index()\n",
    "\n",
    "# Drop rows where all values are NaN\n",
    "filtered_cancerous_gene_expressions = filtered_cancerous_gene_expressions.dropna(how=\"all\")\n",
    "\n",
    "# Rename the index column to \"Gene\"\n",
    "filtered_cancerous_gene_expressions.rename(columns={\"index\": \"Gene\"}, inplace=True)\n",
    "\n",
    "# Save results with \"Gene\" column included\n",
    "filtered_cancerous_gene_expressions.to_csv(\n",
    "    f\"{output_dir}/cancer_absent_gene_expressions.csv\", index=False\n",
    ")\n",
    "\n",
    "print(f\"\"\"✅ Filtered gene expression data saved!\n",
    "🔹 Noise threshold applied: {noise_threshold}\n",
    "🔹 Total genes retained after filtering: {filtered_cancerous_gene_expressions.shape[0]}\n",
    "\"\"\")"
   ]
  },
  {
   "cell_type": "code",
   "execution_count": 36,
   "metadata": {},
   "outputs": [
    {
     "data": {
      "text/plain": [
       "3658"
      ]
     },
     "execution_count": 36,
     "metadata": {},
     "output_type": "execute_result"
    }
   ],
   "source": [
    "len(selected_healthy_genes_df)"
   ]
  },
  {
   "cell_type": "code",
   "execution_count": 37,
   "metadata": {},
   "outputs": [],
   "source": [
    "filtered_cancerous_gene_expressions = pd.DataFrame(filtered_cancerous_gene_expressions)\n"
   ]
  },
  {
   "cell_type": "code",
   "execution_count": 38,
   "metadata": {},
   "outputs": [
    {
     "data": {
      "text/html": [
       "<div>\n",
       "<style scoped>\n",
       "    .dataframe tbody tr th:only-of-type {\n",
       "        vertical-align: middle;\n",
       "    }\n",
       "\n",
       "    .dataframe tbody tr th {\n",
       "        vertical-align: top;\n",
       "    }\n",
       "\n",
       "    .dataframe thead th {\n",
       "        text-align: right;\n",
       "    }\n",
       "</style>\n",
       "<table border=\"1\" class=\"dataframe\">\n",
       "  <thead>\n",
       "    <tr style=\"text-align: right;\">\n",
       "      <th></th>\n",
       "      <th>GSE184510_GSM5591750</th>\n",
       "      <th>GSE184510_GSM5591752</th>\n",
       "      <th>Human_Brain_Kwon_10162023_Visium_V10A27004_D1_Br3880</th>\n",
       "      <th>Human_Brain_Louise_02152023_Visium_Br3942_post</th>\n",
       "      <th>Human_Brain_Louise_02152023_Visium_Br6432_post</th>\n",
       "      <th>Human_Brain_Louise_02152023_Visium_Br8325_mid</th>\n",
       "    </tr>\n",
       "  </thead>\n",
       "  <tbody>\n",
       "    <tr>\n",
       "      <th>count</th>\n",
       "      <td>515.000000</td>\n",
       "      <td>490.000000</td>\n",
       "      <td>131.000000</td>\n",
       "      <td>388.000000</td>\n",
       "      <td>415.000000</td>\n",
       "      <td>165.000000</td>\n",
       "    </tr>\n",
       "    <tr>\n",
       "      <th>mean</th>\n",
       "      <td>0.031064</td>\n",
       "      <td>0.033303</td>\n",
       "      <td>0.019650</td>\n",
       "      <td>0.034971</td>\n",
       "      <td>0.032211</td>\n",
       "      <td>0.026473</td>\n",
       "    </tr>\n",
       "    <tr>\n",
       "      <th>std</th>\n",
       "      <td>0.033168</td>\n",
       "      <td>0.041722</td>\n",
       "      <td>0.011777</td>\n",
       "      <td>0.047966</td>\n",
       "      <td>0.039012</td>\n",
       "      <td>0.020559</td>\n",
       "    </tr>\n",
       "    <tr>\n",
       "      <th>min</th>\n",
       "      <td>0.010116</td>\n",
       "      <td>0.010060</td>\n",
       "      <td>0.010195</td>\n",
       "      <td>0.010000</td>\n",
       "      <td>0.010045</td>\n",
       "      <td>0.010096</td>\n",
       "    </tr>\n",
       "    <tr>\n",
       "      <th>25%</th>\n",
       "      <td>0.013006</td>\n",
       "      <td>0.012877</td>\n",
       "      <td>0.011931</td>\n",
       "      <td>0.012955</td>\n",
       "      <td>0.013336</td>\n",
       "      <td>0.012260</td>\n",
       "    </tr>\n",
       "    <tr>\n",
       "      <th>50%</th>\n",
       "      <td>0.018064</td>\n",
       "      <td>0.018712</td>\n",
       "      <td>0.014967</td>\n",
       "      <td>0.020455</td>\n",
       "      <td>0.019397</td>\n",
       "      <td>0.018990</td>\n",
       "    </tr>\n",
       "    <tr>\n",
       "      <th>75%</th>\n",
       "      <td>0.032876</td>\n",
       "      <td>0.033803</td>\n",
       "      <td>0.023644</td>\n",
       "      <td>0.036875</td>\n",
       "      <td>0.033772</td>\n",
       "      <td>0.031490</td>\n",
       "    </tr>\n",
       "    <tr>\n",
       "      <th>max</th>\n",
       "      <td>0.250723</td>\n",
       "      <td>0.527565</td>\n",
       "      <td>0.076356</td>\n",
       "      <td>0.590455</td>\n",
       "      <td>0.423277</td>\n",
       "      <td>0.118990</td>\n",
       "    </tr>\n",
       "  </tbody>\n",
       "</table>\n",
       "</div>"
      ],
      "text/plain": [
       "       GSE184510_GSM5591750  GSE184510_GSM5591752  \\\n",
       "count            515.000000            490.000000   \n",
       "mean               0.031064              0.033303   \n",
       "std                0.033168              0.041722   \n",
       "min                0.010116              0.010060   \n",
       "25%                0.013006              0.012877   \n",
       "50%                0.018064              0.018712   \n",
       "75%                0.032876              0.033803   \n",
       "max                0.250723              0.527565   \n",
       "\n",
       "       Human_Brain_Kwon_10162023_Visium_V10A27004_D1_Br3880  \\\n",
       "count                                         131.000000      \n",
       "mean                                            0.019650      \n",
       "std                                             0.011777      \n",
       "min                                             0.010195      \n",
       "25%                                             0.011931      \n",
       "50%                                             0.014967      \n",
       "75%                                             0.023644      \n",
       "max                                             0.076356      \n",
       "\n",
       "       Human_Brain_Louise_02152023_Visium_Br3942_post  \\\n",
       "count                                      388.000000   \n",
       "mean                                         0.034971   \n",
       "std                                          0.047966   \n",
       "min                                          0.010000   \n",
       "25%                                          0.012955   \n",
       "50%                                          0.020455   \n",
       "75%                                          0.036875   \n",
       "max                                          0.590455   \n",
       "\n",
       "       Human_Brain_Louise_02152023_Visium_Br6432_post  \\\n",
       "count                                      415.000000   \n",
       "mean                                         0.032211   \n",
       "std                                          0.039012   \n",
       "min                                          0.010045   \n",
       "25%                                          0.013336   \n",
       "50%                                          0.019397   \n",
       "75%                                          0.033772   \n",
       "max                                          0.423277   \n",
       "\n",
       "       Human_Brain_Louise_02152023_Visium_Br8325_mid  \n",
       "count                                     165.000000  \n",
       "mean                                        0.026473  \n",
       "std                                         0.020559  \n",
       "min                                         0.010096  \n",
       "25%                                         0.012260  \n",
       "50%                                         0.018990  \n",
       "75%                                         0.031490  \n",
       "max                                         0.118990  "
      ]
     },
     "execution_count": 38,
     "metadata": {},
     "output_type": "execute_result"
    }
   ],
   "source": [
    "filtered_cancerous_gene_expressions.describe()"
   ]
  },
  {
   "cell_type": "code",
   "execution_count": 39,
   "metadata": {},
   "outputs": [
    {
     "name": "stdout",
     "output_type": "stream",
     "text": [
      "✅ Filtered healthy gene expression data saved!\n",
      "🔹 Noise threshold applied: 0.01\n",
      "🔹 Total healthy genes retained after filtering: 3658\n",
      "\n"
     ]
    }
   ],
   "source": [
    "output_dir = \"../../data/gene_analyses/brain/gene_activity\"\n",
    "\n",
    "# Ensure \"Gene\" column is clean\n",
    "selected_healthy_genes_df[\"Gene\"] = (\n",
    "    selected_healthy_genes_df[\"Gene\"].replace(\"\", np.nan).dropna()\n",
    ")\n",
    "\n",
    "# Fetch values, keeping NaNs for missing genes\n",
    "healthy_absent_gene_expressions = cancerous_per_slide.reindex(\n",
    "    selected_healthy_genes_df[\"Gene\"], fill_value=np.nan\n",
    ")\n",
    "\n",
    "# Convert values to numeric (ignore errors)\n",
    "healthy_absent_gene_expressions = healthy_absent_gene_expressions.apply(\n",
    "    pd.to_numeric, errors=\"coerce\"\n",
    ")\n",
    "\n",
    "# Determine noise threshold\n",
    "noise_threshold = 0.01\n",
    "\n",
    "# Apply noise filtering (keep values >= noise_threshold)\n",
    "filtered_healthy_gene_expressions = healthy_absent_gene_expressions[\n",
    "    healthy_absent_gene_expressions >= noise_threshold\n",
    "]\n",
    "\n",
    "# Reset index to keep \"Gene\" as a separate column\n",
    "filtered_healthy_gene_expressions = filtered_healthy_gene_expressions.reset_index()\n",
    "\n",
    "# Drop rows where all values are NaN\n",
    "filtered_healthy_gene_expressions = filtered_healthy_gene_expressions.dropna(how=\"all\")\n",
    "\n",
    "# Rename the index column to \"Gene\"\n",
    "filtered_healthy_gene_expressions.rename(columns={\"index\": \"Gene\"}, inplace=True)\n",
    "\n",
    "# Save results with \"Gene\" column included\n",
    "filtered_healthy_gene_expressions.to_csv(\n",
    "    f\"{output_dir}/healthy_absent_gene_expressions.csv\", index=False\n",
    ")\n",
    "# print(filtered_healthy_gene_expressions)\n",
    "\n",
    "# Display results\n",
    "print(f\"\"\"✅ Filtered healthy gene expression data saved!\n",
    "🔹 Noise threshold applied: {noise_threshold}\n",
    "🔹 Total healthy genes retained after filtering: {filtered_healthy_gene_expressions.shape[0]}\n",
    "\"\"\")\n"
   ]
  },
  {
   "cell_type": "code",
   "execution_count": 40,
   "metadata": {},
   "outputs": [
    {
     "name": "stdout",
     "output_type": "stream",
     "text": [
      "Gene\n",
      "NPAS4         0.590455\n",
      "CARTPT        0.527565\n",
      "FRMPD2        0.381364\n",
      "OLFM3         0.250723\n",
      "NGB           0.241851\n",
      "DLGAP1-AS4    0.229650\n",
      "CALB1         0.216499\n",
      "NLGN4Y        0.214957\n",
      "CCKBR         0.198409\n",
      "PLPPR3        0.197727\n",
      "dtype: float64\n"
     ]
    }
   ],
   "source": [
    "# Ensure numeric data by setting the first column as index (assuming it contains gene names)\n",
    "filtered_cancerous_gene_expressions.set_index(\"Gene\", inplace=True)\n",
    "\n",
    "# Convert to numeric (ignoring errors in case of non-numeric data)\n",
    "filtered_cancerous_gene_expressions = filtered_cancerous_gene_expressions.apply(pd.to_numeric, errors=\"coerce\")\n",
    "\n",
    "# Get the top 10 genes with the highest expression values\n",
    "top_10_genes = filtered_cancerous_gene_expressions.max(axis=1).nlargest(10)\n",
    "\n",
    "# Display the result\n",
    "print(top_10_genes)"
   ]
  },
  {
   "cell_type": "code",
   "execution_count": 41,
   "metadata": {},
   "outputs": [
    {
     "name": "stdout",
     "output_type": "stream",
     "text": [
      "Gene\n",
      "IGHG4     332.945549\n",
      "IGHG3     238.495739\n",
      "MUCL1     140.140700\n",
      "IGHG1     124.443473\n",
      "IGLC2      80.633450\n",
      "S100A7     47.083047\n",
      "PMEL       38.431818\n",
      "SAA1       33.913713\n",
      "IGLC3      30.733100\n",
      "S100P      26.434944\n",
      "dtype: float64\n"
     ]
    }
   ],
   "source": [
    "# Ensure the gene names are in the index (if not already)\n",
    "filtered_healthy_gene_expressions.set_index(\"Gene\", inplace=True)\n",
    "\n",
    "\n",
    "# Convert to numeric (ignoring errors in case of non-numeric data)\n",
    "filtered_healthy_gene_expressions = filtered_healthy_gene_expressions.apply(pd.to_numeric, errors=\"coerce\")\n",
    "\n",
    "# Get the top 10 genes with the highest expression values across all samples\n",
    "top_10_genes = filtered_healthy_gene_expressions.max(axis=1).nlargest(10)\n",
    "\n",
    "# Display the result\n",
    "print(top_10_genes)\n"
   ]
  },
  {
   "cell_type": "markdown",
   "metadata": {},
   "source": [
    "### What I think about\n",
    "The \"filtered_gene_expressions\" _-The data is saved in the file called cancer_absent_gene_expressions -_ may represent tumor suppressor genes, as their expression decreases to zero in cancerous slides. These genes are referred to as \"cancer-suppressed genes.\"\n",
    "\n",
    "To verify this hypothesis, we need to investigate whether the identified genes are truly tumor suppressor genes or if they are just noise. This can be done by cross-referencing them with known tumor suppressor gene databases and analyzing their statistical significance.\n",
    "\n"
   ]
  },
  {
   "cell_type": "markdown",
   "metadata": {},
   "source": [
    "### Comment and Observation \n",
    "I have 1,020 genes that are completely inactive (0 expression) in cancerous samples but have an activity level greater than 0.01 in healthy slides. However, the maximum expression for these genes does not exceed 0.2, which raises concerns about their significance. Since their expression levels are relatively low, they might not have a meaningful impact on our analysis. It is possible that these genes are not biologically relevant to our study’s objectives, especially if they are close to the noise threshold."
   ]
  },
  {
   "cell_type": "markdown",
   "metadata": {},
   "source": [
    "<!-- ### Step 2: Identify Highly Active and Moderately Changed Genes\n",
    "\n",
    "In this step, we compare the average gene expression in cancerous and healthy tissues using the **fold-change approach**. We classify genes into three categories:\n",
    "\n",
    "- **Highly Active Genes**: Genes with at least **2×** higher expression in cancerous tissues compared to healthy tissues.\n",
    "- **Moderately Changed Genes**: Genes with a fold-change between **1× and 2×**.\n",
    "- **Low-Activity Genes**: Genes with lower expression in cancerous tissues than in healthy ones.\n",
    "\n",
    "This categorization helps us focus on genes that may play a significant role in cancer progression. The results are stored in separate files for further analysis. -->\n"
   ]
  },
  {
   "cell_type": "code",
   "execution_count": 42,
   "metadata": {},
   "outputs": [],
   "source": [
    "c_gen_avg=pd.read_csv(\"../../data/gene_analyses/brain/gen_exp_avg/cancerous_avg_gene_expression.csv\")\n"
   ]
  },
  {
   "cell_type": "code",
   "execution_count": 43,
   "metadata": {},
   "outputs": [
    {
     "name": "stdout",
     "output_type": "stream",
     "text": [
      "<class 'pandas.core.frame.DataFrame'>\n",
      "RangeIndex: 38224 entries, 0 to 38223\n",
      "Data columns (total 2 columns):\n",
      " #   Column                Non-Null Count  Dtype  \n",
      "---  ------                --------------  -----  \n",
      " 0   Unnamed: 0            38224 non-null  object \n",
      " 1   Cancerous_Expression  38224 non-null  float64\n",
      "dtypes: float64(1), object(1)\n",
      "memory usage: 597.4+ KB\n"
     ]
    }
   ],
   "source": [
    "c_gen_avg.info()"
   ]
  },
  {
   "cell_type": "code",
   "execution_count": 44,
   "metadata": {},
   "outputs": [
    {
     "data": {
      "text/plain": [
       "Unnamed: 0              0\n",
       "Cancerous_Expression    0\n",
       "dtype: int64"
      ]
     },
     "execution_count": 44,
     "metadata": {},
     "output_type": "execute_result"
    }
   ],
   "source": [
    "c_gen_avg.isna().sum()"
   ]
  },
  {
   "cell_type": "code",
   "execution_count": 46,
   "metadata": {},
   "outputs": [
    {
     "data": {
      "text/plain": [
       "Unnamed: 0              10352\n",
       "Cancerous_Expression    10352\n",
       "dtype: int64"
      ]
     },
     "execution_count": 46,
     "metadata": {},
     "output_type": "execute_result"
    }
   ],
   "source": [
    "c_gen_avg[(c_gen_avg[\"Cancerous_Expression\"]==0)].count()"
   ]
  },
  {
   "cell_type": "code",
   "execution_count": 47,
   "metadata": {},
   "outputs": [],
   "source": [
    "h_gen_avg=pd.read_csv(\"../../data/gene_analyses/brain/gen_exp_avg/healthy_avg_gene_expression.csv\")\n"
   ]
  },
  {
   "cell_type": "code",
   "execution_count": 48,
   "metadata": {},
   "outputs": [
    {
     "data": {
      "text/plain": [
       "36601"
      ]
     },
     "execution_count": 48,
     "metadata": {},
     "output_type": "execute_result"
    }
   ],
   "source": [
    "len(h_gen_avg)"
   ]
  },
  {
   "cell_type": "code",
   "execution_count": 49,
   "metadata": {},
   "outputs": [
    {
     "data": {
      "text/plain": [
       "Unnamed: 0            0\n",
       "Healthy_Expression    0\n",
       "dtype: int64"
      ]
     },
     "execution_count": 49,
     "metadata": {},
     "output_type": "execute_result"
    }
   ],
   "source": [
    "h_gen_avg.isna().sum()"
   ]
  },
  {
   "cell_type": "code",
   "execution_count": 50,
   "metadata": {},
   "outputs": [
    {
     "data": {
      "text/plain": [
       "Unnamed: 0            9786\n",
       "Healthy_Expression    9786\n",
       "dtype: int64"
      ]
     },
     "execution_count": 50,
     "metadata": {},
     "output_type": "execute_result"
    }
   ],
   "source": [
    "h_gen_avg[(h_gen_avg[\"Healthy_Expression\"]==0)].count()"
   ]
  },
  {
   "cell_type": "code",
   "execution_count": 114,
   "metadata": {},
   "outputs": [],
   "source": [
    "output_dir = \"../../data/gene_analyses/brain/gene_activity\"\n"
   ]
  },
  {
   "cell_type": "code",
   "execution_count": 115,
   "metadata": {},
   "outputs": [
    {
     "data": {
      "text/html": [
       "<div>\n",
       "<style scoped>\n",
       "    .dataframe tbody tr th:only-of-type {\n",
       "        vertical-align: middle;\n",
       "    }\n",
       "\n",
       "    .dataframe tbody tr th {\n",
       "        vertical-align: top;\n",
       "    }\n",
       "\n",
       "    .dataframe thead th {\n",
       "        text-align: right;\n",
       "    }\n",
       "</style>\n",
       "<table border=\"1\" class=\"dataframe\">\n",
       "  <thead>\n",
       "    <tr style=\"text-align: right;\">\n",
       "      <th></th>\n",
       "      <th>Gene</th>\n",
       "      <th>Cancerous_Expression</th>\n",
       "      <th>Healthy_Expression</th>\n",
       "      <th>Fold_Change</th>\n",
       "    </tr>\n",
       "  </thead>\n",
       "  <tbody>\n",
       "    <tr>\n",
       "      <th>13567</th>\n",
       "      <td>MTRNR2L12</td>\n",
       "      <td>7.732021</td>\n",
       "      <td>13.790272</td>\n",
       "      <td>0.560687</td>\n",
       "    </tr>\n",
       "    <tr>\n",
       "      <th>15939</th>\n",
       "      <td>SNAP25</td>\n",
       "      <td>0.476029</td>\n",
       "      <td>11.508679</td>\n",
       "      <td>0.041363</td>\n",
       "    </tr>\n",
       "    <tr>\n",
       "      <th>13916</th>\n",
       "      <td>NRGN</td>\n",
       "      <td>0.377407</td>\n",
       "      <td>10.929496</td>\n",
       "      <td>0.034531</td>\n",
       "    </tr>\n",
       "    <tr>\n",
       "      <th>13544</th>\n",
       "      <td>MT3</td>\n",
       "      <td>7.635190</td>\n",
       "      <td>10.136030</td>\n",
       "      <td>0.753272</td>\n",
       "    </tr>\n",
       "    <tr>\n",
       "      <th>10505</th>\n",
       "      <td>GNAS</td>\n",
       "      <td>7.274728</td>\n",
       "      <td>9.096342</td>\n",
       "      <td>0.799742</td>\n",
       "    </tr>\n",
       "    <tr>\n",
       "      <th>...</th>\n",
       "      <td>...</td>\n",
       "      <td>...</td>\n",
       "      <td>...</td>\n",
       "      <td>...</td>\n",
       "    </tr>\n",
       "    <tr>\n",
       "      <th>9507</th>\n",
       "      <td>DEFB103B</td>\n",
       "      <td>0.000000</td>\n",
       "      <td>0.000000</td>\n",
       "      <td>1.000000</td>\n",
       "    </tr>\n",
       "    <tr>\n",
       "      <th>9506</th>\n",
       "      <td>DEFB103A</td>\n",
       "      <td>0.000000</td>\n",
       "      <td>0.000000</td>\n",
       "      <td>1.000000</td>\n",
       "    </tr>\n",
       "    <tr>\n",
       "      <th>9537</th>\n",
       "      <td>DEFB4B</td>\n",
       "      <td>0.000000</td>\n",
       "      <td>0.000000</td>\n",
       "      <td>1.000000</td>\n",
       "    </tr>\n",
       "    <tr>\n",
       "      <th>9533</th>\n",
       "      <td>DEFB131B</td>\n",
       "      <td>0.000000</td>\n",
       "      <td>0.000000</td>\n",
       "      <td>1.000000</td>\n",
       "    </tr>\n",
       "    <tr>\n",
       "      <th>9531</th>\n",
       "      <td>DEFB130B</td>\n",
       "      <td>0.000000</td>\n",
       "      <td>0.000000</td>\n",
       "      <td>1.000000</td>\n",
       "    </tr>\n",
       "  </tbody>\n",
       "</table>\n",
       "<p>17008 rows × 4 columns</p>\n",
       "</div>"
      ],
      "text/plain": [
       "            Gene  Cancerous_Expression  Healthy_Expression  Fold_Change\n",
       "13567  MTRNR2L12              7.732021           13.790272     0.560687\n",
       "15939     SNAP25              0.476029           11.508679     0.041363\n",
       "13916       NRGN              0.377407           10.929496     0.034531\n",
       "13544        MT3              7.635190           10.136030     0.753272\n",
       "10505       GNAS              7.274728            9.096342     0.799742\n",
       "...          ...                   ...                 ...          ...\n",
       "9507    DEFB103B              0.000000            0.000000     1.000000\n",
       "9506    DEFB103A              0.000000            0.000000     1.000000\n",
       "9537      DEFB4B              0.000000            0.000000     1.000000\n",
       "9533    DEFB131B              0.000000            0.000000     1.000000\n",
       "9531    DEFB130B              0.000000            0.000000     1.000000\n",
       "\n",
       "[17008 rows x 4 columns]"
      ]
     },
     "metadata": {},
     "output_type": "display_data"
    },
    {
     "name": "stdout",
     "output_type": "stream",
     "text": [
      "✅ Updated list saved in ../../data/gene_analyses/brain/gene_activity/inactive_in_cancer_genes.csv after removing selected cancerous genes.\n"
     ]
    }
   ],
   "source": [
    "# Load low-change genes file\n",
    "low_active_genes = pd.read_csv(f\"{output_dir}/categorized_genes/low_change_genes.csv\")\n",
    "\n",
    "# Sort by Fold Change (ascending order)\n",
    "sorted_inactive_in_cancer = low_active_genes.sort_values(by=\"Healthy_Expression\", ascending=False)\n",
    "\n",
    "# Drop genes present in selected_cancerous_genes_df\n",
    "filtered_df = sorted_inactive_in_cancer[~sorted_inactive_in_cancer[\"Gene\"].isin(selected_cancerous_genes_df[\"Gene\"])]\n",
    "\n",
    "# Overwrite the existing file\n",
    "filtered_df.to_csv(f\"{output_dir}/inactive_in_cancer_genes.csv\", index=False)\n",
    "\n",
    "# Display the updated list\n",
    "display(filtered_df)\n",
    "\n",
    "print(f\"✅ Updated list saved in {output_dir}/inactive_in_cancer_genes.csv after removing selected cancerous genes.\")\n"
   ]
  },
  {
   "cell_type": "code",
   "execution_count": 118,
   "metadata": {},
   "outputs": [
    {
     "data": {
      "image/png": "[encoded data removed]",
      "text/plain": [
       "<Figure size 1200x1500 with 5 Axes>"
      ]
     },
     "metadata": {},
     "output_type": "display_data"
    }
   ],
   "source": [
    "\n",
    "# Select the top 50 genes based on Healthy Expression\n",
    "top_50_genes = sorted_inactive_in_cancer.head(90)\n",
    "\n",
    "# Define subplot layout\n",
    "fig, axes = plt.subplots(nrows=5, ncols=1, figsize=(12, 15))\n",
    "\n",
    "# Plot in 5 subplots (each with 10 genes)\n",
    "for i in range(5):\n",
    "    ax = axes[i]\n",
    "    \n",
    "    # Select 10 genes per subplot\n",
    "    subset = top_50_genes.iloc[i * 15: (i + 1) * 15]\n",
    "    \n",
    "    # Bar plot\n",
    "    subset.plot(\n",
    "        x=\"Gene\",\n",
    "        y=[\"Cancerous_Expression\", \"Healthy_Expression\"],\n",
    "        kind=\"bar\",\n",
    "        ax=ax,\n",
    "        width=0.8\n",
    "    )\n",
    "    \n",
    "    # Titles and labels\n",
    "    ax.set_ylabel(\"Expression Level\")\n",
    "    ax.set_title(f\"Genes {i * 15 + 1} - {i * 15 + 15}\")\n",
    "    ax.set_xticklabels(subset[\"Gene\"], rotation=45, ha=\"right\")\n",
    "\n",
    "# Adjust layout\n",
    "plt.tight_layout()\n",
    "plt.show()"
   ]
  },
  {
   "cell_type": "code",
   "execution_count": 54,
   "metadata": {},
   "outputs": [
    {
     "data": {
      "text/plain": [
       "<Figure size 1200x600 with 0 Axes>"
      ]
     },
     "metadata": {},
     "output_type": "display_data"
    },
    {
     "data": {
      "image/png": "[encoded data removed]",
      "text/plain": [
       "<Figure size 640x480 with 1 Axes>"
      ]
     },
     "metadata": {},
     "output_type": "display_data"
    }
   ],
   "source": [
    "# List of brain tumor suppressor genes\n",
    "brain_tumor_suppressor_genes = [\n",
    "    \"TP53\", \"RB1\", \"PTEN\", \"NF1\", \"CDKN2A\", \"CDKN2B\", \"SMARCB1\", \"SMARCA4\",\n",
    "    \"ATRX\", \"TSC1\", \"TSC2\", \"IDH1\", \"IDH2\", \"VHL\", \"PBRM1\", \"MEN1\", \"BAP1\",\n",
    "    \"FLCN\", \"CIC\", \"SUFU\"\n",
    "]\n",
    "\n",
    "# Load datasets\n",
    "cancerous_df = pd.read_csv(cancerous_file, index_col=0)\n",
    "healthy_df = pd.read_csv(healthy_file, index_col=0)\n",
    "\n",
    "# Filter for tumor suppressor genes\n",
    "cancerous_genes = cancerous_df.loc[brain_tumor_suppressor_genes].dropna()\n",
    "healthy_genes = healthy_df.loc[brain_tumor_suppressor_genes].dropna()\n",
    "\n",
    "# Merge data for plotting\n",
    "expression_data = pd.DataFrame({\n",
    "    \"Cancerous\": cancerous_genes[\"Cancerous_Expression\"],\n",
    "    \"Healthy\": healthy_genes[\"Healthy_Expression\"]\n",
    "}).dropna()\n",
    "\n",
    "# Plot bar graph\n",
    "plt.figure(figsize=(12, 6))\n",
    "expression_data.plot(kind='bar', width=0.8)\n",
    "plt.ylabel(\"Average Gene Expression\")\n",
    "plt.xlabel(\"Brain Tumor Suppressor Genes\")\n",
    "plt.title(\"Expression Levels of Brain Tumor Suppressor Genes in Cancerous vs. Healthy Samples\")\n",
    "plt.xticks(rotation=45, ha=\"right\")\n",
    "plt.legend(title=\"Sample Type\")\n",
    "plt.tight_layout()\n",
    "plt.show()\n"
   ]
  },
  {
   "cell_type": "markdown",
   "metadata": {},
   "source": [
    "# 2. Which genes activite decreaces after the tummor ? "
   ]
  },
  {
   "cell_type": "code",
   "execution_count": 55,
   "metadata": {},
   "outputs": [
    {
     "data": {
      "text/html": [
       "<div>\n",
       "<style scoped>\n",
       "    .dataframe tbody tr th:only-of-type {\n",
       "        vertical-align: middle;\n",
       "    }\n",
       "\n",
       "    .dataframe tbody tr th {\n",
       "        vertical-align: top;\n",
       "    }\n",
       "\n",
       "    .dataframe thead th {\n",
       "        text-align: right;\n",
       "    }\n",
       "</style>\n",
       "<table border=\"1\" class=\"dataframe\">\n",
       "  <thead>\n",
       "    <tr style=\"text-align: right;\">\n",
       "      <th></th>\n",
       "      <th>Gene</th>\n",
       "      <th>Cancerous_Expression</th>\n",
       "      <th>Healthy_Expression</th>\n",
       "      <th>Fold_Change</th>\n",
       "    </tr>\n",
       "  </thead>\n",
       "  <tbody>\n",
       "    <tr>\n",
       "      <th>13307</th>\n",
       "      <td>MBD3L4</td>\n",
       "      <td>0.000000</td>\n",
       "      <td>0.000000</td>\n",
       "      <td>1.000000</td>\n",
       "    </tr>\n",
       "    <tr>\n",
       "      <th>7828</th>\n",
       "      <td>AP001180.4</td>\n",
       "      <td>0.000000</td>\n",
       "      <td>0.000000</td>\n",
       "      <td>1.000000</td>\n",
       "    </tr>\n",
       "    <tr>\n",
       "      <th>7863</th>\n",
       "      <td>AP001486.2</td>\n",
       "      <td>0.000000</td>\n",
       "      <td>0.000000</td>\n",
       "      <td>1.000000</td>\n",
       "    </tr>\n",
       "    <tr>\n",
       "      <th>13821</th>\n",
       "      <td>NLRP9</td>\n",
       "      <td>0.000000</td>\n",
       "      <td>0.000000</td>\n",
       "      <td>1.000000</td>\n",
       "    </tr>\n",
       "    <tr>\n",
       "      <th>13822</th>\n",
       "      <td>NMBR</td>\n",
       "      <td>0.000000</td>\n",
       "      <td>0.000000</td>\n",
       "      <td>1.000000</td>\n",
       "    </tr>\n",
       "    <tr>\n",
       "      <th>...</th>\n",
       "      <td>...</td>\n",
       "      <td>...</td>\n",
       "      <td>...</td>\n",
       "      <td>...</td>\n",
       "    </tr>\n",
       "    <tr>\n",
       "      <th>10505</th>\n",
       "      <td>GNAS</td>\n",
       "      <td>7.274728</td>\n",
       "      <td>9.096342</td>\n",
       "      <td>0.799742</td>\n",
       "    </tr>\n",
       "    <tr>\n",
       "      <th>13544</th>\n",
       "      <td>MT3</td>\n",
       "      <td>7.635190</td>\n",
       "      <td>10.136030</td>\n",
       "      <td>0.753272</td>\n",
       "    </tr>\n",
       "    <tr>\n",
       "      <th>13916</th>\n",
       "      <td>NRGN</td>\n",
       "      <td>0.377407</td>\n",
       "      <td>10.929496</td>\n",
       "      <td>0.034531</td>\n",
       "    </tr>\n",
       "    <tr>\n",
       "      <th>15939</th>\n",
       "      <td>SNAP25</td>\n",
       "      <td>0.476029</td>\n",
       "      <td>11.508679</td>\n",
       "      <td>0.041363</td>\n",
       "    </tr>\n",
       "    <tr>\n",
       "      <th>13567</th>\n",
       "      <td>MTRNR2L12</td>\n",
       "      <td>7.732021</td>\n",
       "      <td>13.790272</td>\n",
       "      <td>0.560687</td>\n",
       "    </tr>\n",
       "  </tbody>\n",
       "</table>\n",
       "<p>17732 rows × 4 columns</p>\n",
       "</div>"
      ],
      "text/plain": [
       "             Gene  Cancerous_Expression  Healthy_Expression  Fold_Change\n",
       "13307      MBD3L4              0.000000            0.000000     1.000000\n",
       "7828   AP001180.4              0.000000            0.000000     1.000000\n",
       "7863   AP001486.2              0.000000            0.000000     1.000000\n",
       "13821       NLRP9              0.000000            0.000000     1.000000\n",
       "13822        NMBR              0.000000            0.000000     1.000000\n",
       "...           ...                   ...                 ...          ...\n",
       "10505        GNAS              7.274728            9.096342     0.799742\n",
       "13544         MT3              7.635190           10.136030     0.753272\n",
       "13916        NRGN              0.377407           10.929496     0.034531\n",
       "15939      SNAP25              0.476029           11.508679     0.041363\n",
       "13567   MTRNR2L12              7.732021           13.790272     0.560687\n",
       "\n",
       "[17732 rows x 4 columns]"
      ]
     },
     "execution_count": 55,
     "metadata": {},
     "output_type": "execute_result"
    }
   ],
   "source": [
    "sorted_inactive_in_cancer"
   ]
  },
  {
   "cell_type": "markdown",
   "metadata": {},
   "source": []
  },
  {
   "cell_type": "markdown",
   "metadata": {},
   "source": [
    "### 3. Which genes appear in both cancerous and healthy tissues but with different behaviors?\n"
   ]
  },
  {
   "cell_type": "markdown",
   "metadata": {},
   "source": [
    "### 4. Are there genes in some cancerous tissues that also appear in some healthy ones?\n",
    "If a gene is present in some healthy tissues but also in cancerous ones, it might be a pre-cancer indicator.\n"
   ]
  },
  {
   "cell_type": "markdown",
   "metadata": {},
   "source": [
    "### 5. Are there \"hidden\" genes with subtle activity shifts that might indicate risk?\n",
    "\n"
   ]
  },
  {
   "cell_type": "markdown",
   "metadata": {},
   "source": [
    "### 6. How do gene interactions change in cancerous vs. healthy tissues?\n",
    "\n"
   ]
  },
  {
   "cell_type": "markdown",
   "metadata": {},
   "source": [
    "# Upregulated Genes in Tumor"
   ]
  },
  {
   "cell_type": "markdown",
   "metadata": {},
   "source": [
    "## 2. Which genes are highly active in cancerous tissues but not in healthy ones?"
   ]
  }
 ],
 "metadata": {
  "kernelspec": {
   "display_name": "venv",
   "language": "python",
   "name": "python3"
  },
  "language_info": {
   "codemirror_mode": {
    "name": "ipython",
    "version": 3
   },
   "file_extension": ".py",
   "mimetype": "text/x-python",
   "name": "python",
   "nbconvert_exporter": "python",
   "pygments_lexer": "ipython3",
   "version": "3.13.0"
  }
 },
 "nbformat": 4,
 "nbformat_minor": 2
}
