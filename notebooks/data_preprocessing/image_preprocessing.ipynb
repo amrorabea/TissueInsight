{
 "cells": [
  {
   "cell_type": "code",
   "execution_count": 2,
   "metadata": {},
   "outputs": [],
   "source": [
    "import sys\n",
    "from typing import List,Dict\n",
    "import pandas as pd\n",
    "from PIL import Image\n",
    "import pandas as pd\n",
    "import matplotlib.pyplot as plt\n",
    "Image.MAX_IMAGE_PIXELS = 3080000000000000000000000000000000000"
   ]
  },
  {
   "cell_type": "code",
   "execution_count": null,
   "metadata": {},
   "outputs": [],
   "source": [
    "def check_image_all(path,slide):\n",
    "    temp_image = Image.open(f'{path}/image/{slide}.png')\n",
    "    temp_image = temp_image.convert('RGB')\n",
    "    coord = pd.read_csv(f'{path}/coord/{slide}_coord.csv')\n",
    "    r = coord.r[0] # radius\n",
    "    plt.clf()\n",
    "    plt.imshow(temp_image)\n",
    "    for i in range(len(coord.index)):\n",
    "        yaxis = coord.yaxis[i]\n",
    "        xaxis = coord.xaxis[i]\n",
    "        plt.plot([xaxis-r,xaxis+r],[yaxis-r,yaxis-r],c='lime',alpha=0.5)\n",
    "        plt.plot([xaxis-r,xaxis+r],[yaxis+r,yaxis+r],c='lime',alpha=0.5)\n",
    "        plt.plot([xaxis-r,xaxis-r],[yaxis-r,yaxis+r],c='lime',alpha=0.5)\n",
    "        plt.plot([xaxis+r,xaxis+r],[yaxis-r,yaxis+r],c='lime',alpha=0.5)\n",
    "    # crop plt\n",
    "    plt.axis('off')\n",
    "    plt.axis([coord.xaxis.min()-r*2,coord.xaxis.max()+r*2,coord.yaxis.max()+r*2,coord.yaxis.min()-r*2])\n",
    "    plt.savefig(f'./check_image_all/{slide}.png',dpi=100,bbox_inches='tight',pad_inches = 0)\n",
    "\n",
    "\n",
    "meta = pd.read_csv('meta_all_gene.csv',sep='\\t')\n",
    "\n",
    "for index in range(len(meta)):\n",
    "    slide = meta.slide[index]\n",
    "    tech = meta.tech[index]\n",
    "    # set your directory to downloaded STimage-1K4M\n",
    "    path=f'./{tech}/'\n",
    "    check_image_all(path,slide)"
   ]
  }
 ],
 "metadata": {
  "kernelspec": {
   "display_name": "venv",
   "language": "python",
   "name": "python3"
  },
  "language_info": {
   "codemirror_mode": {
    "name": "ipython",
    "version": 3
   },
   "file_extension": ".py",
   "mimetype": "text/x-python",
   "name": "python",
   "nbconvert_exporter": "python",
   "pygments_lexer": "ipython3",
   "version": "3.12.7"
  }
 },
 "nbformat": 4,
 "nbformat_minor": 2
}
