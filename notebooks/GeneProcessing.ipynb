{
 "cells": [
  {
   "cell_type": "markdown",
   "id": "60e9c2fe-0d7e-45f0-90a9-150c447ab511",
   "metadata": {},
   "source": [
    "# Libraries"
   ]
  },
  {
   "cell_type": "code",
   "execution_count": 3,
   "id": "25f88478-4b4b-4050-ac21-79ddd1c0e7ff",
   "metadata": {},
   "outputs": [],
   "source": [
    "import sys\n",
    "import os\n",
    "import scanpy as sc\n",
    "import pandas as pd\n",
    "import numpy as np"
   ]
  },
  {
   "cell_type": "markdown",
   "id": "e173f59e-27b4-4cd7-a23d-d0dc9bf7ac53",
   "metadata": {},
   "source": [
    "# Configurations"
   ]
  },
  {
   "cell_type": "code",
   "execution_count": 4,
   "id": "4cfd2ebf-11f3-4d03-ab62-e874357762a8",
   "metadata": {},
   "outputs": [],
   "source": [
    "meta = pd.read_csv('meta_all_gene.csv')\n",
    "path = '.'"
   ]
  },
  {
   "cell_type": "code",
   "execution_count": 4,
   "id": "b4cfd814-c429-4698-aa42-a636cfd4c500",
   "metadata": {},
   "outputs": [],
   "source": [
    "def find_hvg(slide, tech):\n",
    "    try:\n",
    "        gene_exp_slide = pd.read_csv(f'{path}/{tech}/gene_exp/{slide}.csv',sep=',',index_col=0)\n",
    "        adata = sc.AnnData(gene_exp_slide)\n",
    "        adata.var_names_make_unique()\n",
    "        \n",
    "        sc.pp.filter_cells(adata, min_genes=1)\n",
    "        sc.experimental.pp.highly_variable_genes(adata, n_top_genes=128)\n",
    "        \n",
    "        # sort genes by highly_variable\n",
    "        adata.var_names_make_unique()\n",
    "        hvg_list = adata.var['highly_variable_rank']\n",
    "        hvg_list = hvg_list.sort_values()\n",
    "        hvg_list = hvg_list.dropna()\n",
    "        \n",
    "        adata_hvg = adata[:, hvg_list.index]\n",
    "        sc.pp.normalize_total(adata_hvg)\n",
    "        sc.pp.log1p(adata_hvg)\n",
    "        hvg = adata_hvg.X\n",
    "        hvg = pd.DataFrame(hvg)\n",
    "        hvg.index = adata_hvg.obs.index\n",
    "        hvg.to_csv(f'./HVG/{slide}_count_hvg.csv',sep=',')\n",
    "        print(f\"FOUND HVG: {path}/{tech}/gene_exp/{slide}.csv\")\n",
    "    except:\n",
    "        pass"
   ]
  },
  {
   "cell_type": "markdown",
   "id": "b11437c5-8a88-4029-aa76-1f92a516e398",
   "metadata": {},
   "source": [
    "# Find HVGs"
   ]
  },
  {
   "cell_type": "code",
   "execution_count": 6,
   "id": "56991f16-533b-46dc-84c4-4c3aed5f6b31",
   "metadata": {},
   "outputs": [
    {
     "name": "stderr",
     "output_type": "stream",
     "text": [
      "/home/amro/projects/tf217/tf217/lib/python3.12/site-packages/scanpy/preprocessing/_normalization.py:208: UserWarning: Received a view of an AnnData. Making a copy.\n",
      "  view_to_actual(adata)\n"
     ]
    },
    {
     "name": "stdout",
     "output_type": "stream",
     "text": [
      "FOUND HVG: ./Visium/gene_exp/GSE144239_GSM4565823.csv\n",
      "FOUND HVG: ./Visium/gene_exp/GSE144239_GSM4565824.csv\n"
     ]
    },
    {
     "name": "stderr",
     "output_type": "stream",
     "text": [
      "/home/amro/projects/tf217/tf217/lib/python3.12/site-packages/scanpy/preprocessing/_normalization.py:208: UserWarning: Received a view of an AnnData. Making a copy.\n",
      "  view_to_actual(adata)\n"
     ]
    }
   ],
   "source": [
    "for i in range(len(meta)):\n",
    "    slide = meta['slide'][i]\n",
    "    tech = meta['tech'][i]\n",
    "\n",
    "    find_hvg(slide, tech)"
   ]
  },
  {
   "cell_type": "markdown",
   "id": "cbecd43d-f0b0-4c32-aa5f-4ffe7e96e25d",
   "metadata": {},
   "source": [
    "# Combine HVG of Human Skin"
   ]
  },
  {
   "cell_type": "code",
   "execution_count": 7,
   "id": "c7d41b61-95df-4af7-aef2-5d0f9d44abd1",
   "metadata": {},
   "outputs": [],
   "source": [
    "data = meta.loc[(meta['species'] == 'human') & (meta['tissue'] == 'skin'),:]\n",
    "data.slide.to_csv(f'human_skin_slide.csv',index=False,header=False)"
   ]
  },
  {
   "cell_type": "code",
   "execution_count": 1,
   "id": "1faac3b2-c953-4fe4-bfde-b05d188e1d3d",
   "metadata": {},
   "outputs": [
    {
     "name": "stdout",
     "output_type": "stream",
     "text": [
      "GSE144239_GSM4284316\n",
      "GSE144239_GSM4284317\n",
      "GSE144239_GSM4284318\n",
      "GSE144239_GSM4284319\n",
      "GSE144239_GSM4284320\n",
      "GSE144239_GSM4284321\n",
      "GSE144239_GSM4284322\n",
      "GSE144239_GSM4284323\n",
      "GSE144239_GSM4284324\n",
      "GSE144239_GSM4284325\n",
      "GSE144239_GSM4284326\n",
      "GSE144239_GSM4284327\n",
      "GSE144239_GSM4565823\n",
      "GSE144239_GSM4565824\n",
      "GSE144239_GSM4565825\n",
      "GSE144239_GSM4565826\n",
      "GSE173651_GSM5273010\n",
      "GSE173651_GSM5273011\n",
      "GSE173651_GSM5273012\n",
      "GSE173651_GSM5273013\n",
      "GSE173651_GSM5273014\n",
      "GSE173651_GSM5273015\n",
      "GSE182208_GSM5531131\n",
      "GSE197023_GSM5907077\n",
      "GSE197023_GSM5907078\n",
      "GSE197023_GSM5907079\n",
      "GSE197023_GSM5907080\n",
      "GSE197023_GSM5907081\n",
      "GSE197023_GSM5907082\n",
      "GSE197023_GSM5907083\n",
      "GSE197023_GSM5907084\n",
      "GSE197023_GSM5907085\n",
      "GSE197023_GSM5907086\n",
      "GSE197023_GSM5907088\n",
      "GSE197023_GSM5907089\n",
      "GSE197023_GSM5907090\n",
      "GSE197023_GSM5907091\n",
      "GSE197023_GSM5907092\n",
      "GSE197023_GSM5907093\n",
      "GSE197023_GSM5907094\n",
      "GSE197023_GSM5907095\n",
      "GSE197023_GSM5907096\n",
      "GSE237771_GSM7648697\n",
      "GSE237771_GSM7648698\n",
      "GSE237771_GSM7648699\n",
      "GSE237771_GSM7648700\n",
      "GSE249729_GSM7962127\n",
      "GSE249729_GSM7962128\n",
      "GSE249729_GSM7962129\n"
     ]
    }
   ],
   "source": [
    "import os\n",
    "import pandas as pd\n",
    "\n",
    "type_ = 'human_skin'\n",
    "path = './'\n",
    "output_file = f'./{type_}_count_hvg.csv'\n",
    "slide_file = f'./{type_}_slide.csv'\n",
    "\n",
    "# Remove the output file if it exists\n",
    "if os.path.exists(output_file):\n",
    "    os.remove(output_file)\n",
    "\n",
    "# Read slide names from file\n",
    "with open(slide_file, 'r') as f:\n",
    "    slides = f.read().splitlines()\n",
    "\n",
    "# Process each slide file\n",
    "for slide in slides:\n",
    "    input_file = os.path.join(path, 'HVG', f'{slide}_count_hvg.csv')\n",
    "    if os.path.exists(input_file):\n",
    "        df = pd.read_csv(input_file, skiprows=1)  # Skip the first row (header)\n",
    "        df.to_csv(output_file, mode='a', index=False, header=False)\n",
    "    print(slide)\n"
   ]
  },
  {
   "cell_type": "markdown",
   "id": "d1535737-6674-49d8-b72a-25ffc5d5dab9",
   "metadata": {},
   "source": [
    "# Overlap HVG"
   ]
  },
  {
   "cell_type": "code",
   "execution_count": 13,
   "id": "f46548ab-823e-4e4c-a014-09ca20eaa539",
   "metadata": {},
   "outputs": [],
   "source": [
    "data = meta.loc[(meta['species'] == 'human') & (meta['tissue'] == 'skin'),:]\n",
    "data.index = range(len(data.index))\n",
    "gene_name_overlap = []"
   ]
  },
  {
   "cell_type": "code",
   "execution_count": 16,
   "id": "20b1fd88-496d-4992-8de8-023fd6b81e26",
   "metadata": {},
   "outputs": [
    {
     "data": {
      "text/html": [
       "<div>\n",
       "<style scoped>\n",
       "    .dataframe tbody tr th:only-of-type {\n",
       "        vertical-align: middle;\n",
       "    }\n",
       "\n",
       "    .dataframe tbody tr th {\n",
       "        vertical-align: top;\n",
       "    }\n",
       "\n",
       "    .dataframe thead th {\n",
       "        text-align: right;\n",
       "    }\n",
       "</style>\n",
       "<table border=\"1\" class=\"dataframe\">\n",
       "  <thead>\n",
       "    <tr style=\"text-align: right;\">\n",
       "      <th></th>\n",
       "      <th>slide</th>\n",
       "      <th>species</th>\n",
       "      <th>tissue</th>\n",
       "      <th>pmid</th>\n",
       "      <th>title</th>\n",
       "      <th>abstract</th>\n",
       "      <th>keywords</th>\n",
       "      <th>involve_cancer</th>\n",
       "      <th>tech</th>\n",
       "      <th>spot_num</th>\n",
       "      <th>gene_num</th>\n",
       "    </tr>\n",
       "  </thead>\n",
       "  <tbody>\n",
       "    <tr>\n",
       "      <th>12</th>\n",
       "      <td>GSE144239_GSM4565823</td>\n",
       "      <td>human</td>\n",
       "      <td>skin</td>\n",
       "      <td>32579974,38037084</td>\n",
       "      <td>Title 1: Multimodal Analysis of Composition an...</td>\n",
       "      <td>Abstract 1: To define the cellular composition...</td>\n",
       "      <td>Keywords 1: CRISPR screen; MIBI; intra-tumoral...</td>\n",
       "      <td>True</td>\n",
       "      <td>Visium</td>\n",
       "      <td>744</td>\n",
       "      <td>33538</td>\n",
       "    </tr>\n",
       "  </tbody>\n",
       "</table>\n",
       "</div>"
      ],
      "text/plain": [
       "                   slide species tissue               pmid  \\\n",
       "12  GSE144239_GSM4565823   human   skin  32579974,38037084   \n",
       "\n",
       "                                                title  \\\n",
       "12  Title 1: Multimodal Analysis of Composition an...   \n",
       "\n",
       "                                             abstract  \\\n",
       "12  Abstract 1: To define the cellular composition...   \n",
       "\n",
       "                                             keywords  involve_cancer    tech  \\\n",
       "12  Keywords 1: CRISPR screen; MIBI; intra-tumoral...            True  Visium   \n",
       "\n",
       "    spot_num  gene_num  \n",
       "12       744     33538  "
      ]
     },
     "execution_count": 16,
     "metadata": {},
     "output_type": "execute_result"
    }
   ],
   "source": [
    "data[data['slide'] == 'GSE144239_GSM4565823']"
   ]
  },
  {
   "cell_type": "code",
   "execution_count": 18,
   "id": "f4c04395-bb47-45ba-b295-1ca3a9c54473",
   "metadata": {},
   "outputs": [
    {
     "name": "stdout",
     "output_type": "stream",
     "text": [
      "12\n",
      "13\n"
     ]
    }
   ],
   "source": [
    "# here we find the overlap genes in human brain\n",
    "\n",
    "\n",
    "for i in range(len(data.index)):\n",
    "    try:\n",
    "        gene_exp_slide = pd.read_csv(f'./{data.tech[i]}/gene_exp/{data.slide[i]}.csv',sep=',',nrows=1,index_col=0)\n",
    "        if i == 12:\n",
    "            gene_name_overlap = gene_exp_slide.columns\n",
    "        else:\n",
    "            gene_name_overlap = gene_name_overlap.intersection(gene_exp_slide.columns)\n",
    "        print(i)\n",
    "    except:\n",
    "        pass\n",
    "\n",
    "pd.DataFrame(gene_name_overlap).to_csv('human_skin_gene.csv',index=False,header=False)"
   ]
  },
  {
   "cell_type": "code",
   "execution_count": 37,
   "id": "ce2c574d-fd82-4b85-88f2-ebe91251c8e6",
   "metadata": {},
   "outputs": [],
   "source": [
    "species = 'human'\n",
    "tissue = 'skin'\n",
    "gene_list = 'human_skin_gene'\n",
    "meta = pd.read_csv('meta_all_gene.csv')"
   ]
  },
  {
   "cell_type": "code",
   "execution_count": 38,
   "id": "a3c375bf-6846-477d-ae5e-d7cc8999af58",
   "metadata": {},
   "outputs": [],
   "source": [
    "if tissue == 'all':\n",
    "    data = meta.loc[(meta['species'] == species), :].reset_index(drop=True)\n",
    "    data.slide.to_csv(f'{species}_slide.csv', index=False, header=False)\n",
    "else:\n",
    "    data = meta.loc[(meta['species'] == species) & (meta['tissue'] == tissue), :].reset_index(drop=True)\n",
    "    data.slide.to_csv(f'{species}_{tissue}_slide.csv', index=False, header=False)"
   ]
  },
  {
   "cell_type": "code",
   "execution_count": 39,
   "id": "273d0863-1425-424d-bdac-b702b1095f33",
   "metadata": {},
   "outputs": [
    {
     "data": {
      "text/html": [
       "<div>\n",
       "<style scoped>\n",
       "    .dataframe tbody tr th:only-of-type {\n",
       "        vertical-align: middle;\n",
       "    }\n",
       "\n",
       "    .dataframe tbody tr th {\n",
       "        vertical-align: top;\n",
       "    }\n",
       "\n",
       "    .dataframe thead th {\n",
       "        text-align: right;\n",
       "    }\n",
       "</style>\n",
       "<table border=\"1\" class=\"dataframe\">\n",
       "  <thead>\n",
       "    <tr style=\"text-align: right;\">\n",
       "      <th></th>\n",
       "      <th>slide</th>\n",
       "      <th>species</th>\n",
       "      <th>tissue</th>\n",
       "      <th>pmid</th>\n",
       "      <th>title</th>\n",
       "      <th>abstract</th>\n",
       "      <th>keywords</th>\n",
       "      <th>involve_cancer</th>\n",
       "      <th>tech</th>\n",
       "      <th>spot_num</th>\n",
       "      <th>gene_num</th>\n",
       "    </tr>\n",
       "  </thead>\n",
       "  <tbody>\n",
       "    <tr>\n",
       "      <th>12</th>\n",
       "      <td>GSE144239_GSM4565823</td>\n",
       "      <td>human</td>\n",
       "      <td>skin</td>\n",
       "      <td>32579974,38037084</td>\n",
       "      <td>Title 1: Multimodal Analysis of Composition an...</td>\n",
       "      <td>Abstract 1: To define the cellular composition...</td>\n",
       "      <td>Keywords 1: CRISPR screen; MIBI; intra-tumoral...</td>\n",
       "      <td>True</td>\n",
       "      <td>Visium</td>\n",
       "      <td>744</td>\n",
       "      <td>33538</td>\n",
       "    </tr>\n",
       "  </tbody>\n",
       "</table>\n",
       "</div>"
      ],
      "text/plain": [
       "                   slide species tissue               pmid  \\\n",
       "12  GSE144239_GSM4565823   human   skin  32579974,38037084   \n",
       "\n",
       "                                                title  \\\n",
       "12  Title 1: Multimodal Analysis of Composition an...   \n",
       "\n",
       "                                             abstract  \\\n",
       "12  Abstract 1: To define the cellular composition...   \n",
       "\n",
       "                                             keywords  involve_cancer    tech  \\\n",
       "12  Keywords 1: CRISPR screen; MIBI; intra-tumoral...            True  Visium   \n",
       "\n",
       "    spot_num  gene_num  \n",
       "12       744     33538  "
      ]
     },
     "execution_count": 39,
     "metadata": {},
     "output_type": "execute_result"
    }
   ],
   "source": [
    "data[data['slide'] == 'GSE144239_GSM4565823']"
   ]
  },
  {
   "cell_type": "code",
   "execution_count": 40,
   "id": "7f0262d9-d110-46b7-a575-54e19319dc64",
   "metadata": {},
   "outputs": [
    {
     "name": "stdout",
     "output_type": "stream",
     "text": [
      "DONE: ./Visium/gene_exp/GSE144239_GSM4565823.csv\n",
      "DONE: ./Visium/gene_exp/GSE144239_GSM4565824.csv\n"
     ]
    }
   ],
   "source": [
    "for index in range(len(data.index)):\n",
    "    try:\n",
    "        slide = data['slide'][index]\n",
    "        gene_exp_slide = pd.read_csv(f'./{data.tech[index]}/gene_exp/{slide}.csv',sep=',',index_col=0)\n",
    "        overlap_gene = pd.read_csv(f'{gene_list}.csv',header=None)\n",
    "        gene_exp_slide = gene_exp_slide.loc[:,overlap_gene[0]]\n",
    "        gene_exp_slide.to_csv(f'./overlap-hvg/{data.slide[index]}_{gene_list}.csv',sep=',')\n",
    "        print(f\"DONE: ./{data.tech[index]}/gene_exp/{data.slide[index]}.csv\")\n",
    "    except:\n",
    "        pass"
   ]
  },
  {
   "cell_type": "code",
   "execution_count": 44,
   "id": "08ae5e7a-9a1b-43d5-844c-9339c5731f19",
   "metadata": {},
   "outputs": [
    {
     "name": "stdout",
     "output_type": "stream",
     "text": [
      "GSE144239_GSM4284316\n",
      "GSE144239_GSM4284317\n",
      "GSE144239_GSM4284318\n",
      "GSE144239_GSM4284319\n",
      "GSE144239_GSM4284320\n",
      "GSE144239_GSM4284321\n",
      "GSE144239_GSM4284322\n",
      "GSE144239_GSM4284323\n",
      "GSE144239_GSM4284324\n",
      "GSE144239_GSM4284325\n",
      "GSE144239_GSM4284326\n",
      "GSE144239_GSM4284327\n",
      "GSE144239_GSM4565825\n",
      "GSE144239_GSM4565826\n",
      "GSE173651_GSM5273010\n",
      "GSE173651_GSM5273011\n",
      "GSE173651_GSM5273012\n",
      "GSE173651_GSM5273013\n",
      "GSE173651_GSM5273014\n",
      "GSE173651_GSM5273015\n",
      "GSE182208_GSM5531131\n",
      "GSE197023_GSM5907077\n",
      "GSE197023_GSM5907078\n",
      "GSE197023_GSM5907079\n",
      "GSE197023_GSM5907080\n",
      "GSE197023_GSM5907081\n",
      "GSE197023_GSM5907082\n",
      "GSE197023_GSM5907083\n",
      "GSE197023_GSM5907084\n",
      "GSE197023_GSM5907085\n",
      "GSE197023_GSM5907086\n",
      "GSE197023_GSM5907088\n",
      "GSE197023_GSM5907089\n",
      "GSE197023_GSM5907090\n",
      "GSE197023_GSM5907091\n",
      "GSE197023_GSM5907092\n",
      "GSE197023_GSM5907093\n",
      "GSE197023_GSM5907094\n",
      "GSE197023_GSM5907095\n",
      "GSE197023_GSM5907096\n",
      "GSE237771_GSM7648697\n",
      "GSE237771_GSM7648698\n",
      "GSE237771_GSM7648699\n",
      "GSE237771_GSM7648700\n",
      "GSE249729_GSM7962127\n",
      "GSE249729_GSM7962128\n",
      "GSE249729_GSM7962129\n"
     ]
    }
   ],
   "source": [
    "import os\n",
    "import pandas as pd\n",
    "\n",
    "# Define variables\n",
    "type_ = 'human_skin'\n",
    "path = './overlap-hvg/'\n",
    "output_file = f'{type_}_count_overlap.csv'\n",
    "slide_file = f'{type_}_slide.csv'\n",
    "\n",
    "# Remove the existing output file if it exists\n",
    "if os.path.exists(output_file):\n",
    "    os.remove(output_file)\n",
    "\n",
    "# Read slide names from the slide file\n",
    "with open(slide_file, 'r') as file:\n",
    "    slides = file.read().splitlines()\n",
    "\n",
    "# Process each slide\n",
    "missing_slides = []\n",
    "for slide in slides:\n",
    "    input_file = os.path.join(path, f\"{slide}_{type_}_gene.csv\")\n",
    "\n",
    "    if os.path.isfile(input_file):\n",
    "        df = pd.read_csv(input_file, skiprows=1)  # Skip the first row (header)\n",
    "        df.to_csv(output_file, mode='a', index=False, header=False)  # Append without header\n",
    "    else:\n",
    "        missing_slides.append(slide)\n",
    "\n",
    "# Print missing slides\n",
    "for slide in missing_slides:\n",
    "    print(slide)\n"
   ]
  },
  {
   "cell_type": "code",
   "execution_count": 46,
   "id": "8f613ee7-8c1f-4fba-b759-8b9249acfbae",
   "metadata": {},
   "outputs": [],
   "source": [
    "import sys\n",
    "import pandas as pd\n",
    "import numpy as np\n",
    "import scanpy as sc\n",
    "import os\n",
    "\n",
    "path='.'\n",
    "\n",
    "def overlap_hvg(tissue_type):\n",
    "    # Here we take input of combined gene expression of one tissue type\n",
    "    # see below for how to generate this file\n",
    "    gene_exp_slide = pd.read_csv(f'{path}/{tissue_type}_count_overlap.csv',sep=',',index_col=0,header=None)\n",
    "    gene_exp_slide.columns = ['gene'+str(i) for i in range(gene_exp_slide.shape[1])]\n",
    "    adata = sc.AnnData(gene_exp_slide)\n",
    "    sc.pp.filter_cells(adata, min_genes=1)\n",
    "    sc.pp.filter_genes(adata, min_cells=1)\n",
    "    # Normalizing to median total counts\n",
    "    sc.pp.normalize_total(adata)\n",
    "    # Logarithmize the data\n",
    "    sc.pp.log1p(adata)\n",
    "    sc.pp.highly_variable_genes(adata, n_top_genes=100)\n",
    "    # sort genes by highly_variable\n",
    "    adata_hvg = adata[:, adata.var.highly_variable]\n",
    "    hvg = adata_hvg.X\n",
    "    hvg = pd.DataFrame(hvg)\n",
    "    hvg.index = adata_hvg.obs.index\n",
    "    hvg.to_csv(f'./all/{tissue_type}_count_overlap_hvg.csv',sep=',')\n",
    "\n",
    "overlap_hvg(\"human_skin\")"
   ]
  }
 ],
 "metadata": {
  "kernelspec": {
   "display_name": "Python 3 (ipykernel)",
   "language": "python",
   "name": "python3"
  },
  "language_info": {
   "codemirror_mode": {
    "name": "ipython",
    "version": 3
   },
   "file_extension": ".py",
   "mimetype": "text/x-python",
   "name": "python",
   "nbconvert_exporter": "python",
   "pygments_lexer": "ipython3",
   "version": "3.12.3"
  }
 },
 "nbformat": 4,
 "nbformat_minor": 5
}
