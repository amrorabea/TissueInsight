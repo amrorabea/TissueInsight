{
  "cells": [
    {
      "cell_type": "markdown",
      "metadata": {
        "id": "v_lDWz2J8J_q"
      },
      "source": [
        "# Libraries"
      ]
    },
    {
      "cell_type": "code",
      "execution_count": 3,
      "metadata": {
        "id": "BUvFF9wcpebn"
      },
      "outputs": [],
      "source": [
        "import pandas as pd\n",
        "import numpy as np"
      ]
    },
    {
      "cell_type": "markdown",
      "metadata": {
        "id": "A4uq_OvH8M-W"
      },
      "source": [
        "# Preparing Metadata"
      ]
    },
    {
      "cell_type": "code",
      "execution_count": 9,
      "metadata": {
        "id": "hfbg8-O7phyv"
      },
      "outputs": [
        {
          "name": "stderr",
          "output_type": "stream",
          "text": [
            "<>:1: SyntaxWarning: invalid escape sequence '\\D'\n",
            "<>:1: SyntaxWarning: invalid escape sequence '\\D'\n",
            "C:\\Users\\Omar\\AppData\\Local\\Temp\\ipykernel_20976\\2013884039.py:1: SyntaxWarning: invalid escape sequence '\\D'\n",
            "  meta = pd.read_csv('D:\\DownLoad\\projects\\DEPIHealthcareproject\\\\notebooks\\data_preprocessing\\\\test-data\\meta_all_gene.csv')\n"
          ]
        }
      ],
      "source": [
        "meta = pd.read_csv('D:\\DownLoad\\projects\\DEPIHealthcareproject\\\\notebooks\\data_preprocessing\\\\test-data\\meta_all_gene.csv')"
      ]
    },
    {
      "cell_type": "code",
      "execution_count": 5,
      "metadata": {
        "colab": {
          "base_uri": "https://localhost:8080/"
        },
        "id": "3noRKcGEpmO2",
        "outputId": "9a4a2f2b-2692-4e3e-e84c-2230c578e1c3"
      },
      "outputs": [
        {
          "data": {
            "text/plain": [
              "(90, 11)"
            ]
          },
          "execution_count": 5,
          "metadata": {},
          "output_type": "execute_result"
        }
      ],
      "source": [
        "meta = meta[meta['tissue'] == 'brain']\n",
        "meta = meta[meta['tech'] == 'Visium']\n",
        "meta = meta[meta['species'] == 'human']\n",
        "meta.shape"
      ]
    },
    {
      "cell_type": "code",
      "execution_count": 4,
      "metadata": {
        "colab": {
          "base_uri": "https://localhost:8080/"
        },
        "id": "a9fiMXInprOs",
        "outputId": "a83dfb75-07bd-4552-bab3-d97bcc3ce847"
      },
      "outputs": [
        {
          "data": {
            "text/plain": [
              "{'GSE179572_GSM5420749',\n",
              " 'GSE179572_GSM5420750',\n",
              " 'GSE179572_GSM5420751',\n",
              " 'GSE179572_GSM5420752',\n",
              " 'GSE179572_GSM5420753',\n",
              " 'GSE179572_GSM5420754',\n",
              " 'GSE184510_GSM5591748',\n",
              " 'GSE184510_GSM5591749',\n",
              " 'GSE184510_GSM5591750',\n",
              " 'GSE184510_GSM5591751',\n",
              " 'GSE184510_GSM5591752',\n",
              " 'GSE184510_GSM5591753',\n",
              " 'GSE184510_GSM5591754',\n",
              " 'GSE184510_GSM5591755',\n",
              " 'GSE232910_GSM7392324',\n",
              " 'GSE232910_GSM7392325',\n",
              " 'GSE232910_GSM7392326',\n",
              " 'GSE232910_GSM7392327',\n",
              " 'GSE232910_GSM7392328',\n",
              " 'GSE235672_GSM7507311',\n",
              " 'GSE235672_GSM7507312',\n",
              " 'GSE235672_GSM7507313',\n",
              " 'GSE235672_GSM7507314',\n",
              " 'GSE235672_GSM7507315',\n",
              " 'GSE235672_GSM7507316',\n",
              " 'GSE235672_GSM7507317',\n",
              " 'GSE235672_GSM7507318',\n",
              " 'GSE235672_GSM7507319',\n",
              " 'GSE235672_GSM7507320',\n",
              " 'GSE235672_GSM7507321',\n",
              " 'GSE235672_GSM7507322',\n",
              " 'GSE235672_GSM7507323',\n",
              " 'GSE235672_GSM7507324',\n",
              " 'GSE235672_GSM7507325',\n",
              " 'GSE235672_GSM7507326',\n",
              " 'Human_Brain_10X_02132023_Visium',\n",
              " 'Human_Brain_10X_10272020_Visium_Cerebellum_WholeTranscriptome',\n",
              " 'Human_Brain_10X_10272020_Visium_WholeTranscriptome',\n",
              " 'Human_Brain_Kwon_10162023_Visium_V10A27004_A1_Br3874',\n",
              " 'Human_Brain_Kwon_10162023_Visium_V10A27004_D1_Br3880',\n",
              " 'Human_Brain_Kwon_10162023_Visium_V10A27106_A1_Br3874',\n",
              " 'Human_Brain_Kwon_10162023_Visium_V10A27106_B1_Br3854',\n",
              " 'Human_Brain_Kwon_10162023_Visium_V10A27106_C1_Br3873',\n",
              " 'Human_Brain_Kwon_10162023_Visium_V10A27106_D1_Br3880',\n",
              " 'Human_Brain_Kwon_10162023_Visium_V10T31036_A1_Br3874',\n",
              " 'Human_Brain_Kwon_10162023_Visium_V10T31036_B1_Br3854',\n",
              " 'Human_Brain_Kwon_10162023_Visium_V10T31036_C1_Br3873',\n",
              " 'Human_Brain_Kwon_10162023_Visium_V10T31036_D1_Br3880',\n",
              " 'Human_Brain_Louise_02152023_Visium_Br2720_ant',\n",
              " 'Human_Brain_Louise_02152023_Visium_Br2720_mid',\n",
              " 'Human_Brain_Louise_02152023_Visium_Br2720_post',\n",
              " 'Human_Brain_Louise_02152023_Visium_Br2743_ant',\n",
              " 'Human_Brain_Louise_02152023_Visium_Br2743_mid',\n",
              " 'Human_Brain_Louise_02152023_Visium_Br2743_post',\n",
              " 'Human_Brain_Louise_02152023_Visium_Br3942_ant',\n",
              " 'Human_Brain_Louise_02152023_Visium_Br3942_mid',\n",
              " 'Human_Brain_Louise_02152023_Visium_Br3942_post',\n",
              " 'Human_Brain_Louise_02152023_Visium_Br6423_ant',\n",
              " 'Human_Brain_Louise_02152023_Visium_Br6423_mid',\n",
              " 'Human_Brain_Louise_02152023_Visium_Br6423_post',\n",
              " 'Human_Brain_Louise_02152023_Visium_Br6432_ant',\n",
              " 'Human_Brain_Louise_02152023_Visium_Br6432_mid',\n",
              " 'Human_Brain_Louise_02152023_Visium_Br6432_post',\n",
              " 'Human_Brain_Louise_02152023_Visium_Br6471_ant',\n",
              " 'Human_Brain_Louise_02152023_Visium_Br6471_mid',\n",
              " 'Human_Brain_Louise_02152023_Visium_Br6471_post',\n",
              " 'Human_Brain_Louise_02152023_Visium_Br6522_ant',\n",
              " 'Human_Brain_Louise_02152023_Visium_Br6522_mid',\n",
              " 'Human_Brain_Louise_02152023_Visium_Br6522_post',\n",
              " 'Human_Brain_Louise_02152023_Visium_Br8325_ant',\n",
              " 'Human_Brain_Louise_02152023_Visium_Br8325_mid',\n",
              " 'Human_Brain_Louise_02152023_Visium_Br8325_post',\n",
              " 'Human_Brain_Louise_02152023_Visium_Br8492_ant',\n",
              " 'Human_Brain_Louise_02152023_Visium_Br8492_mid',\n",
              " 'Human_Brain_Louise_02152023_Visium_Br8492_post',\n",
              " 'Human_Brain_Louise_02152023_Visium_Br8667_ant',\n",
              " 'Human_Brain_Louise_02152023_Visium_Br8667_mid',\n",
              " 'Human_Brain_Louise_02152023_Visium_Br8667_post',\n",
              " 'Human_Brain_Maynard_02082021_Visium_151507',\n",
              " 'Human_Brain_Maynard_02082021_Visium_151508',\n",
              " 'Human_Brain_Maynard_02082021_Visium_151509',\n",
              " 'Human_Brain_Maynard_02082021_Visium_151510',\n",
              " 'Human_Brain_Maynard_02082021_Visium_151669',\n",
              " 'Human_Brain_Maynard_02082021_Visium_151670',\n",
              " 'Human_Brain_Maynard_02082021_Visium_151671',\n",
              " 'Human_Brain_Maynard_02082021_Visium_151672',\n",
              " 'Human_Brain_Maynard_02082021_Visium_151673',\n",
              " 'Human_Brain_Maynard_02082021_Visium_151674',\n",
              " 'Human_Brain_Maynard_02082021_Visium_151675',\n",
              " 'Human_Brain_Maynard_02082021_Visium_151676'}"
            ]
          },
          "execution_count": 4,
          "metadata": {},
          "output_type": "execute_result"
        }
      ],
      "source": [
        "target_names = set(meta['slide'].astype(str))\n",
        "target_names"
      ]
    },
    {
      "cell_type": "code",
      "execution_count": 5,
      "metadata": {
        "id": "zrtHkyRu0JEQ"
      },
      "outputs": [],
      "source": [
        "coord_files = {f\"{name}_coord.csv\" for name in target_names}\n",
        "gene_files = {f\"{name}_count.csv\" for name in target_names}\n",
        "images = {f\"{name}.png\" for name in target_names}"
      ]
    },
    {
      "cell_type": "markdown",
      "metadata": {
        "id": "m9Wq5-E58Uef"
      },
      "source": [
        "# Downloading Gene Expression Data"
      ]
    },
    {
      "cell_type": "code",
      "execution_count": 6,
      "metadata": {
        "colab": {
          "base_uri": "https://localhost:8080/"
        },
        "id": "3FlPL4HT1nlJ",
        "outputId": "e916c3a3-4111-4118-d349-2eb6af434039"
      },
      "outputs": [
        {
          "name": "stdout",
          "output_type": "stream",
          "text": [
            "Human_Brain_Louise_02152023_Visium_Br2743_post_count.csv already exists. Skipping download.\n",
            "Human_Brain_Louise_02152023_Visium_Br2720_post_count.csv already exists. Skipping download.\n",
            "GSE235672_GSM7507319_count.csv already exists. Skipping download.\n",
            "Human_Brain_Kwon_10162023_Visium_V10T31036_A1_Br3874_count.csv already exists. Skipping download.\n",
            "Human_Brain_Kwon_10162023_Visium_V10T31036_B1_Br3854_count.csv already exists. Skipping download.\n",
            "Human_Brain_Louise_02152023_Visium_Br6432_mid_count.csv already exists. Skipping download.\n",
            "Human_Brain_Louise_02152023_Visium_Br8492_mid_count.csv already exists. Skipping download.\n",
            "Human_Brain_Maynard_02082021_Visium_151672_count.csv already exists. Skipping download.\n",
            "Human_Brain_Louise_02152023_Visium_Br3942_post_count.csv already exists. Skipping download.\n",
            "Human_Brain_Maynard_02082021_Visium_151675_count.csv already exists. Skipping download.\n",
            "GSE232910_GSM7392325_count.csv already exists. Skipping download.\n",
            "Human_Brain_Louise_02152023_Visium_Br6423_post_count.csv already exists. Skipping download.\n",
            "Human_Brain_Kwon_10162023_Visium_V10T31036_C1_Br3873_count.csv already exists. Skipping download.\n",
            "GSE184510_GSM5591748_count.csv already exists. Skipping download.\n",
            "GSE235672_GSM7507312_count.csv already exists. Skipping download.\n",
            "Human_Brain_Louise_02152023_Visium_Br6471_mid_count.csv already exists. Skipping download.\n",
            "GSE179572_GSM5420750_count.csv already exists. Skipping download.\n",
            "GSE184510_GSM5591754_count.csv already exists. Skipping download.\n",
            "GSE235672_GSM7507324_count.csv already exists. Skipping download.\n",
            "Human_Brain_Kwon_10162023_Visium_V10A27004_A1_Br3874_count.csv already exists. Skipping download.\n",
            "GSE179572_GSM5420749_count.csv already exists. Skipping download.\n",
            "GSE184510_GSM5591752_count.csv already exists. Skipping download.\n",
            "GSE235672_GSM7507322_count.csv already exists. Skipping download.\n",
            "Human_Brain_Maynard_02082021_Visium_151676_count.csv already exists. Skipping download.\n",
            "GSE179572_GSM5420751_count.csv already exists. Skipping download.\n",
            "Human_Brain_Louise_02152023_Visium_Br6423_mid_count.csv already exists. Skipping download.\n",
            "Human_Brain_Louise_02152023_Visium_Br2720_mid_count.csv already exists. Skipping download.\n",
            "GSE235672_GSM7507320_count.csv already exists. Skipping download.\n",
            "Human_Brain_Louise_02152023_Visium_Br6471_post_count.csv already exists. Skipping download.\n",
            "Human_Brain_Maynard_02082021_Visium_151509_count.csv already exists. Skipping download.\n",
            "GSE232910_GSM7392324_count.csv already exists. Skipping download.\n",
            "GSE179572_GSM5420753_count.csv already exists. Skipping download.\n",
            "Human_Brain_Louise_02152023_Visium_Br8325_ant_count.csv already exists. Skipping download.\n",
            "GSE184510_GSM5591753_count.csv already exists. Skipping download.\n",
            "Human_Brain_Louise_02152023_Visium_Br6471_ant_count.csv already exists. Skipping download.\n",
            "Human_Brain_Louise_02152023_Visium_Br6432_post_count.csv already exists. Skipping download.\n",
            "GSE232910_GSM7392327_count.csv already exists. Skipping download.\n",
            "Human_Brain_Louise_02152023_Visium_Br6522_mid_count.csv already exists. Skipping download.\n",
            "Human_Brain_Louise_02152023_Visium_Br3942_mid_count.csv already exists. Skipping download.\n",
            "GSE232910_GSM7392328_count.csv already exists. Skipping download.\n",
            "GSE184510_GSM5591751_count.csv already exists. Skipping download.\n",
            "Human_Brain_10X_02132023_Visium_count.csv already exists. Skipping download.\n",
            "Human_Brain_Maynard_02082021_Visium_151670_count.csv already exists. Skipping download.\n",
            "Human_Brain_Louise_02152023_Visium_Br8325_mid_count.csv already exists. Skipping download.\n",
            "GSE179572_GSM5420752_count.csv already exists. Skipping download.\n",
            "Human_Brain_Louise_02152023_Visium_Br6432_ant_count.csv already exists. Skipping download.\n",
            "Human_Brain_Kwon_10162023_Visium_V10A27106_C1_Br3873_count.csv already exists. Skipping download.\n",
            "GSE235672_GSM7507316_count.csv already exists. Skipping download.\n",
            "Human_Brain_Kwon_10162023_Visium_V10A27106_B1_Br3854_count.csv already exists. Skipping download.\n",
            "Human_Brain_Kwon_10162023_Visium_V10A27004_D1_Br3880_count.csv already exists. Skipping download.\n",
            "GSE235672_GSM7507321_count.csv already exists. Skipping download.\n",
            "GSE184510_GSM5591750_count.csv already exists. Skipping download.\n",
            "GSE235672_GSM7507326_count.csv already exists. Skipping download.\n",
            "Human_Brain_Maynard_02082021_Visium_151507_count.csv already exists. Skipping download.\n",
            "Human_Brain_Louise_02152023_Visium_Br2720_ant_count.csv already exists. Skipping download.\n",
            "Human_Brain_Maynard_02082021_Visium_151674_count.csv already exists. Skipping download.\n",
            "GSE235672_GSM7507313_count.csv already exists. Skipping download.\n",
            "Human_Brain_Maynard_02082021_Visium_151669_count.csv already exists. Skipping download.\n",
            "Human_Brain_Louise_02152023_Visium_Br2743_ant_count.csv already exists. Skipping download.\n",
            "Human_Brain_Maynard_02082021_Visium_151508_count.csv already exists. Skipping download.\n",
            "GSE184510_GSM5591749_count.csv already exists. Skipping download.\n",
            "Human_Brain_10X_10272020_Visium_Cerebellum_WholeTranscriptome_count.csv already exists. Skipping download.\n",
            "Human_Brain_Louise_02152023_Visium_Br6522_ant_count.csv already exists. Skipping download.\n",
            "Human_Brain_Louise_02152023_Visium_Br6423_ant_count.csv already exists. Skipping download.\n",
            "Human_Brain_Louise_02152023_Visium_Br3942_ant_count.csv already exists. Skipping download.\n",
            "GSE235672_GSM7507325_count.csv already exists. Skipping download.\n",
            "GSE235672_GSM7507315_count.csv already exists. Skipping download.\n",
            "Human_Brain_Maynard_02082021_Visium_151673_count.csv already exists. Skipping download.\n",
            "Human_Brain_Louise_02152023_Visium_Br8667_post_count.csv already exists. Skipping download.\n",
            "GSE235672_GSM7507318_count.csv already exists. Skipping download.\n",
            "Human_Brain_Louise_02152023_Visium_Br8667_ant_count.csv already exists. Skipping download.\n",
            "Human_Brain_Louise_02152023_Visium_Br8492_post_count.csv already exists. Skipping download.\n",
            "Human_Brain_Kwon_10162023_Visium_V10A27106_A1_Br3874_count.csv already exists. Skipping download.\n",
            "Human_Brain_Louise_02152023_Visium_Br8325_post_count.csv already exists. Skipping download.\n",
            "GSE235672_GSM7507323_count.csv already exists. Skipping download.\n",
            "Human_Brain_Louise_02152023_Visium_Br6522_post_count.csv already exists. Skipping download.\n",
            "Human_Brain_Maynard_02082021_Visium_151671_count.csv already exists. Skipping download.\n",
            "GSE179572_GSM5420754_count.csv already exists. Skipping download.\n",
            "Human_Brain_Kwon_10162023_Visium_V10T31036_D1_Br3880_count.csv already exists. Skipping download.\n",
            "Human_Brain_Louise_02152023_Visium_Br8492_ant_count.csv already exists. Skipping download.\n",
            "Human_Brain_Louise_02152023_Visium_Br2743_mid_count.csv already exists. Skipping download.\n",
            "GSE232910_GSM7392326_count.csv already exists. Skipping download.\n",
            "Human_Brain_Maynard_02082021_Visium_151510_count.csv already exists. Skipping download.\n",
            "GSE235672_GSM7507314_count.csv already exists. Skipping download.\n",
            "Human_Brain_10X_10272020_Visium_WholeTranscriptome_count.csv already exists. Skipping download.\n",
            "GSE184510_GSM5591755_count.csv already exists. Skipping download.\n",
            "GSE235672_GSM7507317_count.csv already exists. Skipping download.\n",
            "Human_Brain_Louise_02152023_Visium_Br8667_mid_count.csv already exists. Skipping download.\n",
            "GSE235672_GSM7507311_count.csv already exists. Skipping download.\n",
            "Human_Brain_Kwon_10162023_Visium_V10A27106_D1_Br3880_count.csv already exists. Skipping download.\n"
          ]
        }
      ],
      "source": [
        "import requests\n",
        "import os\n",
        "\n",
        "url = \"https://huggingface.co/datasets/jiawennnn/STimage-1K4M/resolve/main/Visium/gene_exp/\"\n",
        "save_dir = \"Visium/gene_exp\"\n",
        "os.makedirs(save_dir, exist_ok=True)  # Ensure the directory exists\n",
        "\n",
        "for gene in gene_files:\n",
        "    save_path = os.path.join(save_dir, gene)\n",
        "\n",
        "    # Check if file already exists\n",
        "    if os.path.exists(save_path):\n",
        "        print(f\"{gene} already exists. Skipping download.\")\n",
        "        continue\n",
        "\n",
        "    # Download the file if it doesn't exist\n",
        "    response = requests.get(url + gene, stream=True)\n",
        "\n",
        "    if response.status_code == 200:\n",
        "        with open(save_path, \"wb\") as file:\n",
        "            for chunk in response.iter_content(chunk_size=1024):  # Download in chunks\n",
        "                file.write(chunk)\n",
        "        print(f\"{gene} downloaded successfully.\")\n",
        "    else:\n",
        "        print(f\"Failed to download {gene}. Status code: {response.status_code}\")\n"
      ]
    },
    {
      "cell_type": "markdown",
      "metadata": {
        "id": "kmvNT54W8gJp"
      },
      "source": [
        "# Downloading Coord Data"
      ]
    },
    {
      "cell_type": "code",
      "execution_count": 7,
      "metadata": {
        "colab": {
          "base_uri": "https://localhost:8080/"
        },
        "id": "7AeoKLFS2K5-",
        "outputId": "b75110b2-8d59-4a5c-bae1-5c8cf764c770"
      },
      "outputs": [
        {
          "name": "stdout",
          "output_type": "stream",
          "text": [
            "GSE232910_GSM7392324_coord.csv already exists. Skipping download.\n",
            "GSE184510_GSM5591753_coord.csv already exists. Skipping download.\n",
            "Human_Brain_Louise_02152023_Visium_Br6522_post_coord.csv already exists. Skipping download.\n",
            "Human_Brain_Louise_02152023_Visium_Br3942_mid_coord.csv already exists. Skipping download.\n",
            "Human_Brain_Maynard_02082021_Visium_151670_coord.csv already exists. Skipping download.\n",
            "GSE184510_GSM5591748_coord.csv already exists. Skipping download.\n",
            "Human_Brain_Kwon_10162023_Visium_V10T31036_A1_Br3874_coord.csv already exists. Skipping download.\n",
            "GSE235672_GSM7507325_coord.csv already exists. Skipping download.\n",
            "GSE232910_GSM7392326_coord.csv already exists. Skipping download.\n",
            "Human_Brain_Maynard_02082021_Visium_151672_coord.csv already exists. Skipping download.\n",
            "Human_Brain_Louise_02152023_Visium_Br6432_ant_coord.csv already exists. Skipping download.\n",
            "GSE235672_GSM7507321_coord.csv already exists. Skipping download.\n",
            "Human_Brain_Maynard_02082021_Visium_151669_coord.csv already exists. Skipping download.\n",
            "GSE235672_GSM7507318_coord.csv already exists. Skipping download.\n",
            "GSE235672_GSM7507313_coord.csv already exists. Skipping download.\n",
            "Human_Brain_Maynard_02082021_Visium_151671_coord.csv already exists. Skipping download.\n",
            "GSE179572_GSM5420750_coord.csv already exists. Skipping download.\n",
            "Human_Brain_Louise_02152023_Visium_Br6423_ant_coord.csv already exists. Skipping download.\n",
            "Human_Brain_Louise_02152023_Visium_Br2743_post_coord.csv already exists. Skipping download.\n",
            "Human_Brain_Louise_02152023_Visium_Br8667_post_coord.csv already exists. Skipping download.\n",
            "Human_Brain_Louise_02152023_Visium_Br2720_post_coord.csv already exists. Skipping download.\n",
            "Human_Brain_Kwon_10162023_Visium_V10A27106_D1_Br3880_coord.csv already exists. Skipping download.\n",
            "Human_Brain_Louise_02152023_Visium_Br8667_ant_coord.csv already exists. Skipping download.\n",
            "Human_Brain_Louise_02152023_Visium_Br8325_mid_coord.csv already exists. Skipping download.\n",
            "Human_Brain_Kwon_10162023_Visium_V10A27106_B1_Br3854_coord.csv already exists. Skipping download.\n",
            "Human_Brain_Louise_02152023_Visium_Br8667_mid_coord.csv already exists. Skipping download.\n",
            "Human_Brain_Kwon_10162023_Visium_V10A27106_C1_Br3873_coord.csv already exists. Skipping download.\n",
            "GSE235672_GSM7507316_coord.csv already exists. Skipping download.\n",
            "Human_Brain_Louise_02152023_Visium_Br6522_mid_coord.csv already exists. Skipping download.\n",
            "Human_Brain_Kwon_10162023_Visium_V10T31036_D1_Br3880_coord.csv already exists. Skipping download.\n",
            "GSE179572_GSM5420752_coord.csv already exists. Skipping download.\n",
            "Human_Brain_Maynard_02082021_Visium_151675_coord.csv already exists. Skipping download.\n",
            "GSE232910_GSM7392327_coord.csv already exists. Skipping download.\n",
            "Human_Brain_Louise_02152023_Visium_Br3942_post_coord.csv already exists. Skipping download.\n",
            "Human_Brain_Louise_02152023_Visium_Br8325_post_coord.csv already exists. Skipping download.\n",
            "Human_Brain_Louise_02152023_Visium_Br2743_ant_coord.csv already exists. Skipping download.\n",
            "Human_Brain_Louise_02152023_Visium_Br2720_mid_coord.csv already exists. Skipping download.\n",
            "Human_Brain_10X_02132023_Visium_coord.csv already exists. Skipping download.\n",
            "Human_Brain_Louise_02152023_Visium_Br2720_ant_coord.csv already exists. Skipping download.\n",
            "Human_Brain_Maynard_02082021_Visium_151676_coord.csv already exists. Skipping download.\n",
            "Human_Brain_Louise_02152023_Visium_Br6423_mid_coord.csv already exists. Skipping download.\n",
            "Human_Brain_Kwon_10162023_Visium_V10T31036_C1_Br3873_coord.csv already exists. Skipping download.\n",
            "GSE235672_GSM7507312_coord.csv already exists. Skipping download.\n",
            "GSE184510_GSM5591750_coord.csv already exists. Skipping download.\n",
            "Human_Brain_Maynard_02082021_Visium_151510_coord.csv already exists. Skipping download.\n",
            "GSE184510_GSM5591755_coord.csv already exists. Skipping download.\n",
            "GSE179572_GSM5420753_coord.csv already exists. Skipping download.\n",
            "Human_Brain_Louise_02152023_Visium_Br6471_post_coord.csv already exists. Skipping download.\n",
            "Human_Brain_Louise_02152023_Visium_Br6471_ant_coord.csv already exists. Skipping download.\n",
            "Human_Brain_Louise_02152023_Visium_Br6432_post_coord.csv already exists. Skipping download.\n",
            "GSE235672_GSM7507319_coord.csv already exists. Skipping download.\n",
            "GSE235672_GSM7507314_coord.csv already exists. Skipping download.\n",
            "Human_Brain_Louise_02152023_Visium_Br8325_ant_coord.csv already exists. Skipping download.\n",
            "Human_Brain_Louise_02152023_Visium_Br3942_ant_coord.csv already exists. Skipping download.\n",
            "Human_Brain_Louise_02152023_Visium_Br2743_mid_coord.csv already exists. Skipping download.\n",
            "GSE179572_GSM5420751_coord.csv already exists. Skipping download.\n",
            "Human_Brain_Louise_02152023_Visium_Br6423_post_coord.csv already exists. Skipping download.\n",
            "Human_Brain_10X_10272020_Visium_Cerebellum_WholeTranscriptome_coord.csv already exists. Skipping download.\n",
            "Human_Brain_Maynard_02082021_Visium_151509_coord.csv already exists. Skipping download.\n",
            "GSE235672_GSM7507311_coord.csv already exists. Skipping download.\n",
            "Human_Brain_Louise_02152023_Visium_Br8492_post_coord.csv already exists. Skipping download.\n",
            "Human_Brain_Louise_02152023_Visium_Br6471_mid_coord.csv already exists. Skipping download.\n",
            "GSE235672_GSM7507322_coord.csv already exists. Skipping download.\n",
            "GSE179572_GSM5420749_coord.csv already exists. Skipping download.\n",
            "Human_Brain_Louise_02152023_Visium_Br6432_mid_coord.csv already exists. Skipping download.\n",
            "Human_Brain_Louise_02152023_Visium_Br8492_ant_coord.csv already exists. Skipping download.\n",
            "Human_Brain_Maynard_02082021_Visium_151673_coord.csv already exists. Skipping download.\n",
            "Human_Brain_Louise_02152023_Visium_Br6522_ant_coord.csv already exists. Skipping download.\n",
            "GSE184510_GSM5591749_coord.csv already exists. Skipping download.\n",
            "Human_Brain_Maynard_02082021_Visium_151508_coord.csv already exists. Skipping download.\n",
            "GSE235672_GSM7507320_coord.csv already exists. Skipping download.\n",
            "GSE232910_GSM7392328_coord.csv already exists. Skipping download.\n",
            "Human_Brain_Kwon_10162023_Visium_V10T31036_B1_Br3854_coord.csv already exists. Skipping download.\n",
            "GSE179572_GSM5420754_coord.csv already exists. Skipping download.\n",
            "GSE235672_GSM7507324_coord.csv already exists. Skipping download.\n",
            "Human_Brain_Louise_02152023_Visium_Br8492_mid_coord.csv already exists. Skipping download.\n",
            "GSE232910_GSM7392325_coord.csv already exists. Skipping download.\n",
            "GSE235672_GSM7507323_coord.csv already exists. Skipping download.\n",
            "Human_Brain_Maynard_02082021_Visium_151674_coord.csv already exists. Skipping download.\n",
            "Human_Brain_Kwon_10162023_Visium_V10A27004_A1_Br3874_coord.csv already exists. Skipping download.\n",
            "GSE235672_GSM7507315_coord.csv already exists. Skipping download.\n",
            "Human_Brain_10X_10272020_Visium_WholeTranscriptome_coord.csv already exists. Skipping download.\n",
            "GSE184510_GSM5591754_coord.csv already exists. Skipping download.\n",
            "GSE184510_GSM5591751_coord.csv already exists. Skipping download.\n",
            "Human_Brain_Kwon_10162023_Visium_V10A27106_A1_Br3874_coord.csv already exists. Skipping download.\n",
            "Human_Brain_Kwon_10162023_Visium_V10A27004_D1_Br3880_coord.csv already exists. Skipping download.\n",
            "GSE184510_GSM5591752_coord.csv already exists. Skipping download.\n",
            "GSE235672_GSM7507317_coord.csv already exists. Skipping download.\n",
            "Human_Brain_Maynard_02082021_Visium_151507_coord.csv already exists. Skipping download.\n",
            "GSE235672_GSM7507326_coord.csv already exists. Skipping download.\n"
          ]
        }
      ],
      "source": [
        "import requests\n",
        "import os\n",
        "\n",
        "url = \"https://huggingface.co/datasets/jiawennnn/STimage-1K4M/resolve/main/Visium/coord/\"\n",
        "save_dir = \"Visium/coord\"\n",
        "os.makedirs(save_dir, exist_ok=True)  # Ensure the directory exists\n",
        "\n",
        "for coord in coord_files:\n",
        "    save_path = os.path.join(save_dir, coord)\n",
        "\n",
        "    # Check if file already exists\n",
        "    if os.path.exists(save_path):\n",
        "        print(f\"{coord} already exists. Skipping download.\")\n",
        "        continue\n",
        "\n",
        "    # Download the file if it doesn't exist\n",
        "    response = requests.get(url + coord, stream=True)\n",
        "\n",
        "    if response.status_code == 200:\n",
        "        with open(save_path, \"wb\") as file:\n",
        "            for chunk in response.iter_content(chunk_size=1024):  # Download in chunks\n",
        "                file.write(chunk)\n",
        "        print(f\"{coord} downloaded successfully.\")\n",
        "    else:\n",
        "        print(f\"Failed to download {coord}. Status code: {response.status_code}\")\n"
      ]
    },
    {
      "cell_type": "markdown",
      "metadata": {
        "id": "uik0jG7182Qe"
      },
      "source": [
        "# Downloading Images Data"
      ]
    },
    {
      "cell_type": "code",
      "execution_count": 8,
      "metadata": {
        "colab": {
          "base_uri": "https://localhost:8080/"
        },
        "id": "i9Q7SD7Q8p81",
        "outputId": "62e93cff-fc49-4cf9-a4b6-90f367281e0e"
      },
      "outputs": [
        {
          "name": "stdout",
          "output_type": "stream",
          "text": [
            "GSE184510_GSM5591750.png downloaded successfully.\n",
            "Human_Brain_Kwon_10162023_Visium_V10A27106_B1_Br3854.png already exists. Skipping download.\n",
            "Human_Brain_Maynard_02082021_Visium_151675.png downloaded successfully.\n",
            "GSE235672_GSM7507320.png already exists. Skipping download.\n",
            "Human_Brain_Maynard_02082021_Visium_151669.png already exists. Skipping download.\n",
            "GSE235672_GSM7507324.png already exists. Skipping download.\n",
            "Human_Brain_Kwon_10162023_Visium_V10T31036_D1_Br3880.png downloaded successfully.\n",
            "GSE235672_GSM7507319.png already exists. Skipping download.\n",
            "Human_Brain_Louise_02152023_Visium_Br6471_ant.png already exists. Skipping download.\n",
            "Human_Brain_Louise_02152023_Visium_Br6432_ant.png downloaded successfully.\n",
            "Human_Brain_Kwon_10162023_Visium_V10T31036_A1_Br3874.png downloaded successfully.\n",
            "Human_Brain_Maynard_02082021_Visium_151510.png already exists. Skipping download.\n",
            "Human_Brain_Maynard_02082021_Visium_151671.png already exists. Skipping download.\n",
            "Human_Brain_Kwon_10162023_Visium_V10A27004_A1_Br3874.png downloaded successfully.\n",
            "Human_Brain_Louise_02152023_Visium_Br2743_ant.png downloaded successfully.\n",
            "Human_Brain_Kwon_10162023_Visium_V10A27106_C1_Br3873.png downloaded successfully.\n",
            "Human_Brain_Louise_02152023_Visium_Br8667_post.png downloaded successfully.\n",
            "Human_Brain_10X_10272020_Visium_Cerebellum_WholeTranscriptome.png downloaded successfully.\n",
            "GSE184510_GSM5591751.png downloaded successfully.\n",
            "Human_Brain_Kwon_10162023_Visium_V10A27106_A1_Br3874.png already exists. Skipping download.\n",
            "Human_Brain_Louise_02152023_Visium_Br8492_ant.png downloaded successfully.\n",
            "Human_Brain_Louise_02152023_Visium_Br8667_mid.png already exists. Skipping download.\n",
            "Human_Brain_Maynard_02082021_Visium_151672.png downloaded successfully.\n",
            "Human_Brain_Louise_02152023_Visium_Br8492_mid.png downloaded successfully.\n",
            "Human_Brain_Louise_02152023_Visium_Br6423_mid.png already exists. Skipping download.\n",
            "Human_Brain_Maynard_02082021_Visium_151670.png downloaded successfully.\n",
            "Human_Brain_Kwon_10162023_Visium_V10A27004_D1_Br3880.png downloaded successfully.\n",
            "GSE232910_GSM7392324.png downloaded successfully.\n",
            "Human_Brain_Louise_02152023_Visium_Br2720_post.png downloaded successfully.\n",
            "Human_Brain_Kwon_10162023_Visium_V10A27106_D1_Br3880.png downloaded successfully.\n",
            "GSE235672_GSM7507316.png downloaded successfully.\n",
            "GSE184510_GSM5591755.png downloaded successfully.\n",
            "GSE179572_GSM5420752.png already exists. Skipping download.\n",
            "Human_Brain_Louise_02152023_Visium_Br6423_post.png downloaded successfully.\n",
            "GSE235672_GSM7507318.png downloaded successfully.\n",
            "Human_Brain_Louise_02152023_Visium_Br6522_mid.png already exists. Skipping download.\n",
            "Human_Brain_Louise_02152023_Visium_Br8325_ant.png downloaded successfully.\n",
            "GSE232910_GSM7392327.png already exists. Skipping download.\n",
            "Human_Brain_Maynard_02082021_Visium_151674.png already exists. Skipping download.\n",
            "Human_Brain_Louise_02152023_Visium_Br3942_ant.png already exists. Skipping download.\n",
            "GSE235672_GSM7507311.png downloaded successfully.\n",
            "GSE235672_GSM7507326.png downloaded successfully.\n",
            "GSE179572_GSM5420754.png already exists. Skipping download.\n",
            "Human_Brain_Louise_02152023_Visium_Br8492_post.png downloaded successfully.\n",
            "GSE235672_GSM7507323.png already exists. Skipping download.\n",
            "Human_Brain_Louise_02152023_Visium_Br2743_post.png downloaded successfully.\n",
            "GSE235672_GSM7507313.png downloaded successfully.\n",
            "Human_Brain_Maynard_02082021_Visium_151507.png downloaded successfully.\n",
            "Human_Brain_Maynard_02082021_Visium_151676.png already exists. Skipping download.\n",
            "GSE235672_GSM7507325.png downloaded successfully.\n",
            "Human_Brain_Kwon_10162023_Visium_V10T31036_C1_Br3873.png already exists. Skipping download.\n",
            "Human_Brain_Louise_02152023_Visium_Br2720_mid.png downloaded successfully.\n",
            "GSE235672_GSM7507321.png already exists. Skipping download.\n",
            "Human_Brain_Maynard_02082021_Visium_151508.png downloaded successfully.\n",
            "GSE235672_GSM7507317.png already exists. Skipping download.\n",
            "Human_Brain_Louise_02152023_Visium_Br6522_ant.png downloaded successfully.\n",
            "Human_Brain_10X_10272020_Visium_WholeTranscriptome.png already exists. Skipping download.\n",
            "GSE235672_GSM7507312.png downloaded successfully.\n",
            "Human_Brain_Louise_02152023_Visium_Br8667_ant.png already exists. Skipping download.\n",
            "Human_Brain_Louise_02152023_Visium_Br6432_post.png downloaded successfully.\n",
            "GSE235672_GSM7507315.png already exists. Skipping download.\n",
            "GSE179572_GSM5420753.png already exists. Skipping download.\n",
            "GSE184510_GSM5591748.png already exists. Skipping download.\n",
            "GSE184510_GSM5591749.png already exists. Skipping download.\n",
            "GSE232910_GSM7392325.png already exists. Skipping download.\n",
            "GSE235672_GSM7507314.png already exists. Skipping download.\n",
            "Human_Brain_Louise_02152023_Visium_Br8325_mid.png already exists. Skipping download.\n",
            "Human_Brain_Kwon_10162023_Visium_V10T31036_B1_Br3854.png downloaded successfully.\n",
            "Human_Brain_Louise_02152023_Visium_Br3942_post.png already exists. Skipping download.\n",
            "Human_Brain_Louise_02152023_Visium_Br6432_mid.png already exists. Skipping download.\n",
            "GSE232910_GSM7392326.png downloaded successfully.\n",
            "GSE184510_GSM5591752.png already exists. Skipping download.\n",
            "Human_Brain_Louise_02152023_Visium_Br6423_ant.png downloaded successfully.\n",
            "Human_Brain_Louise_02152023_Visium_Br6522_post.png already exists. Skipping download.\n",
            "GSE232910_GSM7392328.png downloaded successfully.\n",
            "Human_Brain_Louise_02152023_Visium_Br2720_ant.png downloaded successfully.\n",
            "GSE184510_GSM5591753.png downloaded successfully.\n",
            "Human_Brain_Louise_02152023_Visium_Br6471_mid.png already exists. Skipping download.\n",
            "GSE179572_GSM5420750.png downloaded successfully.\n",
            "Human_Brain_Louise_02152023_Visium_Br6471_post.png downloaded successfully.\n",
            "Human_Brain_Maynard_02082021_Visium_151673.png downloaded successfully.\n",
            "Human_Brain_Louise_02152023_Visium_Br3942_mid.png already exists. Skipping download.\n",
            "Human_Brain_Louise_02152023_Visium_Br2743_mid.png already exists. Skipping download.\n",
            "GSE179572_GSM5420749.png downloaded successfully.\n",
            "GSE184510_GSM5591754.png downloaded successfully.\n",
            "GSE235672_GSM7507322.png already exists. Skipping download.\n",
            "GSE179572_GSM5420751.png downloaded successfully.\n",
            "Human_Brain_Maynard_02082021_Visium_151509.png downloaded successfully.\n",
            "Human_Brain_10X_02132023_Visium.png downloaded successfully.\n",
            "Human_Brain_Louise_02152023_Visium_Br8325_post.png already exists. Skipping download.\n"
          ]
        }
      ],
      "source": [
        "import requests\n",
        "import os\n",
        "\n",
        "url = \"https://huggingface.co/datasets/jiawennnn/STimage-1K4M/resolve/main/Visium/image/\"\n",
        "save_dir = \"Visium/image\"\n",
        "os.makedirs(save_dir, exist_ok=True)  # Ensure the directory exists\n",
        "\n",
        "for image in images:\n",
        "    save_path = os.path.join(save_dir, image)\n",
        "\n",
        "    # Check if file already exists\n",
        "    if os.path.exists(save_path):\n",
        "        print(f\"{image} already exists. Skipping download.\")\n",
        "        continue\n",
        "\n",
        "    # Download the file if it doesn't exist\n",
        "    response = requests.get(url + image, stream=True)\n",
        "\n",
        "    if response.status_code == 200:\n",
        "        with open(save_path, \"wb\") as file:\n",
        "            for chunk in response.iter_content(chunk_size=1024):  # Download in chunks\n",
        "                file.write(chunk)\n",
        "        print(f\"{image} downloaded successfully.\")\n",
        "    else:\n",
        "        print(f\"Failed to download {image}. Status code: {response.status_code}\")\n"
      ]
    },
    {
      "cell_type": "code",
      "execution_count": 6,
      "metadata": {
        "id": "ZMzvIYUDC6Zx"
      },
      "outputs": [
        {
          "data": {
            "text/plain": [
              "(90, 11)"
            ]
          },
          "execution_count": 6,
          "metadata": {},
          "output_type": "execute_result"
        }
      ],
      "source": [
        "meta = meta[meta['tissue'] == 'brain']\n",
        "meta = meta[meta['tech'] == 'Visium']\n",
        "meta = meta[meta['species'] == 'human']\n",
        "meta.shape"
      ]
    },
    {
      "cell_type": "code",
      "execution_count": 8,
      "metadata": {},
      "outputs": [
        {
          "name": "stdout",
          "output_type": "stream",
          "text": [
            "brain\n",
            "brain\n",
            "brain\n",
            "brain\n",
            "brain\n",
            "brain\n",
            "brain\n",
            "brain\n",
            "brain\n",
            "brain\n",
            "brain\n",
            "brain\n",
            "brain\n",
            "brain\n",
            "brain\n",
            "brain\n",
            "brain\n",
            "brain\n",
            "brain\n",
            "brain\n",
            "brain\n",
            "brain\n",
            "brain\n",
            "brain\n",
            "brain\n",
            "brain\n",
            "brain\n",
            "brain\n",
            "brain\n",
            "brain\n",
            "brain\n",
            "brain\n",
            "brain\n",
            "brain\n",
            "brain\n",
            "brain\n",
            "brain\n",
            "brain\n",
            "brain\n",
            "brain\n",
            "brain\n",
            "brain\n",
            "brain\n",
            "brain\n",
            "brain\n",
            "brain\n",
            "brain\n",
            "brain\n",
            "brain\n",
            "brain\n",
            "brain\n",
            "brain\n",
            "brain\n",
            "brain\n",
            "brain\n",
            "brain\n",
            "brain\n",
            "brain\n",
            "brain\n",
            "brain\n",
            "brain\n",
            "brain\n",
            "brain\n",
            "brain\n",
            "brain\n",
            "brain\n",
            "brain\n",
            "brain\n",
            "brain\n",
            "brain\n",
            "brain\n",
            "brain\n",
            "brain\n",
            "brain\n",
            "brain\n",
            "brain\n",
            "brain\n",
            "brain\n",
            "brain\n",
            "brain\n",
            "brain\n",
            "brain\n",
            "brain\n",
            "brain\n",
            "brain\n",
            "brain\n",
            "brain\n",
            "brain\n",
            "brain\n",
            "brain\n"
          ]
        },
        {
          "data": {
            "text/plain": [
              "90"
            ]
          },
          "execution_count": 8,
          "metadata": {},
          "output_type": "execute_result"
        }
      ],
      "source": [
        "for tissue in meta['tissue'] :\n",
        "    print(tissue)\n",
        "len(meta['tissue'])"
      ]
    }
  ],
  "metadata": {
    "colab": {
      "name": "Welcome To Colab",
      "provenance": []
    },
    "kernelspec": {
      "display_name": "venv",
      "language": "python",
      "name": "python3"
    },
    "language_info": {
      "codemirror_mode": {
        "name": "ipython",
        "version": 3
      },
      "file_extension": ".py",
      "mimetype": "text/x-python",
      "name": "python",
      "nbconvert_exporter": "python",
      "pygments_lexer": "ipython3",
      "version": "3.12.7"
    }
  },
  "nbformat": 4,
  "nbformat_minor": 0
}
