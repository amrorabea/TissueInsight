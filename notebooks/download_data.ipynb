{
  "cells": [
    {
      "cell_type": "markdown",
      "metadata": {
        "id": "v_lDWz2J8J_q"
      },
      "source": [
        "# Libraries"
      ]
    },
    {
      "cell_type": "code",
      "execution_count": 1,
      "metadata": {
        "id": "BUvFF9wcpebn"
      },
      "outputs": [],
      "source": [
        "import pandas as pd\n",
        "import numpy as np "
      ]
    },
    {
      "cell_type": "markdown",
      "metadata": {
        "id": "A4uq_OvH8M-W"
      },
      "source": [
        "# Preparing Metadata"
      ]
    },
    {
      "cell_type": "code",
      "execution_count": 2,
      "metadata": {
        "colab": {
          "base_uri": "https://localhost:8080/"
        },
        "id": "3noRKcGEpmO2",
        "outputId": "9a4a2f2b-2692-4e3e-e84c-2230c578e1c3"
      },
      "outputs": [
        {
          "data": {
            "text/plain": [
              "(37, 11)"
            ]
          },
          "execution_count": 2,
          "metadata": {},
          "output_type": "execute_result"
        }
      ],
      "source": [
        "meta = pd.read_csv('meta_all_gene.csv')\n",
        "meta = meta[meta['tech'] == 'Visium']\n",
        "meta = meta[meta['species'] == 'human']\n",
        "meta = meta[meta['tissue'] == 'skin']\n",
        "meta.shape"
      ]
    },
    {
      "cell_type": "code",
      "execution_count": 3,
      "metadata": {
        "colab": {
          "base_uri": "https://localhost:8080/"
        },
        "id": "a9fiMXInprOs",
        "outputId": "a83dfb75-07bd-4552-bab3-d97bcc3ce847"
      },
      "outputs": [
        {
          "name": "stdout",
          "output_type": "stream",
          "text": [
            "DONE: GSE144239_GSM4565823\n",
            "DONE: GSE144239_GSM4565824\n",
            "DONE: GSE144239_GSM4565825\n",
            "DONE: GSE144239_GSM4565826\n",
            "DONE: GSE173651_GSM5273010\n",
            "DONE: GSE173651_GSM5273011\n",
            "DONE: GSE173651_GSM5273012\n",
            "DONE: GSE173651_GSM5273013\n",
            "DONE: GSE173651_GSM5273014\n",
            "DONE: GSE173651_GSM5273015\n",
            "DONE: GSE182208_GSM5531131\n",
            "DONE: GSE197023_GSM5907077\n",
            "DONE: GSE197023_GSM5907078\n",
            "DONE: GSE197023_GSM5907079\n",
            "DONE: GSE197023_GSM5907080\n",
            "DONE: GSE197023_GSM5907081\n",
            "DONE: GSE197023_GSM5907082\n",
            "DONE: GSE197023_GSM5907083\n",
            "DONE: GSE197023_GSM5907084\n",
            "DONE: GSE197023_GSM5907085\n",
            "DONE: GSE197023_GSM5907086\n"
          ]
        },
        {
          "data": {
            "text/plain": [
              "['GSE144239_GSM4565823',\n",
              " 'GSE144239_GSM4565824',\n",
              " 'GSE144239_GSM4565825',\n",
              " 'GSE144239_GSM4565826',\n",
              " 'GSE173651_GSM5273010',\n",
              " 'GSE173651_GSM5273011',\n",
              " 'GSE173651_GSM5273012',\n",
              " 'GSE173651_GSM5273013',\n",
              " 'GSE173651_GSM5273014',\n",
              " 'GSE173651_GSM5273015',\n",
              " 'GSE182208_GSM5531131',\n",
              " 'GSE197023_GSM5907077',\n",
              " 'GSE197023_GSM5907078',\n",
              " 'GSE197023_GSM5907079',\n",
              " 'GSE197023_GSM5907080',\n",
              " 'GSE197023_GSM5907081',\n",
              " 'GSE197023_GSM5907082',\n",
              " 'GSE197023_GSM5907083',\n",
              " 'GSE197023_GSM5907084',\n",
              " 'GSE197023_GSM5907085',\n",
              " 'GSE197023_GSM5907086']"
            ]
          },
          "execution_count": 3,
          "metadata": {},
          "output_type": "execute_result"
        }
      ],
      "source": [
        "tissues = meta['tissue'].unique()\n",
        "target_names = []\n",
        "for tissue in tissues:\n",
        "    cnt = 0\n",
        "    for slide in meta['slide'][meta['tissue'] == tissue]:\n",
        "        if cnt > 20:\n",
        "            break\n",
        "        target_names.append(slide)\n",
        "        cnt += 1\n",
        "        print(f\"DONE: {slide}\")\n",
        "target_names"
      ]
    },
    {
      "cell_type": "code",
      "execution_count": 4,
      "metadata": {
        "id": "zrtHkyRu0JEQ"
      },
      "outputs": [],
      "source": [
        "gene_files = {f\"{name}_count.csv\" for name in target_names}\n",
        "images = {f\"{name}.png\" for name in target_names}\n",
        "coord_files = {f\"{name}_coord.csv\" for name in target_names}\n",
        "endings = [\"gene_exp\", \"image\", \"coord\"]\n",
        "files = [gene_files, images, coord_files]"
      ]
    },
    {
      "cell_type": "markdown",
      "metadata": {
        "id": "m9Wq5-E58Uef"
      },
      "source": [
        "# Downloading Data"
      ]
    },
    {
      "cell_type": "code",
      "execution_count": null,
      "metadata": {},
      "outputs": [
        {
          "name": "stdout",
          "output_type": "stream",
          "text": [
            "GSE197023_GSM5907084_count.csv downloaded successfully.\n"
          ]
        }
      ],
      "source": [
        "import requests\n",
        "import os\n",
        "\n",
        "for i in range(0, 3):\n",
        "    \n",
        "    url = f\"https://huggingface.co/datasets/jiawennnn/STimage-1K4M/resolve/main/Visium/{endings[i]}/\"\n",
        "    save_dir = f\"../data/Visium/{endings[i]}\"\n",
        "    os.makedirs(save_dir, exist_ok=True)  # Ensure the directory exists\n",
        "\n",
        "    for file in files[i]:\n",
        "        save_path = os.path.join(save_dir, file)\n",
        "    \n",
        "        # Check if file already exists\n",
        "        if os.path.exists(save_path):\n",
        "            print(f\"{file} already exists. Skipping download.\")\n",
        "            continue\n",
        "\n",
        "        # Download the file if it doesn't exist\n",
        "        response = requests.get(url + file, stream=True)\n",
        "\n",
        "        if response.status_code == 200:\n",
        "            with open(save_path, \"wb\") as saved_file:\n",
        "                for chunk in response.iter_content(chunk_size=1024):  # Download in chunks\n",
        "                    saved_file.write(chunk)\n",
        "            print(f\"{file} downloaded successfully.\")\n",
        "        else:\n",
        "            print(f\"Failed to download {file}. Status code: {response.status_code}\")\n"
      ]
    }
  ],
  "metadata": {
    "colab": {
      "name": "Welcome To Colab",
      "provenance": []
    },
    "kernelspec": {
      "display_name": "Python 3",
      "language": "python",
      "name": "python3"
    },
    "language_info": {
      "codemirror_mode": {
        "name": "ipython",
        "version": 3
      },
      "file_extension": ".py",
      "mimetype": "text/x-python",
      "name": "python",
      "nbconvert_exporter": "python",
      "pygments_lexer": "ipython3",
      "version": "3.12.6"
    }
  },
  "nbformat": 4,
  "nbformat_minor": 0
}
