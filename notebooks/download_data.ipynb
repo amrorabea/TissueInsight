{
  "cells": [
    {
      "cell_type": "markdown",
      "metadata": {
        "id": "v_lDWz2J8J_q"
      },
      "source": [
        "# Libraries"
      ]
    },
    {
      "cell_type": "code",
      "execution_count": null,
      "metadata": {
        "id": "BUvFF9wcpebn"
      },
      "outputs": [],
      "source": [
        "import pandas as pd\n",
        "import numpy as np "
      ]
    },
    {
      "cell_type": "markdown",
      "metadata": {
        "id": "A4uq_OvH8M-W"
      },
      "source": [
        "# Preparing Metadata"
      ]
    },
    {
      "cell_type": "code",
      "execution_count": 3,
      "metadata": {
        "colab": {
          "base_uri": "https://localhost:8080/"
        },
        "id": "3noRKcGEpmO2",
        "outputId": "9a4a2f2b-2692-4e3e-e84c-2230c578e1c3"
      },
      "outputs": [
        {
          "data": {
            "text/plain": [
              "(90, 11)"
            ]
          },
          "execution_count": 3,
          "metadata": {},
          "output_type": "execute_result"
        }
      ],
      "source": [
        "meta = pd.read_csv('meta_all_gene.csv')\n",
        "meta = meta[meta['tech'] == 'Visium']\n",
        "meta = meta[meta['species'] == 'human']\n",
        "meta.shape"
      ]
    },
    {
      "cell_type": "code",
      "execution_count": 4,
      "metadata": {
        "colab": {
          "base_uri": "https://localhost:8080/"
        },
        "id": "a9fiMXInprOs",
        "outputId": "a83dfb75-07bd-4552-bab3-d97bcc3ce847"
      },
      "outputs": [
        {
          "data": {
            "text/plain": [
              "{'GSE179572_GSM5420749',\n",
              " 'GSE179572_GSM5420750',\n",
              " 'GSE179572_GSM5420751',\n",
              " 'GSE179572_GSM5420752',\n",
              " 'GSE179572_GSM5420753',\n",
              " 'GSE179572_GSM5420754',\n",
              " 'GSE184510_GSM5591748',\n",
              " 'GSE184510_GSM5591749',\n",
              " 'GSE184510_GSM5591750',\n",
              " 'GSE184510_GSM5591751',\n",
              " 'GSE184510_GSM5591752',\n",
              " 'GSE184510_GSM5591753',\n",
              " 'GSE184510_GSM5591754',\n",
              " 'GSE184510_GSM5591755',\n",
              " 'GSE232910_GSM7392324',\n",
              " 'GSE232910_GSM7392325',\n",
              " 'GSE232910_GSM7392326',\n",
              " 'GSE232910_GSM7392327',\n",
              " 'GSE232910_GSM7392328',\n",
              " 'GSE235672_GSM7507311',\n",
              " 'GSE235672_GSM7507312',\n",
              " 'GSE235672_GSM7507313',\n",
              " 'GSE235672_GSM7507314',\n",
              " 'GSE235672_GSM7507315',\n",
              " 'GSE235672_GSM7507316',\n",
              " 'GSE235672_GSM7507317',\n",
              " 'GSE235672_GSM7507318',\n",
              " 'GSE235672_GSM7507319',\n",
              " 'GSE235672_GSM7507320',\n",
              " 'GSE235672_GSM7507321',\n",
              " 'GSE235672_GSM7507322',\n",
              " 'GSE235672_GSM7507323',\n",
              " 'GSE235672_GSM7507324',\n",
              " 'GSE235672_GSM7507325',\n",
              " 'GSE235672_GSM7507326',\n",
              " 'Human_Brain_10X_02132023_Visium',\n",
              " 'Human_Brain_10X_10272020_Visium_Cerebellum_WholeTranscriptome',\n",
              " 'Human_Brain_10X_10272020_Visium_WholeTranscriptome',\n",
              " 'Human_Brain_Kwon_10162023_Visium_V10A27004_A1_Br3874',\n",
              " 'Human_Brain_Kwon_10162023_Visium_V10A27004_D1_Br3880',\n",
              " 'Human_Brain_Kwon_10162023_Visium_V10A27106_A1_Br3874',\n",
              " 'Human_Brain_Kwon_10162023_Visium_V10A27106_B1_Br3854',\n",
              " 'Human_Brain_Kwon_10162023_Visium_V10A27106_C1_Br3873',\n",
              " 'Human_Brain_Kwon_10162023_Visium_V10A27106_D1_Br3880',\n",
              " 'Human_Brain_Kwon_10162023_Visium_V10T31036_A1_Br3874',\n",
              " 'Human_Brain_Kwon_10162023_Visium_V10T31036_B1_Br3854',\n",
              " 'Human_Brain_Kwon_10162023_Visium_V10T31036_C1_Br3873',\n",
              " 'Human_Brain_Kwon_10162023_Visium_V10T31036_D1_Br3880',\n",
              " 'Human_Brain_Louise_02152023_Visium_Br2720_ant',\n",
              " 'Human_Brain_Louise_02152023_Visium_Br2720_mid',\n",
              " 'Human_Brain_Louise_02152023_Visium_Br2720_post',\n",
              " 'Human_Brain_Louise_02152023_Visium_Br2743_ant',\n",
              " 'Human_Brain_Louise_02152023_Visium_Br2743_mid',\n",
              " 'Human_Brain_Louise_02152023_Visium_Br2743_post',\n",
              " 'Human_Brain_Louise_02152023_Visium_Br3942_ant',\n",
              " 'Human_Brain_Louise_02152023_Visium_Br3942_mid',\n",
              " 'Human_Brain_Louise_02152023_Visium_Br3942_post',\n",
              " 'Human_Brain_Louise_02152023_Visium_Br6423_ant',\n",
              " 'Human_Brain_Louise_02152023_Visium_Br6423_mid',\n",
              " 'Human_Brain_Louise_02152023_Visium_Br6423_post',\n",
              " 'Human_Brain_Louise_02152023_Visium_Br6432_ant',\n",
              " 'Human_Brain_Louise_02152023_Visium_Br6432_mid',\n",
              " 'Human_Brain_Louise_02152023_Visium_Br6432_post',\n",
              " 'Human_Brain_Louise_02152023_Visium_Br6471_ant',\n",
              " 'Human_Brain_Louise_02152023_Visium_Br6471_mid',\n",
              " 'Human_Brain_Louise_02152023_Visium_Br6471_post',\n",
              " 'Human_Brain_Louise_02152023_Visium_Br6522_ant',\n",
              " 'Human_Brain_Louise_02152023_Visium_Br6522_mid',\n",
              " 'Human_Brain_Louise_02152023_Visium_Br6522_post',\n",
              " 'Human_Brain_Louise_02152023_Visium_Br8325_ant',\n",
              " 'Human_Brain_Louise_02152023_Visium_Br8325_mid',\n",
              " 'Human_Brain_Louise_02152023_Visium_Br8325_post',\n",
              " 'Human_Brain_Louise_02152023_Visium_Br8492_ant',\n",
              " 'Human_Brain_Louise_02152023_Visium_Br8492_mid',\n",
              " 'Human_Brain_Louise_02152023_Visium_Br8492_post',\n",
              " 'Human_Brain_Louise_02152023_Visium_Br8667_ant',\n",
              " 'Human_Brain_Louise_02152023_Visium_Br8667_mid',\n",
              " 'Human_Brain_Louise_02152023_Visium_Br8667_post',\n",
              " 'Human_Brain_Maynard_02082021_Visium_151507',\n",
              " 'Human_Brain_Maynard_02082021_Visium_151508',\n",
              " 'Human_Brain_Maynard_02082021_Visium_151509',\n",
              " 'Human_Brain_Maynard_02082021_Visium_151510',\n",
              " 'Human_Brain_Maynard_02082021_Visium_151669',\n",
              " 'Human_Brain_Maynard_02082021_Visium_151670',\n",
              " 'Human_Brain_Maynard_02082021_Visium_151671',\n",
              " 'Human_Brain_Maynard_02082021_Visium_151672',\n",
              " 'Human_Brain_Maynard_02082021_Visium_151673',\n",
              " 'Human_Brain_Maynard_02082021_Visium_151674',\n",
              " 'Human_Brain_Maynard_02082021_Visium_151675',\n",
              " 'Human_Brain_Maynard_02082021_Visium_151676'}"
            ]
          },
          "execution_count": 4,
          "metadata": {},
          "output_type": "execute_result"
        }
      ],
      "source": [
        "tissues = meta['tissue'].unique()\n",
        "target_names = []\n",
        "for tissue in tissues:\n",
        "    cnt = 0\n",
        "    for slide in meta['slide'][meta['tissue'] == tissue]:\n",
        "        if cnt > 20:\n",
        "            break\n",
        "        target_names.append(slide)\n",
        "        cnt += 1\n",
        "        print(f\"DONE: {slide}\")\n",
        "target_names"
      ]
    },
    {
      "cell_type": "code",
      "execution_count": 5,
      "metadata": {
        "id": "zrtHkyRu0JEQ"
      },
      "outputs": [],
      "source": [
        "gene_files = {f\"{name}_count.csv\" for name in target_names}\n",
        "images = {f\"{name}.png\" for name in target_names}\n",
        "coord_files = {f\"{name}_coord.csv\" for name in target_names}\n",
        "endings = [\"gene_exp\", \"image\", \"coord\"]\n",
        "files = [gene_files, images, coord_files]"
      ]
    },
    {
      "cell_type": "markdown",
      "metadata": {
        "id": "m9Wq5-E58Uef"
      },
      "source": [
        "# Downloading Data"
      ]
    },
    {
      "cell_type": "code",
      "execution_count": null,
      "metadata": {},
      "outputs": [],
      "source": [
        "import requests\n",
        "import os\n",
        "\n",
        "for i in range(0, 3):\n",
        "    \n",
        "    url = f\"https://huggingface.co/datasets/jiawennnn/STimage-1K4M/resolve/main/Visium/{endings[i]}/\"\n",
        "    save_dir = f\"../data/Visium/{endings[i]}\"\n",
        "    os.makedirs(save_dir, exist_ok=True)  # Ensure the directory exists\n",
        "\n",
        "    for file in files[i]:\n",
        "        save_path = os.path.join(save_dir, file)\n",
        "    \n",
        "        # Check if file already exists\n",
        "        if os.path.exists(save_path):\n",
        "            print(f\"{file} already exists. Skipping download.\")\n",
        "            continue\n",
        "\n",
        "        # Download the file if it doesn't exist\n",
        "        response = requests.get(url + file, stream=True)\n",
        "\n",
        "        if response.status_code == 200:\n",
        "            with open(save_path, \"wb\") as saved_file:\n",
        "                for chunk in response.iter_content(chunk_size=1024):  # Download in chunks\n",
        "                    saved_file.write(chunk)\n",
        "            print(f\"{file} downloaded successfully.\")\n",
        "        else:\n",
        "            print(f\"Failed to download {file}. Status code: {response.status_code}\")\n"
      ]
    }
  ],
  "metadata": {
    "colab": {
      "name": "Welcome To Colab",
      "provenance": []
    },
    "kernelspec": {
      "display_name": "venv",
      "language": "python",
      "name": "python3"
    },
    "language_info": {
      "codemirror_mode": {
        "name": "ipython",
        "version": 3
      },
      "file_extension": ".py",
      "mimetype": "text/x-python",
      "name": "python",
      "nbconvert_exporter": "python",
      "pygments_lexer": "ipython3",
      "version": "3.12.7"
    }
  },
  "nbformat": 4,
  "nbformat_minor": 0
}
